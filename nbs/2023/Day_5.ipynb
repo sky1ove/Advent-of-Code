{
 "cells": [
  {
   "cell_type": "code",
   "execution_count": 2,
   "metadata": {
    "colab": {
     "base_uri": "https://localhost:8080/"
    },
    "id": "6-S7nnoslK8f",
    "outputId": "e93b9d36-5abb-4d45-e433-bd24e05b63e0"
   },
   "outputs": [
    {
     "name": "stdout",
     "output_type": "stream",
     "text": [
      "Collecting advent-of-code-data[nb]\n",
      "  Downloading advent_of_code_data-2.0.4-py3-none-any.whl.metadata (11 kB)\n",
      "Requirement already satisfied: beautifulsoup4 in /usr/local/lib/python3.10/dist-packages (from advent-of-code-data[nb]) (4.12.3)\n",
      "Collecting pebble (from advent-of-code-data[nb])\n",
      "  Downloading Pebble-5.1.0-py3-none-any.whl.metadata (3.6 kB)\n",
      "Requirement already satisfied: urllib3 in /usr/local/lib/python3.10/dist-packages (from advent-of-code-data[nb]) (2.2.3)\n",
      "Collecting aocd-example-parser>=2023.2 (from advent-of-code-data[nb])\n",
      "  Downloading aocd_example_parser-2023.12.20-py3-none-any.whl.metadata (8.9 kB)\n",
      "Requirement already satisfied: IPython in /usr/local/lib/python3.10/dist-packages (from advent-of-code-data[nb]) (7.34.0)\n",
      "Requirement already satisfied: jupyter-server in /usr/local/lib/python3.10/dist-packages (from advent-of-code-data[nb]) (1.24.0)\n",
      "Requirement already satisfied: soupsieve>1.2 in /usr/local/lib/python3.10/dist-packages (from beautifulsoup4->advent-of-code-data[nb]) (2.6)\n",
      "Requirement already satisfied: setuptools>=18.5 in /usr/local/lib/python3.10/dist-packages (from IPython->advent-of-code-data[nb]) (75.1.0)\n",
      "Collecting jedi>=0.16 (from IPython->advent-of-code-data[nb])\n",
      "  Downloading jedi-0.19.2-py2.py3-none-any.whl.metadata (22 kB)\n",
      "Requirement already satisfied: decorator in /usr/local/lib/python3.10/dist-packages (from IPython->advent-of-code-data[nb]) (4.4.2)\n",
      "Requirement already satisfied: pickleshare in /usr/local/lib/python3.10/dist-packages (from IPython->advent-of-code-data[nb]) (0.7.5)\n",
      "Requirement already satisfied: traitlets>=4.2 in /usr/local/lib/python3.10/dist-packages (from IPython->advent-of-code-data[nb]) (5.7.1)\n",
      "Requirement already satisfied: prompt-toolkit!=3.0.0,!=3.0.1,<3.1.0,>=2.0.0 in /usr/local/lib/python3.10/dist-packages (from IPython->advent-of-code-data[nb]) (3.0.48)\n",
      "Requirement already satisfied: pygments in /usr/local/lib/python3.10/dist-packages (from IPython->advent-of-code-data[nb]) (2.18.0)\n",
      "Requirement already satisfied: backcall in /usr/local/lib/python3.10/dist-packages (from IPython->advent-of-code-data[nb]) (0.2.0)\n",
      "Requirement already satisfied: matplotlib-inline in /usr/local/lib/python3.10/dist-packages (from IPython->advent-of-code-data[nb]) (0.1.7)\n",
      "Requirement already satisfied: pexpect>4.3 in /usr/local/lib/python3.10/dist-packages (from IPython->advent-of-code-data[nb]) (4.9.0)\n",
      "Requirement already satisfied: anyio<4,>=3.1.0 in /usr/local/lib/python3.10/dist-packages (from jupyter-server->advent-of-code-data[nb]) (3.7.1)\n",
      "Requirement already satisfied: argon2-cffi in /usr/local/lib/python3.10/dist-packages (from jupyter-server->advent-of-code-data[nb]) (23.1.0)\n",
      "Requirement already satisfied: jinja2 in /usr/local/lib/python3.10/dist-packages (from jupyter-server->advent-of-code-data[nb]) (3.1.4)\n",
      "Requirement already satisfied: jupyter-client>=6.1.12 in /usr/local/lib/python3.10/dist-packages (from jupyter-server->advent-of-code-data[nb]) (6.1.12)\n",
      "Requirement already satisfied: jupyter-core!=5.0.*,>=4.12 in /usr/local/lib/python3.10/dist-packages (from jupyter-server->advent-of-code-data[nb]) (5.7.2)\n",
      "Requirement already satisfied: nbconvert>=6.4.4 in /usr/local/lib/python3.10/dist-packages (from jupyter-server->advent-of-code-data[nb]) (7.16.4)\n",
      "Requirement already satisfied: nbformat>=5.2.0 in /usr/local/lib/python3.10/dist-packages (from jupyter-server->advent-of-code-data[nb]) (5.10.4)\n",
      "Requirement already satisfied: packaging in /usr/local/lib/python3.10/dist-packages (from jupyter-server->advent-of-code-data[nb]) (24.2)\n",
      "Requirement already satisfied: prometheus-client in /usr/local/lib/python3.10/dist-packages (from jupyter-server->advent-of-code-data[nb]) (0.21.1)\n",
      "Requirement already satisfied: pyzmq>=17 in /usr/local/lib/python3.10/dist-packages (from jupyter-server->advent-of-code-data[nb]) (24.0.1)\n",
      "Requirement already satisfied: Send2Trash in /usr/local/lib/python3.10/dist-packages (from jupyter-server->advent-of-code-data[nb]) (1.8.3)\n",
      "Requirement already satisfied: terminado>=0.8.3 in /usr/local/lib/python3.10/dist-packages (from jupyter-server->advent-of-code-data[nb]) (0.18.1)\n",
      "Requirement already satisfied: tornado>=6.1.0 in /usr/local/lib/python3.10/dist-packages (from jupyter-server->advent-of-code-data[nb]) (6.3.3)\n",
      "Requirement already satisfied: websocket-client in /usr/local/lib/python3.10/dist-packages (from jupyter-server->advent-of-code-data[nb]) (1.8.0)\n",
      "Requirement already satisfied: idna>=2.8 in /usr/local/lib/python3.10/dist-packages (from anyio<4,>=3.1.0->jupyter-server->advent-of-code-data[nb]) (3.10)\n",
      "Requirement already satisfied: sniffio>=1.1 in /usr/local/lib/python3.10/dist-packages (from anyio<4,>=3.1.0->jupyter-server->advent-of-code-data[nb]) (1.3.1)\n",
      "Requirement already satisfied: exceptiongroup in /usr/local/lib/python3.10/dist-packages (from anyio<4,>=3.1.0->jupyter-server->advent-of-code-data[nb]) (1.2.2)\n",
      "Requirement already satisfied: parso<0.9.0,>=0.8.4 in /usr/local/lib/python3.10/dist-packages (from jedi>=0.16->IPython->advent-of-code-data[nb]) (0.8.4)\n",
      "Requirement already satisfied: python-dateutil>=2.1 in /usr/local/lib/python3.10/dist-packages (from jupyter-client>=6.1.12->jupyter-server->advent-of-code-data[nb]) (2.8.2)\n",
      "Requirement already satisfied: platformdirs>=2.5 in /usr/local/lib/python3.10/dist-packages (from jupyter-core!=5.0.*,>=4.12->jupyter-server->advent-of-code-data[nb]) (4.3.6)\n",
      "Requirement already satisfied: bleach!=5.0.0 in /usr/local/lib/python3.10/dist-packages (from nbconvert>=6.4.4->jupyter-server->advent-of-code-data[nb]) (6.2.0)\n",
      "Requirement already satisfied: defusedxml in /usr/local/lib/python3.10/dist-packages (from nbconvert>=6.4.4->jupyter-server->advent-of-code-data[nb]) (0.7.1)\n",
      "Requirement already satisfied: jupyterlab-pygments in /usr/local/lib/python3.10/dist-packages (from nbconvert>=6.4.4->jupyter-server->advent-of-code-data[nb]) (0.3.0)\n",
      "Requirement already satisfied: markupsafe>=2.0 in /usr/local/lib/python3.10/dist-packages (from nbconvert>=6.4.4->jupyter-server->advent-of-code-data[nb]) (3.0.2)\n",
      "Requirement already satisfied: mistune<4,>=2.0.3 in /usr/local/lib/python3.10/dist-packages (from nbconvert>=6.4.4->jupyter-server->advent-of-code-data[nb]) (3.0.2)\n",
      "Requirement already satisfied: nbclient>=0.5.0 in /usr/local/lib/python3.10/dist-packages (from nbconvert>=6.4.4->jupyter-server->advent-of-code-data[nb]) (0.10.1)\n",
      "Requirement already satisfied: pandocfilters>=1.4.1 in /usr/local/lib/python3.10/dist-packages (from nbconvert>=6.4.4->jupyter-server->advent-of-code-data[nb]) (1.5.1)\n",
      "Requirement already satisfied: tinycss2 in /usr/local/lib/python3.10/dist-packages (from nbconvert>=6.4.4->jupyter-server->advent-of-code-data[nb]) (1.4.0)\n",
      "Requirement already satisfied: fastjsonschema>=2.15 in /usr/local/lib/python3.10/dist-packages (from nbformat>=5.2.0->jupyter-server->advent-of-code-data[nb]) (2.21.1)\n",
      "Requirement already satisfied: jsonschema>=2.6 in /usr/local/lib/python3.10/dist-packages (from nbformat>=5.2.0->jupyter-server->advent-of-code-data[nb]) (4.23.0)\n",
      "Requirement already satisfied: ptyprocess>=0.5 in /usr/local/lib/python3.10/dist-packages (from pexpect>4.3->IPython->advent-of-code-data[nb]) (0.7.0)\n",
      "Requirement already satisfied: wcwidth in /usr/local/lib/python3.10/dist-packages (from prompt-toolkit!=3.0.0,!=3.0.1,<3.1.0,>=2.0.0->IPython->advent-of-code-data[nb]) (0.2.13)\n",
      "Requirement already satisfied: argon2-cffi-bindings in /usr/local/lib/python3.10/dist-packages (from argon2-cffi->jupyter-server->advent-of-code-data[nb]) (21.2.0)\n",
      "Requirement already satisfied: webencodings in /usr/local/lib/python3.10/dist-packages (from bleach!=5.0.0->nbconvert>=6.4.4->jupyter-server->advent-of-code-data[nb]) (0.5.1)\n",
      "Requirement already satisfied: attrs>=22.2.0 in /usr/local/lib/python3.10/dist-packages (from jsonschema>=2.6->nbformat>=5.2.0->jupyter-server->advent-of-code-data[nb]) (24.2.0)\n",
      "Requirement already satisfied: jsonschema-specifications>=2023.03.6 in /usr/local/lib/python3.10/dist-packages (from jsonschema>=2.6->nbformat>=5.2.0->jupyter-server->advent-of-code-data[nb]) (2024.10.1)\n",
      "Requirement already satisfied: referencing>=0.28.4 in /usr/local/lib/python3.10/dist-packages (from jsonschema>=2.6->nbformat>=5.2.0->jupyter-server->advent-of-code-data[nb]) (0.35.1)\n",
      "Requirement already satisfied: rpds-py>=0.7.1 in /usr/local/lib/python3.10/dist-packages (from jsonschema>=2.6->nbformat>=5.2.0->jupyter-server->advent-of-code-data[nb]) (0.22.3)\n",
      "Requirement already satisfied: six>=1.5 in /usr/local/lib/python3.10/dist-packages (from python-dateutil>=2.1->jupyter-client>=6.1.12->jupyter-server->advent-of-code-data[nb]) (1.17.0)\n",
      "Requirement already satisfied: cffi>=1.0.1 in /usr/local/lib/python3.10/dist-packages (from argon2-cffi-bindings->argon2-cffi->jupyter-server->advent-of-code-data[nb]) (1.17.1)\n",
      "Requirement already satisfied: pycparser in /usr/local/lib/python3.10/dist-packages (from cffi>=1.0.1->argon2-cffi-bindings->argon2-cffi->jupyter-server->advent-of-code-data[nb]) (2.22)\n",
      "Downloading aocd_example_parser-2023.12.20-py3-none-any.whl (12 kB)\n",
      "Downloading advent_of_code_data-2.0.4-py3-none-any.whl (38 kB)\n",
      "Downloading Pebble-5.1.0-py3-none-any.whl (36 kB)\n",
      "Downloading jedi-0.19.2-py2.py3-none-any.whl (1.6 MB)\n",
      "\u001b[2K   \u001b[90m━━━━━━━━━━━━━━━━━━━━━━━━━━━━━━━━━━━━━━━━\u001b[0m \u001b[32m1.6/1.6 MB\u001b[0m \u001b[31m20.8 MB/s\u001b[0m eta \u001b[36m0:00:00\u001b[0m\n",
      "\u001b[?25hInstalling collected packages: pebble, jedi, aocd-example-parser, advent-of-code-data\n",
      "Successfully installed advent-of-code-data-2.0.4 aocd-example-parser-2023.12.20 jedi-0.19.2 pebble-5.1.0\n"
     ]
    }
   ],
   "source": [
    "pip install 'advent-of-code-data[nb]'"
   ]
  },
  {
   "cell_type": "code",
   "execution_count": 7,
   "metadata": {
    "id": "ldeKoyIols_d"
   },
   "outputs": [],
   "source": [
    "import os\n",
    "os.environ['AOC_SESSION'] = \"53616c7465645f5ffc51b1b4030426e2eb3ee5d5406f6e51f3a56c32ca9649e34ee45d8d8faceeb1d781fc4d6352b3ba2c0d868e7c2de79192d8ebb9787d1eca\""
   ]
  },
  {
   "cell_type": "code",
   "execution_count": 13,
   "metadata": {
    "id": "_xZk5hxNlfVg"
   },
   "outputs": [],
   "source": [
    "from aocd import get_data\n",
    "from dataclasses import dataclass"
   ]
  },
  {
   "cell_type": "code",
   "execution_count": 8,
   "metadata": {
    "id": "FLPMW3Lnlg_P"
   },
   "outputs": [],
   "source": [
    "data = get_data(day=5,year=2024)"
   ]
  },
  {
   "cell_type": "code",
   "execution_count": 27,
   "metadata": {
    "colab": {
     "base_uri": "https://localhost:8080/"
    },
    "id": "WI3u_bXelCjM",
    "outputId": "15aa8555-cbb5-4f5a-8412-d74e7118edb8"
   },
   "outputs": [
    {
     "data": {
      "text/plain": [
       "[MyClass(src=15, length=5)]"
      ]
     },
     "execution_count": 27,
     "metadata": {},
     "output_type": "execute_result"
    }
   ],
   "source": [
    "from dataclasses import dataclass\n",
    "\n",
    "@dataclass\n",
    "class MyClass:\n",
    "    src: int\n",
    "    length: int\n",
    "\n",
    "    def get_range(self):\n",
    "        \"\"\"Get the range as (start, end).\"\"\"\n",
    "        return self.src, self.src + self.length\n",
    "\n",
    "    def cut_to_overlap(self, reference):\n",
    "        \"\"\"Cut this object to fit within the reference object's range.\"\"\"\n",
    "        ref_start, ref_end = reference.get_range()\n",
    "        obj_start, obj_end = self.get_range()\n",
    "\n",
    "        # Calculate the overlapping range\n",
    "        overlap_start = max(ref_start, obj_start)\n",
    "        overlap_end = min(ref_end, obj_end)\n",
    "\n",
    "        # If there's no overlap, return None\n",
    "        if overlap_start >= overlap_end:\n",
    "            return None\n",
    "\n",
    "        # Create a new object with the overlapping range\n",
    "        return MyClass(overlap_start, overlap_end - overlap_start)\n",
    "\n",
    "\n",
    "def get_uncovered_parts(reference_obj, other_objects):\n",
    "    \"\"\"Get the parts of the reference object not covered by other objects.\"\"\"\n",
    "    ref_start, ref_end = reference_obj.get_range()\n",
    "    uncovered_parts = []\n",
    "\n",
    "    # Start with the entire reference range\n",
    "    current_ranges = [(ref_start, ref_end)]\n",
    "\n",
    "    # Process all overlapping objects to subtract their ranges from the reference range\n",
    "    for obj in other_objects:\n",
    "        obj_start, obj_end = obj.get_range()\n",
    "        new_ranges = []\n",
    "        for start, end in current_ranges:\n",
    "            # No overlap, keep the current range\n",
    "            if obj_end <= start or obj_start >= end:\n",
    "                new_ranges.append((start, end))\n",
    "            else:\n",
    "                # If overlapping, split into uncovered ranges\n",
    "                if obj_start > start:\n",
    "                    new_ranges.append((start, obj_start))\n",
    "                if obj_end < end:\n",
    "                    new_ranges.append((obj_end, end))\n",
    "        current_ranges = new_ranges\n",
    "\n",
    "    # Convert the remaining ranges into MyClass objects\n",
    "    for start, end in current_ranges:\n",
    "        uncovered_parts.append(MyClass(start, end - start))\n",
    "\n",
    "    return uncovered_parts\n",
    "\n",
    "\n",
    "# Example usage\n",
    "reference = MyClass(10, 20)  # Reference object: src=10, length=20\n",
    "other_objects = [\n",
    "    MyClass(5, 10),   # Partially overlaps\n",
    "    MyClass(20, 10),  # Overlaps fully within the reference\n",
    "    MyClass(30, 10)   # Does not overlap\n",
    "]\n",
    "\n",
    "# Get the uncovered parts of the reference object\n",
    "uncovered_parts = get_uncovered_parts(reference, other_objects)\n",
    "\n",
    "uncovered_parts\n"
   ]
  },
  {
   "cell_type": "code",
   "execution_count": 16,
   "metadata": {
    "colab": {
     "base_uri": "https://localhost:8080/"
    },
    "id": "Y4xIf1sMoPbB",
    "outputId": "4e5484e6-2372-493a-af48-51ba45b71a6c"
   },
   "outputs": [
    {
     "data": {
      "text/plain": [
       "[MyClass(src=10, length=5),\n",
       " MyClass(src=15, length=10),\n",
       " MyClass(src=25, length=5)]"
      ]
     },
     "execution_count": 16,
     "metadata": {},
     "output_type": "execute_result"
    }
   ],
   "source": [
    "overlapping"
   ]
  },
  {
   "cell_type": "code",
   "execution_count": 22,
   "metadata": {
    "colab": {
     "base_uri": "https://localhost:8080/"
    },
    "id": "aiC_dEnnoqhI",
    "outputId": "0c53e6bf-a2d2-4225-cb56-cb4754645e11"
   },
   "outputs": [
    {
     "data": {
      "text/plain": [
       "(10, 15)"
      ]
     },
     "execution_count": 22,
     "metadata": {},
     "output_type": "execute_result"
    }
   ],
   "source": [
    "overlapping[0].get_range()"
   ]
  },
  {
   "cell_type": "code",
   "execution_count": 44,
   "metadata": {
    "id": "Ukyl8emwpKAG"
   },
   "outputs": [],
   "source": [
    "from dataclasses import dataclass\n",
    "\n",
    "@dataclass\n",
    "class MyClass:\n",
    "    src: int\n",
    "    dest: int\n",
    "    length: int\n",
    "\n",
    "    def get_range(self):\n",
    "        \"\"\"Get the range as (start, end) in the src context.\"\"\"\n",
    "        return self.src, self.src + self.length\n",
    "\n",
    "    def cut_to_overlap(self, reference):\n",
    "        \"\"\"Cut this object to fit within the reference object's range.\"\"\"\n",
    "        ref_start, ref_end = reference.get_range()\n",
    "        obj_start, obj_end = self.get_range()\n",
    "\n",
    "        # Calculate the overlapping range\n",
    "        overlap_start = max(ref_start, obj_start)\n",
    "        overlap_end = min(ref_end, obj_end)\n",
    "\n",
    "        # If there's no overlap, return None\n",
    "        if overlap_start >= overlap_end:\n",
    "            return None\n",
    "\n",
    "        # Calculate the corresponding dest range for the overlap\n",
    "        overlap_length = overlap_end - overlap_start\n",
    "        dest_overlap_start = self.dest + (overlap_start - obj_start)\n",
    "\n",
    "        # Create a new object with the overlapping range in the dest context\n",
    "        return MyClass(overlap_start, dest_overlap_start, overlap_length)\n",
    "\n",
    "\n",
    "def get_uncovered_parts(reference_obj, other_objects):\n",
    "    \"\"\"Get the parts of the reference object not covered by other objects.\"\"\"\n",
    "    ref_start, ref_end = reference_obj.get_range()\n",
    "    uncovered_parts = []\n",
    "\n",
    "    # Start with the entire reference range\n",
    "    current_ranges = [(ref_start, ref_end)]\n",
    "\n",
    "    # Process all overlapping objects to subtract their ranges from the reference range\n",
    "    for obj in other_objects:\n",
    "        obj_start, obj_end = obj.get_range()\n",
    "        new_ranges = []\n",
    "        for start, end in current_ranges:\n",
    "            # No overlap, keep the current range\n",
    "            if obj_end <= start or obj_start >= end:\n",
    "                new_ranges.append((start, end))\n",
    "            else:\n",
    "                # If overlapping, split into uncovered ranges\n",
    "                if obj_start > start:\n",
    "                    new_ranges.append((start, obj_start))\n",
    "                if obj_end < end:\n",
    "                    new_ranges.append((obj_end, end))\n",
    "        current_ranges = new_ranges\n",
    "\n",
    "    # Convert the remaining ranges into MyClass objects (in src context only)\n",
    "    for start, end in current_ranges:\n",
    "        uncovered_parts.append(MyClass(start, None, end - start))\n",
    "\n",
    "    return uncovered_parts\n",
    "\n",
    "\n",
    "def separate_and_convert_to_dest(reference_obj, other_objects):\n",
    "    \"\"\"Get the overlapping parts in the dest context.\"\"\"\n",
    "    overlapping_dest_objects = []\n",
    "\n",
    "    for obj in other_objects:\n",
    "        cut_obj = obj.cut_to_overlap(reference_obj)\n",
    "        if cut_obj:\n",
    "            overlapping_dest_objects.append(cut_obj)\n",
    "\n",
    "    return overlapping_dest_objects\n",
    "\n",
    "\n",
    "# Example usage\n",
    "reference = MyClass(10, 0, 20)  # Reference object: src=10, dest=0, length=20\n",
    "other_objects = [\n",
    "    MyClass(5, 100, 10),   # Partially overlaps\n",
    "    MyClass(20, 200, 10),  # Overlaps fully\n",
    "    MyClass(25, 300, 10),  # Does not overlap\n",
    "]\n",
    "\n",
    "# Get the overlapping parts converted to dest context\n",
    "overlapping_dest_objects = separate_and_convert_to_dest(reference, other_objects)\n",
    "\n",
    "# Get the uncovered parts in src context\n",
    "uncovered_parts = get_uncovered_parts(reference, other_objects)"
   ]
  },
  {
   "cell_type": "code",
   "execution_count": 45,
   "metadata": {
    "colab": {
     "base_uri": "https://localhost:8080/"
    },
    "id": "FaajIBWIrAit",
    "outputId": "51e64ebb-e06b-4fc6-8b22-303459eba5fd"
   },
   "outputs": [
    {
     "data": {
      "text/plain": [
       "[MyClass(src=10, dest=105, length=5),\n",
       " MyClass(src=20, dest=200, length=10),\n",
       " MyClass(src=25, dest=300, length=5)]"
      ]
     },
     "execution_count": 45,
     "metadata": {},
     "output_type": "execute_result"
    }
   ],
   "source": [
    "overlapping_dest_objects"
   ]
  },
  {
   "cell_type": "code",
   "execution_count": 46,
   "metadata": {
    "colab": {
     "base_uri": "https://localhost:8080/"
    },
    "id": "Zlm0cLawr-ED",
    "outputId": "914f2a3f-d37b-45c8-d2c8-583b9f66bfb7"
   },
   "outputs": [
    {
     "data": {
      "text/plain": [
       "[MyClass(src=15, dest=None, length=5)]"
      ]
     },
     "execution_count": 46,
     "metadata": {},
     "output_type": "execute_result"
    }
   ],
   "source": [
    "uncovered_parts"
   ]
  },
  {
   "cell_type": "code",
   "execution_count": 32,
   "metadata": {
    "id": "T5PoUetorYgs"
   },
   "outputs": [],
   "source": [
    "from fastcore.utils import L"
   ]
  },
  {
   "cell_type": "code",
   "execution_count": 34,
   "metadata": {
    "id": "pGHD7TgTrBTU"
   },
   "outputs": [],
   "source": [
    "lines = L([[50, 98, 2], [52, 50, 48]],[[0, 15, 37], [37, 52, 2], [39, 0, 15]],[[49, 53, 8], [0, 11, 42], [42, 0, 7], [57, 7, 4]],[[88, 18, 7], [18, 25, 70]],[[45, 77, 23], [81, 45, 19], [68, 64, 13]],[[0, 69, 1], [1, 0, 69]],[[60, 56, 37], [56, 93, 4]])"
   ]
  },
  {
   "cell_type": "code",
   "execution_count": 36,
   "metadata": {
    "colab": {
     "base_uri": "https://localhost:8080/"
    },
    "id": "wImA2vljrT4i",
    "outputId": "73be19f0-9c1c-491f-d600-af6bc67eb6c1"
   },
   "outputs": [
    {
     "data": {
      "text/plain": [
       "(#7) [[MyClass(src=98, dest=50, length=2), MyClass(src=50, dest=52, length=48)],[MyClass(src=15, dest=0, length=37), MyClass(src=52, dest=37, length=2), MyClass(src=0, dest=39, length=15)],[MyClass(src=53, dest=49, length=8), MyClass(src=11, dest=0, length=42), MyClass(src=0, dest=42, length=7), MyClass(src=7, dest=57, length=4)],[MyClass(src=18, dest=88, length=7), MyClass(src=25, dest=18, length=70)],[MyClass(src=77, dest=45, length=23), MyClass(src=45, dest=81, length=19), MyClass(src=64, dest=68, length=13)],[MyClass(src=69, dest=0, length=1), MyClass(src=0, dest=1, length=69)],[MyClass(src=56, dest=60, length=37), MyClass(src=93, dest=56, length=4)]]"
      ]
     },
     "execution_count": 36,
     "metadata": {},
     "output_type": "execute_result"
    }
   ],
   "source": [
    "object_lines = lines.map(lambda x: L(x).starmap(lambda dest,src,length: MyClass(src,dest,length)))\n",
    "object_lines"
   ]
  },
  {
   "cell_type": "code",
   "execution_count": 37,
   "metadata": {
    "id": "kYZ5rFQorqK8"
   },
   "outputs": [],
   "source": [
    "seed = [79,14,55,13]"
   ]
  },
  {
   "cell_type": "code",
   "execution_count": 63,
   "metadata": {
    "id": "WDtw_cP0rzM2"
   },
   "outputs": [],
   "source": [
    "def convert_for_next_round(objects):\n",
    "    \"\"\"\n",
    "    Convert objects for the next round by updating src to dest,\n",
    "    and clearing dest (if dest is None, src remains unchanged).\n",
    "    \"\"\"\n",
    "    converted_objects = []\n",
    "    for obj in objects:\n",
    "        new_src = obj.dest if obj.dest is not None else obj.src\n",
    "        converted_objects.append(MyClass(src=new_src, dest=None, length=obj.length))\n",
    "    return converted_objects\n",
    "\n",
    "def process_round(current_objects, new_objects):\n",
    "    \"\"\"\n",
    "    Process a single round of comparison, including overlap and uncovered calculations.\n",
    "    \"\"\"\n",
    "    # Treat the current objects as the reference for this round\n",
    "    reference_objects = current_objects\n",
    "\n",
    "    # Find overlapping parts in the dest context\n",
    "    merged_results = []\n",
    "    for ref_obj in reference_objects:\n",
    "        ref_overlapping = separate_and_convert_to_dest(ref_obj, new_objects)\n",
    "        ref_uncovered = get_uncovered_parts(ref_obj, new_objects)\n",
    "\n",
    "        # Merge overlapping and uncovered parts for this reference object\n",
    "        merged_results.extend(ref_overlapping + ref_uncovered)\n",
    "\n",
    "    return merged_results\n",
    "\n",
    "\n",
    "\n",
    "# Combine overlapping and uncovered objects for conversion\n",
    "converted_objects = convert_for_next_round(overlapping_dest_objects + uncovered_parts)\n",
    "\n",
    "# New objects for the next round\n",
    "new_objects_next_round = [\n",
    "    MyClass(100, 400, 10),\n",
    "    MyClass(110, 410, 10),\n",
    "    MyClass(120, 420, 10),\n",
    "]\n",
    "\n",
    "# Process the next round\n",
    "out = process_round(converted_objects, new_objects_next_round)\n"
   ]
  },
  {
   "cell_type": "code",
   "execution_count": 64,
   "metadata": {
    "colab": {
     "base_uri": "https://localhost:8080/"
    },
    "id": "WVWREVSFtxAy",
    "outputId": "4ca132c1-3db7-4f1c-ee2a-141808547bda"
   },
   "outputs": [
    {
     "data": {
      "text/plain": [
       "[MyClass(src=105, dest=405, length=5),\n",
       " MyClass(src=200, dest=None, length=10),\n",
       " MyClass(src=300, dest=None, length=5),\n",
       " MyClass(src=15, dest=None, length=5)]"
      ]
     },
     "execution_count": 64,
     "metadata": {},
     "output_type": "execute_result"
    }
   ],
   "source": [
    "out"
   ]
  },
  {
   "cell_type": "code",
   "execution_count": 75,
   "metadata": {
    "colab": {
     "base_uri": "https://localhost:8080/"
    },
    "id": "pYf-gtvGu78K",
    "outputId": "5432781b-5361-44db-8b92-2fd899d8fbbc"
   },
   "outputs": [
    {
     "data": {
      "text/plain": [
       "46"
      ]
     },
     "execution_count": 75,
     "metadata": {},
     "output_type": "execute_result"
    }
   ],
   "source": [
    "def process_all_rounds(rounds, references):\n",
    "    \"\"\"\n",
    "    Process all rounds of conversion with multiple references.\n",
    "\n",
    "    Args:\n",
    "        rounds: List of lists of MyClass objects (7 rounds of objects).\n",
    "        references: List of MyClass reference objects.\n",
    "\n",
    "    Returns:\n",
    "        Dictionary: Overlapping objects for each reference (keyed by their src values).\n",
    "    \"\"\"\n",
    "    results = {}  # Dynamically store results for each reference\n",
    "\n",
    "    for i, round_objects in enumerate(rounds):\n",
    "        print(f\"Processing Round {i + 1}...\")\n",
    "\n",
    "        # Process each reference independently\n",
    "        new_references = []\n",
    "        for ref in references:\n",
    "            # Ensure the reference's src is in results\n",
    "            if ref.src not in results:\n",
    "                results[ref.src] = []\n",
    "\n",
    "            overlapping, uncovered = process_round([ref], round_objects)\n",
    "\n",
    "            # Append overlapping objects to results for this reference\n",
    "            results[ref.src].extend(overlapping)\n",
    "\n",
    "            # Update references for the next round\n",
    "            # Convert overlapping objects for next round (src = dest)\n",
    "            converted_overlapping = convert_for_next_round(overlapping)\n",
    "            new_references.extend(converted_overlapping)\n",
    "\n",
    "            # Keep uncovered parts as they are\n",
    "            new_references.extend(uncovered)\n",
    "\n",
    "        # Update references for the next round\n",
    "        references = new_references\n",
    "\n",
    "    return results\n",
    "\n",
    "\n",
    "def process_all_rounds(rounds, references):\n",
    "    \"\"\"\n",
    "    Process all rounds of conversion with multiple references.\n",
    "\n",
    "    Args:\n",
    "        rounds: List of lists of MyClass objects (7 rounds of objects).\n",
    "        references: List of MyClass reference objects.\n",
    "\n",
    "    Returns:\n",
    "        Dictionary: Overlapping objects for each reference (keyed by their src values).\n",
    "    \"\"\"\n",
    "    results = {}  # Dynamically store results for each reference\n",
    "\n",
    "    for i, round_objects in enumerate(rounds):\n",
    "        print(f\"Processing Round {i + 1}...\")\n",
    "\n",
    "        # Process each reference independently\n",
    "        new_references = []\n",
    "        for ref in references:\n",
    "            print(ref,'aa')\n",
    "            # Ensure the reference's src is in results\n",
    "            if ref.src not in results:\n",
    "                results[ref.src] = []\n",
    "\n",
    "            # Process the round and get merged results (both overlapping and uncovered)\n",
    "            merged_results = process_round([ref], round_objects)\n",
    "\n",
    "            # Append all results to the corresponding reference's results\n",
    "            results[ref.src].extend(merged_results)\n",
    "\n",
    "            # Convert all merged results for the next round\n",
    "            converted_results = convert_for_next_round(merged_results)\n",
    "            new_references.extend(converted_results)\n",
    "\n",
    "        # Update references for the next round with all converted results\n",
    "        references = new_references\n",
    "\n",
    "    return min([o.src for o in references])\n",
    "\n",
    "\n",
    "def process_all_rounds(rounds, references):\n",
    "    \"\"\"\n",
    "    Process all rounds of conversion with multiple references and return the minimum src value.\n",
    "\n",
    "    Args:\n",
    "        rounds: List of lists of MyClass objects (7 rounds of objects).\n",
    "        references: List of MyClass reference objects.\n",
    "\n",
    "    Returns:\n",
    "        int: Minimum src value from the final references after all rounds.\n",
    "    \"\"\"\n",
    "    for i, round_objects in enumerate(rounds):\n",
    "        # print(f\"Processing Round {i + 1}...\")\n",
    "\n",
    "        # Process each reference independently\n",
    "        new_references = []\n",
    "        for ref in references:\n",
    "            # print(ref)\n",
    "\n",
    "            # Process the round and get merged results (both overlapping and uncovered)\n",
    "            merged_results = process_round([ref], round_objects)\n",
    "\n",
    "            # Convert all merged results for the next round\n",
    "            converted_results = convert_for_next_round(merged_results)\n",
    "            new_references.extend(converted_results)\n",
    "\n",
    "        # Update references for the next round with all converted results\n",
    "        references = new_references\n",
    "\n",
    "    # Return the minimum src value from the final references\n",
    "    return min([o.src for o in references])\n",
    "\n",
    "\n",
    "# Example input\n",
    "\n",
    "rounds = [\n",
    "    [MyClass(src=98, dest=50, length=2), MyClass(src=50, dest=52, length=48)],\n",
    "    [MyClass(src=15, dest=0, length=37), MyClass(src=52, dest=37, length=2), MyClass(src=0, dest=39, length=15)],\n",
    "    [MyClass(src=53, dest=49, length=8), MyClass(src=11, dest=0, length=42), MyClass(src=0, dest=42, length=7), MyClass(src=7, dest=57, length=4)],\n",
    "    [MyClass(src=18, dest=88, length=7), MyClass(src=25, dest=18, length=70)],\n",
    "    [MyClass(src=77, dest=45, length=23), MyClass(src=45, dest=81, length=19), MyClass(src=64, dest=68, length=13)],\n",
    "    [MyClass(src=69, dest=0, length=1), MyClass(src=0, dest=1, length=69)],\n",
    "    [MyClass(src=56, dest=60, length=37), MyClass(src=93, dest=56, length=4)],\n",
    "]\n",
    "\n",
    "\n",
    "# Two reference inputs\n",
    "references = [\n",
    "    MyClass(src=79, dest=None, length=14),\n",
    "    MyClass(src=55, dest=None, length=13),\n",
    "]\n",
    "\n",
    "# Process all rounds\n",
    "results = process_all_rounds(rounds, references)\n",
    "results"
   ]
  },
  {
   "cell_type": "code",
   "execution_count": 76,
   "metadata": {
    "id": "1RN8KVO3xMxU"
   },
   "outputs": [],
   "source": [
    "def process_input(samp):\n",
    "    seeds,*lines = samp.split('\\n\\n')\n",
    "    seeds = L(seeds.strip().split(':')[1].split()).map(int)\n",
    "    return seeds, linesb"
   ]
  },
  {
   "cell_type": "code",
   "execution_count": 79,
   "metadata": {
    "id": "76oZUDQw5c0q"
   },
   "outputs": [],
   "source": [
    "data =get_data(day=5,year=2023)"
   ]
  },
  {
   "cell_type": "code",
   "execution_count": 82,
   "metadata": {
    "id": "pgbL2NdY5a3N"
   },
   "outputs": [],
   "source": [
    "seeds, lines = process_input(data)"
   ]
  },
  {
   "cell_type": "code",
   "execution_count": 83,
   "metadata": {
    "id": "ze88BdvE5bu6"
   },
   "outputs": [],
   "source": [
    "def process(line): return L(line.split(':')[1].strip().split('\\n')).map(lambda x: L(x.split()).map(int))\n",
    "_lines = L(lines).map(process)"
   ]
  },
  {
   "cell_type": "code",
   "execution_count": 86,
   "metadata": {
    "id": "7CHSu2XM5ps8"
   },
   "outputs": [],
   "source": [
    "object_lines = _lines.map(lambda x: L(x).starmap(lambda dest,src,length: MyClass(src,dest,length)))\n",
    "rounds = object_lines"
   ]
  },
  {
   "cell_type": "code",
   "execution_count": 87,
   "metadata": {
    "colab": {
     "base_uri": "https://localhost:8080/"
    },
    "id": "ba1MD5TH58wA",
    "outputId": "5b675bf8-6c52-4c47-f485-bfca5e3d9b01"
   },
   "outputs": [
    {
     "data": {
      "text/plain": [
       "(#20) [222541566,218404460,670428364,432472902,2728902838,12147727,3962570697,52031641,2849288350,113747257,3648852659,73423293,4036058422,190602154,1931540843,584314999,3344622241,180428346,1301166628,310966761]"
      ]
     },
     "execution_count": 87,
     "metadata": {},
     "output_type": "execute_result"
    }
   ],
   "source": [
    "seeds"
   ]
  },
  {
   "cell_type": "code",
   "execution_count": 88,
   "metadata": {
    "colab": {
     "base_uri": "https://localhost:8080/"
    },
    "id": "Nq8Oo3NZ6SB_",
    "outputId": "0b642da8-5140-4b96-8d91-f123a7b14938"
   },
   "outputs": [
    {
     "data": {
      "text/plain": [
       "(#10) [222541566,670428364,2728902838,3962570697,2849288350,3648852659,4036058422,1931540843,3344622241,1301166628]"
      ]
     },
     "execution_count": 88,
     "metadata": {},
     "output_type": "execute_result"
    }
   ],
   "source": [
    "seeds[::2]"
   ]
  },
  {
   "cell_type": "code",
   "execution_count": 89,
   "metadata": {
    "id": "fJcG1eRd6Nak"
   },
   "outputs": [],
   "source": [
    "references = [\n",
    "    MyClass(src=src, dest=None, length=length)\n",
    "    for src, length in zip(seeds[::2], seeds[1::2])\n",
    "]"
   ]
  },
  {
   "cell_type": "code",
   "execution_count": 90,
   "metadata": {
    "colab": {
     "base_uri": "https://localhost:8080/"
    },
    "id": "O8tiYPB56XbM",
    "outputId": "ab100b1d-fc56-42e4-86e2-c30f74539408"
   },
   "outputs": [
    {
     "data": {
      "text/plain": [
       "27992443"
      ]
     },
     "execution_count": 90,
     "metadata": {},
     "output_type": "execute_result"
    }
   ],
   "source": [
    "# Process all rounds\n",
    "results = process_all_rounds(rounds, references)\n",
    "results"
   ]
  },
  {
   "cell_type": "code",
   "execution_count": null,
   "metadata": {
    "id": "O8oU2oQ26Xs4"
   },
   "outputs": [],
   "source": []
  }
 ],
 "metadata": {
  "colab": {
   "provenance": []
  },
  "kernelspec": {
   "display_name": "Python 3",
   "language": "python",
   "name": "python3"
  },
  "language_info": {
   "codemirror_mode": {
    "name": "ipython",
    "version": 3
   },
   "file_extension": ".py",
   "mimetype": "text/x-python",
   "name": "python",
   "nbconvert_exporter": "python",
   "pygments_lexer": "ipython3",
   "version": "3.10.10"
  }
 },
 "nbformat": 4,
 "nbformat_minor": 4
}
