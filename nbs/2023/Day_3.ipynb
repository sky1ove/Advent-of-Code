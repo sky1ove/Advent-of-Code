{
 "cells": [
  {
   "cell_type": "markdown",
   "metadata": {},
   "source": [
    "## Day3\n",
    "The engine schematic (your puzzle input) consists of a visual representation of the engine. There are lots of numbers and symbols you don't really understand, but apparently any number adjacent to a symbol, even diagonally, is a \"part number\" and should be included in your sum. (Periods (.) do not count as a symbol.)\n",
    "\n",
    "Here is an example engine schematic:\n",
    "```\n",
    "467..114..\n",
    "...*......\n",
    "..35..633.\n",
    "......#...\n",
    "617*......\n",
    ".....+.58.\n",
    "..592.....\n",
    "......755.\n",
    "...$.*....\n",
    ".664.598..\n",
    "```\n",
    "In this schematic, two numbers are not part numbers because they are not adjacent to a symbol: 114 (top right) and 58 (middle right). Every other number is adjacent to a symbol and so is a part number; their sum is 4361.\n",
    "\n",
    "Of course, the actual engine schematic is much larger. What is the sum of all of the part numbers in the engine schematic?"
   ]
  },
  {
   "cell_type": "code",
   "execution_count": null,
   "metadata": {},
   "outputs": [],
   "source": [
    "sample = '''\n",
    "467..114..\n",
    "...*......\n",
    "..35..633.\n",
    "......#...\n",
    "617*......\n",
    ".....+.58.\n",
    "..592.....\n",
    "......755.\n",
    "...$.*....\n",
    ".664.598..\n",
    "'''"
   ]
  },
  {
   "cell_type": "code",
   "execution_count": null,
   "metadata": {},
   "outputs": [],
   "source": [
    "nums = [467,114,35,633,617,58,592,755,664,598]"
   ]
  },
  {
   "cell_type": "code",
   "execution_count": null,
   "metadata": {},
   "outputs": [],
   "source": [
    "nums.remove(114)"
   ]
  },
  {
   "cell_type": "code",
   "execution_count": null,
   "metadata": {},
   "outputs": [],
   "source": [
    "nums.remove(58)"
   ]
  },
  {
   "cell_type": "code",
   "execution_count": null,
   "metadata": {},
   "outputs": [
    {
     "data": {
      "text/plain": [
       "[467, 35, 633, 617, 592, 755, 664, 598]"
      ]
     },
     "execution_count": null,
     "metadata": {},
     "output_type": "execute_result"
    }
   ],
   "source": [
    "nums"
   ]
  },
  {
   "cell_type": "code",
   "execution_count": null,
   "metadata": {},
   "outputs": [
    {
     "data": {
      "text/plain": [
       "4361"
      ]
     },
     "execution_count": null,
     "metadata": {},
     "output_type": "execute_result"
    }
   ],
   "source": [
    "sum(nums)"
   ]
  },
  {
   "cell_type": "markdown",
   "metadata": {},
   "source": [
    "**AI Prompt**\n",
    "\n",
    "what's next?"
   ]
  },
  {
   "cell_type": "markdown",
   "metadata": {},
   "source": [
    "**AI Response**\n",
    "\n",
    "I notice you've worked through the example and successfully calculated the sum of part numbers (4361) after removing the non-part numbers (114 and 58). \n",
    "\n",
    "Now we need to solve this for the actual puzzle input. Would you like to:\n",
    "1. Load and parse the actual input file, or\n",
    "2. First work on creating a function that can automatically detect which numbers are part numbers (adjacent to symbols)?\n",
    "\n",
    "Which would you prefer to tackle first?"
   ]
  },
  {
   "cell_type": "markdown",
   "metadata": {},
   "source": [
    "**AI Prompt**\n",
    "\n",
    "2"
   ]
  },
  {
   "cell_type": "markdown",
   "metadata": {},
   "source": [
    "**AI Response**\n",
    "\n",
    "OK, let's work on creating a function to detect part numbers. Let's break this down into steps:\n",
    "\n",
    "1. First, we need to identify what counts as a symbol (anything except digits and periods)\n",
    "2. Then, we need to check all 8 adjacent positions around each digit of a number\n",
    "3. If any of those positions contains a symbol, the entire number is a part number\n",
    "\n",
    "Would you like to start by writing a function to identify symbols? We could create a simple helper function that returns True if a character is a symbol.\n",
    "\n",
    "Would you like to try writing this function first?"
   ]
  },
  {
   "cell_type": "code",
   "execution_count": null,
   "metadata": {},
   "outputs": [],
   "source": [
    "a = '.....+.58.'"
   ]
  },
  {
   "cell_type": "code",
   "execution_count": null,
   "metadata": {},
   "outputs": [
    {
     "data": {
      "text/plain": [
       "[]"
      ]
     },
     "execution_count": null,
     "metadata": {},
     "output_type": "execute_result"
    }
   ],
   "source": [
    "[o for o in a if a.isdigit()]"
   ]
  },
  {
   "cell_type": "code",
   "execution_count": null,
   "metadata": {},
   "outputs": [
    {
     "data": {
      "text/plain": [
       "['.', '.', '.', '.', '.', '+', '.', '5', '8', '.']"
      ]
     },
     "execution_count": null,
     "metadata": {},
     "output_type": "execute_result"
    }
   ],
   "source": [
    "[o for o in a]"
   ]
  },
  {
   "cell_type": "code",
   "execution_count": null,
   "metadata": {},
   "outputs": [
    {
     "name": "stdout",
     "output_type": "stream",
     "text": [
      "False\n",
      "False\n",
      "False\n",
      "False\n",
      "False\n",
      "False\n",
      "False\n",
      "False\n",
      "False\n",
      "False\n"
     ]
    }
   ],
   "source": [
    "for o in a:\n",
    "    print(a.isdigit())"
   ]
  },
  {
   "cell_type": "code",
   "execution_count": null,
   "metadata": {},
   "outputs": [
    {
     "name": "stdout",
     "output_type": "stream",
     "text": [
      "False\n",
      "False\n",
      "False\n",
      "False\n",
      "False\n",
      "False\n",
      "False\n",
      "False\n",
      "False\n",
      "False\n"
     ]
    }
   ],
   "source": [
    "for o in a:\n",
    "    print(a.isnumeric())"
   ]
  },
  {
   "cell_type": "markdown",
   "metadata": {},
   "source": [
    "**AI Prompt**\n",
    "\n",
    "how to know if it is a symbol"
   ]
  },
  {
   "cell_type": "markdown",
   "metadata": {},
   "source": [
    "**AI Response**\n",
    "\n",
    "I notice you're trying to check digits, but you're using `a.isdigit()` which checks the whole string. Let's check each character individually. \n",
    "\n",
    "To identify a symbol, we need something that is:\n",
    "- Not a digit (0-9)\n",
    "- Not a period (.)\n",
    "\n",
    "Here's a way to test one character:\n",
    "\n",
    "```python\n",
    "def is_symbol(char):\n",
    "    return not (char.isdigit() or char == '.')\n",
    "```\n",
    "\n",
    "Would you like to try this function on some sample characters to see if it works?"
   ]
  },
  {
   "cell_type": "code",
   "execution_count": null,
   "metadata": {},
   "outputs": [
    {
     "data": {
      "text/plain": [
       "['5', '8']"
      ]
     },
     "execution_count": null,
     "metadata": {},
     "output_type": "execute_result"
    }
   ],
   "source": [
    "[o for o in a if o.isdigit()]"
   ]
  },
  {
   "cell_type": "code",
   "execution_count": null,
   "metadata": {},
   "outputs": [
    {
     "data": {
      "text/plain": [
       "['.', '.', '.', '.', '.', '+', '.', '.']"
      ]
     },
     "execution_count": null,
     "metadata": {},
     "output_type": "execute_result"
    }
   ],
   "source": [
    "[o for o in a if not o.isdigit()]"
   ]
  },
  {
   "cell_type": "code",
   "execution_count": null,
   "metadata": {},
   "outputs": [
    {
     "data": {
      "text/plain": [
       "['.', '.', '.', '.', '.', '+', '.', '5', '8', '.']"
      ]
     },
     "execution_count": null,
     "metadata": {},
     "output_type": "execute_result"
    }
   ],
   "source": [
    "[o for o in a if not o.isdigit() or o!='.']"
   ]
  },
  {
   "cell_type": "code",
   "execution_count": null,
   "metadata": {},
   "outputs": [
    {
     "data": {
      "text/plain": [
       "['.', '.', '.', '.', '.', '+', '.', '.']"
      ]
     },
     "execution_count": null,
     "metadata": {},
     "output_type": "execute_result"
    }
   ],
   "source": [
    "[o for o in a if not o.isdigit() or o=='.']"
   ]
  },
  {
   "cell_type": "code",
   "execution_count": null,
   "metadata": {},
   "outputs": [
    {
     "data": {
      "text/plain": [
       "['+', '5', '8']"
      ]
     },
     "execution_count": null,
     "metadata": {},
     "output_type": "execute_result"
    }
   ],
   "source": [
    "[o for o in a if o!='.']"
   ]
  },
  {
   "cell_type": "code",
   "execution_count": null,
   "metadata": {},
   "outputs": [
    {
     "data": {
      "text/plain": [
       "['+']"
      ]
     },
     "execution_count": null,
     "metadata": {},
     "output_type": "execute_result"
    }
   ],
   "source": [
    "[o for o in a if not o.isdigit() and o!='.']"
   ]
  },
  {
   "cell_type": "code",
   "execution_count": null,
   "metadata": {},
   "outputs": [],
   "source": [
    "def is_symbol(char):\n",
    "    return not (char.isdigit() or char == '.')"
   ]
  },
  {
   "cell_type": "code",
   "execution_count": null,
   "metadata": {},
   "outputs": [
    {
     "data": {
      "text/plain": [
       "True"
      ]
     },
     "execution_count": null,
     "metadata": {},
     "output_type": "execute_result"
    }
   ],
   "source": [
    "is_symbol(a)"
   ]
  },
  {
   "cell_type": "code",
   "execution_count": null,
   "metadata": {},
   "outputs": [
    {
     "name": "stdout",
     "output_type": "stream",
     "text": [
      ".\n",
      "False\n",
      ".\n",
      "False\n",
      ".\n",
      "False\n",
      ".\n",
      "False\n",
      ".\n",
      "False\n",
      "+\n",
      "True\n",
      ".\n",
      "False\n",
      "5\n",
      "False\n",
      "8\n",
      "False\n",
      ".\n",
      "False\n"
     ]
    }
   ],
   "source": [
    "for o in a:\n",
    "    print(o)\n",
    "    print(is_symbol(o))"
   ]
  },
  {
   "cell_type": "markdown",
   "metadata": {},
   "source": [
    "**AI Prompt**\n",
    "\n",
    "what's next?"
   ]
  },
  {
   "cell_type": "markdown",
   "metadata": {},
   "source": [
    "**AI Response**\n",
    "\n",
    "Great! You've successfully created and tested the is_symbol function. Now we need to:\n",
    "\n",
    "1. Check all 8 positions around a number for symbols (up, down, left, right, and all diagonals)\n",
    "2. First though, we need to convert our input into a format where we can easily access positions. A 2D list/grid might work well here.\n",
    "\n",
    "Would you like to try converting the sample input into a 2D grid first? We can use the sample string we had earlier and split it into rows.\n",
    "\n",
    "Would you like to try this, or would you like some hints on how to do it?"
   ]
  },
  {
   "cell_type": "markdown",
   "metadata": {},
   "source": [
    "**AI Prompt**\n",
    "\n",
    "give me some hints on how to do it"
   ]
  },
  {
   "cell_type": "markdown",
   "metadata": {},
   "source": [
    "**AI Response**\n",
    "\n",
    "Here are some hints for converting the input into a 2D grid:\n",
    "\n",
    "1. First, look at the sample string - notice it has newlines (\\n) between rows\n",
    "2. You can use `.strip()` to remove any extra whitespace/newlines at the start/end\n",
    "3. Then `.split('\\n')` will give you a list of rows\n",
    "4. Each row is a string that you can treat like a list of characters\n",
    "\n",
    "Would you like to try using these hints to create the grid from our sample input? We can test it with a small print statement to make sure it looks right."
   ]
  },
  {
   "cell_type": "code",
   "execution_count": null,
   "metadata": {},
   "outputs": [
    {
     "data": {
      "text/plain": [
       "'\\n467..114..\\n...*......\\n..35..633.\\n......#...\\n617*......\\n.....+.58.\\n..592.....\\n......755.\\n...$.*....\\n.664.598..\\n'"
      ]
     },
     "execution_count": null,
     "metadata": {},
     "output_type": "execute_result"
    }
   ],
   "source": [
    "sample"
   ]
  },
  {
   "cell_type": "code",
   "execution_count": null,
   "metadata": {},
   "outputs": [
    {
     "data": {
      "text/plain": [
       "'\\n467..114..\\n...*......\\n..35..633.\\n......#...\\n617*......\\n.....+.58.\\n..592.....\\n......755.\\n...$.*....\\n.664.598..\\n'"
      ]
     },
     "execution_count": null,
     "metadata": {},
     "output_type": "execute_result"
    }
   ],
   "source": [
    "sample"
   ]
  },
  {
   "cell_type": "code",
   "execution_count": null,
   "metadata": {},
   "outputs": [
    {
     "data": {
      "text/plain": [
       "'467..114..\\n...*......\\n..35..633.\\n......#...\\n617*......\\n.....+.58.\\n..592.....\\n......755.\\n...$.*....\\n.664.598..'"
      ]
     },
     "execution_count": null,
     "metadata": {},
     "output_type": "execute_result"
    }
   ],
   "source": [
    "sample.strip()"
   ]
  },
  {
   "cell_type": "code",
   "execution_count": null,
   "metadata": {},
   "outputs": [
    {
     "data": {
      "text/plain": [
       "['467..114..',\n",
       " '...*......',\n",
       " '..35..633.',\n",
       " '......#...',\n",
       " '617*......',\n",
       " '.....+.58.',\n",
       " '..592.....',\n",
       " '......755.',\n",
       " '...$.*....',\n",
       " '.664.598..']"
      ]
     },
     "execution_count": null,
     "metadata": {},
     "output_type": "execute_result"
    }
   ],
   "source": [
    "sample.strip().splitlines()"
   ]
  },
  {
   "cell_type": "code",
   "execution_count": null,
   "metadata": {},
   "outputs": [],
   "source": [
    "def preprocess_raw(inp):\n",
    "    return inp.strip().splitlines()"
   ]
  },
  {
   "cell_type": "code",
   "execution_count": null,
   "metadata": {},
   "outputs": [
    {
     "data": {
      "text/plain": [
       "['467..114..',\n",
       " '...*......',\n",
       " '..35..633.',\n",
       " '......#...',\n",
       " '617*......',\n",
       " '.....+.58.',\n",
       " '..592.....',\n",
       " '......755.',\n",
       " '...$.*....',\n",
       " '.664.598..']"
      ]
     },
     "execution_count": null,
     "metadata": {},
     "output_type": "execute_result"
    }
   ],
   "source": [
    "preprocess_raw(sample)"
   ]
  },
  {
   "cell_type": "markdown",
   "metadata": {},
   "source": [
    "**AI Prompt**\n",
    "\n",
    "what's next?"
   ]
  },
  {
   "cell_type": "markdown",
   "metadata": {},
   "source": [
    "**AI Response**\n",
    "\n",
    "Great! You've got the grid structure set up. Now we need to find numbers and check if they're adjacent to symbols.\n",
    "\n",
    "For each number, we'll need to:\n",
    "1. Find where it starts and ends in a row\n",
    "2. Check all positions around those digits for symbols (including diagonals)\n",
    "\n",
    "Would you like to start by writing code to find the numbers in a row? We could write a function that takes a row string and returns the positions of all numbers in it.\n",
    "\n",
    "Would you like to try this, or would you like some hints?"
   ]
  },
  {
   "cell_type": "code",
   "execution_count": null,
   "metadata": {},
   "outputs": [],
   "source": [
    "def get_row_digit_position(row):\n",
    "    indexes=[]\n",
    "    for char in row:\n",
    "        if char.isdigit():\n",
    "            indexes.append(row.index(char))"
   ]
  },
  {
   "cell_type": "code",
   "execution_count": null,
   "metadata": {},
   "outputs": [],
   "source": [
    "get_row_digit_position('.2....456')"
   ]
  },
  {
   "cell_type": "code",
   "execution_count": null,
   "metadata": {},
   "outputs": [],
   "source": [
    "def get_row_digit_position(row):\n",
    "    indexes=[]\n",
    "    for char in row:\n",
    "        if char.isdigit():\n",
    "            indexes.append(row.index(char))\n",
    "    return indexes"
   ]
  },
  {
   "cell_type": "code",
   "execution_count": null,
   "metadata": {},
   "outputs": [
    {
     "data": {
      "text/plain": [
       "[1, 6, 7, 8]"
      ]
     },
     "execution_count": null,
     "metadata": {},
     "output_type": "execute_result"
    }
   ],
   "source": [
    "get_row_digit_position('.2....456')"
   ]
  },
  {
   "cell_type": "markdown",
   "metadata": {},
   "source": [
    "**AI Prompt**\n",
    "\n",
    "what's next?"
   ]
  },
  {
   "cell_type": "markdown",
   "metadata": {},
   "source": [
    "**AI Response**\n",
    "\n",
    "I notice that your function has a small issue - using `row.index(char)` will always give you the first occurrence of a digit in the string. For example, if you had '..22..', both 2's would show the same position.\n",
    "\n",
    "Let's modify the function to track the actual position as we go through the string. Would you like to try this approach:\n",
    "1. Use `enumerate()` to get both the character and its position\n",
    "2. Store both the position and the digit when we find one\n",
    "\n",
    "Would you like to try modifying your function, or would you like some hints?"
   ]
  },
  {
   "cell_type": "code",
   "execution_count": null,
   "metadata": {},
   "outputs": [],
   "source": [
    "def get_row_digit_position(row):\n",
    "    indexes=[]\n",
    "    for index, char in enumerate(row):\n",
    "        if char.isdigit():\n",
    "            indexes.append(index)\n",
    "    return indexes"
   ]
  },
  {
   "cell_type": "code",
   "execution_count": null,
   "metadata": {},
   "outputs": [
    {
     "data": {
      "text/plain": [
       "[2, 3]"
      ]
     },
     "execution_count": null,
     "metadata": {},
     "output_type": "execute_result"
    }
   ],
   "source": [
    "get_row_digit_position('..22..')"
   ]
  },
  {
   "cell_type": "markdown",
   "metadata": {},
   "source": [
    "**AI Prompt**\n",
    "\n",
    "modified, what's next?"
   ]
  },
  {
   "cell_type": "markdown",
   "metadata": {},
   "source": [
    "**AI Response**\n",
    "\n",
    "Great! Now we need to identify complete numbers, not just individual digits. For example, in '..22..' we want to know that there's one number (22) at positions 2-3, not two separate digits.\n",
    "\n",
    "We need to look for consecutive digits and group them together. When we find a digit, we should:\n",
    "1. Check if it's connected to the previous digit\n",
    "2. If yes, add it to that number\n",
    "3. If no, start a new number\n",
    "\n",
    "Would you like to try modifying your function to group consecutive digits, or would you like some hints on how to do this?"
   ]
  },
  {
   "cell_type": "markdown",
   "metadata": {},
   "source": [
    "**AI Prompt**\n",
    "\n",
    "give me a hint to modify the function"
   ]
  },
  {
   "cell_type": "markdown",
   "metadata": {},
   "source": [
    "**AI Response**\n",
    "\n",
    "Here's a hint: \n",
    "You can detect if digits are part of the same number by checking if their positions are consecutive. \n",
    "\n",
    "For example, if you have the indexes [2,3,6,7,8]:\n",
    "- 2 and 3 are consecutive (difference of 1) so they're one number\n",
    "- Then there's a gap\n",
    "- 6,7,8 are consecutive so they're another number\n",
    "\n",
    "You might want to:\n",
    "1. Keep track of the start position of the current number\n",
    "2. When you find a gap (difference > 1), that means the previous number is complete\n",
    "3. Store both the start and end positions of each complete number\n",
    "\n",
    "Would you like to try implementing this, or would you like more specific hints?"
   ]
  },
  {
   "cell_type": "markdown",
   "metadata": {},
   "source": [
    "**AI Prompt**\n",
    "\n",
    "should I write a separate function or modify the existing get_row_digit_position"
   ]
  },
  {
   "cell_type": "markdown",
   "metadata": {},
   "source": [
    "**AI Response**\n",
    "\n",
    "I'd recommend writing a new function that uses get_row_digit_position as a helper function. This follows good programming practice of having each function do one specific thing:\n",
    "\n",
    "1. `get_row_digit_position` finds individual digit positions\n",
    "2. New function will group these positions into complete numbers\n",
    "\n",
    "This way, each function is simpler and easier to test. Would you like to try writing this new function, or would you like some hints on how to structure it?"
   ]
  },
  {
   "cell_type": "markdown",
   "metadata": {},
   "source": [
    "**AI Prompt**\n",
    "\n",
    "how to find a gap(different >1) in a list of numbers"
   ]
  },
  {
   "cell_type": "markdown",
   "metadata": {},
   "source": [
    "**AI Response**\n",
    "\n",
    "There are a few ways to find gaps in a list of numbers. Here's one approach:\n",
    "\n",
    "You can compare each number with the next number in the list using a loop. For example, with indexes [2,3,6,7,8]:\n",
    "1. Compare 2 with 3: 3-2 = 1 (no gap)\n",
    "2. Compare 3 with 6: 6-3 = 3 (gap found!)\n",
    "3. Compare 6 with 7: 7-6 = 1 (no gap)\n",
    "4. Compare 7 with 8: 8-7 = 1 (no gap)\n",
    "\n",
    "You can use `zip()` with slicing to look at pairs of numbers:\n",
    "```python\n",
    "numbers = [2,3,6,7,8]\n",
    "for curr, next_num in zip(numbers, numbers[1:]):\n",
    "    if next_num - curr > 1:\n",
    "        print(f\"Found gap between {curr} and {next_num}\")\n",
    "```\n",
    "\n",
    "Would you like to try using this approach in your function?"
   ]
  },
  {
   "cell_type": "code",
   "execution_count": null,
   "metadata": {},
   "outputs": [
    {
     "name": "stdout",
     "output_type": "stream",
     "text": [
      "Found gap between 3 and 6\n"
     ]
    }
   ],
   "source": [
    "numbers = [2,3,6,7,8]\n",
    "for curr, next_num in zip(numbers, numbers[1:]):\n",
    "    if next_num - curr > 1:\n",
    "        print(f\"Found gap between {curr} and {next_num}\")"
   ]
  },
  {
   "cell_type": "markdown",
   "metadata": {},
   "source": [
    "**AI Prompt**\n",
    "\n",
    "or use regex to extract number from row?"
   ]
  },
  {
   "cell_type": "markdown",
   "metadata": {},
   "source": [
    "**AI Response**\n",
    "\n",
    "Yes, using regex is another good approach! It might actually be simpler since regex can directly find consecutive digits. Here's a hint for using regex:\n",
    "\n",
    "1. You'll want to use `re.finditer()` which will give you both the numbers and their positions\n",
    "2. The pattern `\\d+` will match one or more consecutive digits\n",
    "3. Each match object will give you both:\n",
    "   - The number (match.group())\n",
    "   - Its position (match.start() and match.end())\n",
    "\n",
    "Would you like to try writing a function using regex, or would you like to see an example pattern first?"
   ]
  },
  {
   "cell_type": "code",
   "execution_count": null,
   "metadata": {},
   "outputs": [],
   "source": [
    "import re"
   ]
  },
  {
   "cell_type": "code",
   "execution_count": null,
   "metadata": {},
   "outputs": [
    {
     "name": "stdout",
     "output_type": "stream",
     "text": [
      "\u001b[0;31mSignature:\u001b[0m \u001b[0mre\u001b[0m\u001b[0;34m.\u001b[0m\u001b[0mfinditer\u001b[0m\u001b[0;34m(\u001b[0m\u001b[0mpattern\u001b[0m\u001b[0;34m,\u001b[0m \u001b[0mstring\u001b[0m\u001b[0;34m,\u001b[0m \u001b[0mflags\u001b[0m\u001b[0;34m=\u001b[0m\u001b[0;36m0\u001b[0m\u001b[0;34m)\u001b[0m\u001b[0;34m\u001b[0m\u001b[0;34m\u001b[0m\u001b[0m\n",
      "\u001b[0;31mDocstring:\u001b[0m\n",
      "Return an iterator over all non-overlapping matches in the\n",
      "string.  For each match, the iterator returns a Match object.\n",
      "\n",
      "Empty matches are included in the result.\n",
      "\u001b[0;31mFile:\u001b[0m      /usr/local/lib/python3.11/re/__init__.py\n",
      "\u001b[0;31mType:\u001b[0m      function\n"
     ]
    }
   ],
   "source": [
    "re.finditer?"
   ]
  },
  {
   "cell_type": "code",
   "execution_count": null,
   "metadata": {},
   "outputs": [
    {
     "data": {
      "text/plain": [
       "<callable_iterator at 0x708bbd7e3070>"
      ]
     },
     "execution_count": null,
     "metadata": {},
     "output_type": "execute_result"
    }
   ],
   "source": [
    "re.finditer('\\d+','...23..1')"
   ]
  },
  {
   "cell_type": "code",
   "execution_count": null,
   "metadata": {},
   "outputs": [
    {
     "data": {
      "text/plain": [
       "[<re.Match object; span=(3, 5), match='23'>,\n",
       " <re.Match object; span=(7, 8), match='1'>]"
      ]
     },
     "execution_count": null,
     "metadata": {},
     "output_type": "execute_result"
    }
   ],
   "source": [
    "[o for o in re.finditer('\\d+','...23..1')]"
   ]
  },
  {
   "cell_type": "markdown",
   "metadata": {},
   "source": [
    "**AI Prompt**\n",
    "\n",
    "how to use regex to find number?"
   ]
  },
  {
   "cell_type": "markdown",
   "metadata": {},
   "source": [
    "**AI Response**\n",
    "\n",
    "Let's break this down. From your test, we can see that `re.finditer()` returns match objects. Here's how to extract the useful information from each match:\n",
    "\n",
    "```python\n",
    "test_str = '...23..1'\n",
    "for match in re.finditer('\\d+', test_str):\n",
    "    number = int(match.group())  # the actual number\n",
    "    start = match.start()        # starting position\n",
    "    end = match.end()           # ending position\n",
    "    print(f\"Found number {number} at positions {start}-{end}\")\n",
    "```\n",
    "\n",
    "Would you like to try this out and then turn it into a function that returns this information in a useful format?"
   ]
  },
  {
   "cell_type": "code",
   "execution_count": null,
   "metadata": {},
   "outputs": [
    {
     "name": "stdout",
     "output_type": "stream",
     "text": [
      "Found number 23 at positions 3-5\n",
      "Found number 1 at positions 7-8\n"
     ]
    }
   ],
   "source": [
    "test_str = '...23..1'\n",
    "for match in re.finditer('\\d+', test_str):\n",
    "    number = int(match.group())  # the actual number\n",
    "    start = match.start()        # starting position\n",
    "    end = match.end()           # ending position\n",
    "    print(f\"Found number {number} at positions {start}-{end}\")"
   ]
  },
  {
   "cell_type": "markdown",
   "metadata": {},
   "source": [
    "**AI Prompt**\n",
    "\n",
    "which return format is good?"
   ]
  },
  {
   "cell_type": "markdown",
   "metadata": {},
   "source": [
    "**AI Response**\n",
    "\n",
    "For this puzzle, we'll need both the numbers and their positions to check for adjacent symbols. Here are some possible return formats:\n",
    "\n",
    "1. List of tuples: `[(number, start, end), ...]`\n",
    "   ```python\n",
    "   [(23, 3, 5), (1, 7, 8)]\n",
    "   ```\n",
    "\n",
    "2. List of dictionaries: `[{'number': n, 'start': s, 'end': e}, ...]`\n",
    "   ```python\n",
    "   [{'number': 23, 'start': 3, 'end': 5}, {'number': 1, 'start': 7, 'end': 8}]\n",
    "   ```\n",
    "\n",
    "The tuple format is more concise, while the dictionary format is more readable.\n",
    "\n",
    "Which format would you prefer to work with?"
   ]
  },
  {
   "cell_type": "code",
   "execution_count": null,
   "metadata": {},
   "outputs": [],
   "source": [
    "def get_num_position(row):\n",
    "\n",
    "    for match in re.finditer('\\d+', row):\n",
    "        number = int(match.group())  # the actual number\n",
    "        start = match.start()        # starting position\n",
    "        end = match.end()           # ending position\n",
    "    return dict(number=number,start=start,end=end)"
   ]
  },
  {
   "cell_type": "code",
   "execution_count": null,
   "metadata": {},
   "outputs": [
    {
     "data": {
      "text/plain": [
       "{'number': 33, 'start': 5, 'end': 7}"
      ]
     },
     "execution_count": null,
     "metadata": {},
     "output_type": "execute_result"
    }
   ],
   "source": [
    "get_num_position('..2..33')"
   ]
  },
  {
   "cell_type": "code",
   "execution_count": null,
   "metadata": {},
   "outputs": [],
   "source": [
    "def get_num_position(row):\n",
    "    dicts = []\n",
    "    for match in re.finditer('\\d+', row):\n",
    "        number = int(match.group())  # the actual number\n",
    "        start = match.start()        # starting position\n",
    "        end = match.end()           # ending position\n",
    "        dicts.append(dict(number=number,start=start,end=end))\n",
    "    return dicts"
   ]
  },
  {
   "cell_type": "code",
   "execution_count": null,
   "metadata": {},
   "outputs": [
    {
     "data": {
      "text/plain": [
       "[{'number': 2, 'start': 2, 'end': 3}, {'number': 33, 'start': 5, 'end': 7}]"
      ]
     },
     "execution_count": null,
     "metadata": {},
     "output_type": "execute_result"
    }
   ],
   "source": [
    "get_num_position('..2..33')"
   ]
  },
  {
   "cell_type": "markdown",
   "metadata": {},
   "source": [
    "**AI Prompt**\n",
    "\n",
    "what's next?"
   ]
  },
  {
   "cell_type": "markdown",
   "metadata": {},
   "source": [
    "**AI Response**\n",
    "\n",
    "Great! Now that we can find numbers and their positions in a row, we need to:\n",
    "\n",
    "1. Check if each number is adjacent to any symbols (including diagonally)\n",
    "2. For this, we'll need to look at:\n",
    "   - The row above (if it exists)\n",
    "   - The same row\n",
    "   - The row below (if it exists)\n",
    "\n",
    "Would you like to write a function that checks if a number is adjacent to any symbols? We can use our existing `is_symbol` function to help with this.\n",
    "\n",
    "Would you like to try this, or would you like some hints on how to check the adjacent positions?"
   ]
  },
  {
   "cell_type": "code",
   "execution_count": null,
   "metadata": {},
   "outputs": [
    {
     "name": "stdout",
     "output_type": "stream",
     "text": [
      "\u001b[0;31mSignature:\u001b[0m \u001b[0mis_symbol\u001b[0m\u001b[0;34m(\u001b[0m\u001b[0mchar\u001b[0m\u001b[0;34m)\u001b[0m\u001b[0;34m\u001b[0m\u001b[0;34m\u001b[0m\u001b[0m\n",
      "\u001b[0;31mDocstring:\u001b[0m <no docstring>\n",
      "\u001b[0;31mFile:\u001b[0m      ~/<ipython-input-1-f7baa4904f7b>\n",
      "\u001b[0;31mType:\u001b[0m      function\n"
     ]
    }
   ],
   "source": [
    "is_symbol?"
   ]
  },
  {
   "cell_type": "code",
   "execution_count": null,
   "metadata": {},
   "outputs": [
    {
     "name": "stdout",
     "output_type": "stream",
     "text": [
      "\u001b[0;31mSignature:\u001b[0m \u001b[0mis_symbol\u001b[0m\u001b[0;34m(\u001b[0m\u001b[0mchar\u001b[0m\u001b[0;34m)\u001b[0m\u001b[0;34m\u001b[0m\u001b[0;34m\u001b[0m\u001b[0m\n",
      "\u001b[0;31mDocstring:\u001b[0m <no docstring>\n",
      "\u001b[0;31mSource:\u001b[0m   \n",
      "\u001b[0;32mdef\u001b[0m \u001b[0mis_symbol\u001b[0m\u001b[0;34m(\u001b[0m\u001b[0mchar\u001b[0m\u001b[0;34m)\u001b[0m\u001b[0;34m:\u001b[0m\u001b[0;34m\u001b[0m\n",
      "\u001b[0;34m\u001b[0m    \u001b[0;32mreturn\u001b[0m \u001b[0;32mnot\u001b[0m \u001b[0;34m(\u001b[0m\u001b[0mchar\u001b[0m\u001b[0;34m.\u001b[0m\u001b[0misdigit\u001b[0m\u001b[0;34m(\u001b[0m\u001b[0;34m)\u001b[0m \u001b[0;32mor\u001b[0m \u001b[0mchar\u001b[0m \u001b[0;34m==\u001b[0m \u001b[0;34m'.'\u001b[0m\u001b[0;34m)\u001b[0m\u001b[0;34m\u001b[0m\u001b[0;34m\u001b[0m\u001b[0m\n",
      "\u001b[0;31mFile:\u001b[0m      ~/<ipython-input-1-f7baa4904f7b>\n",
      "\u001b[0;31mType:\u001b[0m      function\n"
     ]
    }
   ],
   "source": [
    "is_symbol??"
   ]
  },
  {
   "cell_type": "markdown",
   "metadata": {},
   "source": [
    "**AI Prompt**\n",
    "\n",
    "give me hints on how to check the adjacent positions?"
   ]
  },
  {
   "cell_type": "markdown",
   "metadata": {},
   "source": [
    "**AI Response**\n",
    "\n",
    "Here's how we can think about checking adjacent positions:\n",
    "\n",
    "For a number that starts at position `start` and ends at position `end`, we need to check:\n",
    "\n",
    "1. One position before start and one position after end in the same row\n",
    "2. For the row above and below, check all positions from:\n",
    "   - (start-1) to (end+1)\n",
    "\n",
    "For example, if we have \"..23.\" and 23 is at positions 2-3:\n",
    "```\n",
    "Check positions:\n",
    "Row above: 1,2,3,4\n",
    "Same row: 1,4\n",
    "Row below: 1,2,3,4\n",
    "```\n",
    "\n",
    "Would you like to try writing a function that takes:\n",
    "- The current row\n",
    "- The row above (if any)\n",
    "- The row below (if any)\n",
    "- The start and end positions of a number\n",
    "\n",
    "And returns whether any adjacent position contains a symbol?"
   ]
  },
  {
   "cell_type": "code",
   "execution_count": null,
   "metadata": {},
   "outputs": [
    {
     "data": {
      "text/plain": [
       "'\\n467..114..\\n...*......\\n..35..633.\\n......#...\\n617*......\\n.....+.58.\\n..592.....\\n......755.\\n...$.*....\\n.664.598..\\n'"
      ]
     },
     "execution_count": null,
     "metadata": {},
     "output_type": "execute_result"
    }
   ],
   "source": [
    "sample"
   ]
  },
  {
   "cell_type": "code",
   "execution_count": null,
   "metadata": {},
   "outputs": [],
   "source": [
    "xs = preprocess_raw(sample)"
   ]
  },
  {
   "cell_type": "code",
   "execution_count": null,
   "metadata": {},
   "outputs": [
    {
     "data": {
      "text/plain": [
       "['467..114..',\n",
       " '...*......',\n",
       " '..35..633.',\n",
       " '......#...',\n",
       " '617*......',\n",
       " '.....+.58.',\n",
       " '..592.....',\n",
       " '......755.',\n",
       " '...$.*....',\n",
       " '.664.598..']"
      ]
     },
     "execution_count": null,
     "metadata": {},
     "output_type": "execute_result"
    }
   ],
   "source": [
    "xs"
   ]
  },
  {
   "cell_type": "code",
   "execution_count": null,
   "metadata": {},
   "outputs": [
    {
     "data": {
      "text/plain": [
       "'6'"
      ]
     },
     "execution_count": null,
     "metadata": {},
     "output_type": "execute_result"
    }
   ],
   "source": [
    "xs[0][1]"
   ]
  },
  {
   "cell_type": "code",
   "execution_count": null,
   "metadata": {},
   "outputs": [],
   "source": [
    "dict_one = {'number': 33, 'start': 5, 'end': 7}\n",
    "index = 1"
   ]
  },
  {
   "cell_type": "markdown",
   "metadata": {},
   "source": [
    "**AI Prompt**\n",
    "\n",
    "give me a hint on how to check adajacent?"
   ]
  },
  {
   "cell_type": "markdown",
   "metadata": {},
   "source": [
    "**AI Response**\n",
    "\n",
    "Let's break it down into steps using your example where we have a number at positions 5-7 in row index 1:\n",
    "\n",
    "1. First, define the boundaries to check:\n",
    "```python\n",
    "# For checking positions around the number:\n",
    "row_start = dict_one['start'] - 1    # one position before number\n",
    "row_end = dict_one['end'] + 1      # one position after number\n",
    "```\n",
    "\n",
    "2. Then check these rows:\n",
    "- Above row (if exists): `xs[index-1][row_start:row_end+1]`\n",
    "- Current row: just positions `row_start` and `row_end`\n",
    "- Below row (if exists): `xs[index+1][row_start:row_end+1]`\n",
    "\n",
    "Would you like to try implementing this, or would you like more specific hints?"
   ]
  },
  {
   "cell_type": "code",
   "execution_count": null,
   "metadata": {},
   "outputs": [],
   "source": [
    "row_start = dict_one['start'] - 1    # one position before number\n",
    "row_end = dict_one['end'] + 1      # one position after number"
   ]
  },
  {
   "cell_type": "code",
   "execution_count": null,
   "metadata": {},
   "outputs": [
    {
     "data": {
      "text/plain": [
       "('.114.', '.', '.', '..633')"
      ]
     },
     "execution_count": null,
     "metadata": {},
     "output_type": "execute_result"
    }
   ],
   "source": [
    "xs[index-1][row_start:row_end+1],xs[index][row_start],xs[index][row_end], xs[index+1][row_start:row_end+1]"
   ]
  },
  {
   "cell_type": "code",
   "execution_count": null,
   "metadata": {},
   "outputs": [
    {
     "data": {
      "text/plain": [
       "'114..'"
      ]
     },
     "execution_count": null,
     "metadata": {},
     "output_type": "execute_result"
    }
   ],
   "source": [
    "xs[0][5:20]"
   ]
  },
  {
   "cell_type": "code",
   "execution_count": null,
   "metadata": {},
   "outputs": [
    {
     "data": {
      "text/plain": [
       "''"
      ]
     },
     "execution_count": null,
     "metadata": {},
     "output_type": "execute_result"
    }
   ],
   "source": [
    "xs[0][-5:2]"
   ]
  },
  {
   "cell_type": "code",
   "execution_count": null,
   "metadata": {},
   "outputs": [
    {
     "data": {
      "text/plain": [
       "'467..114..'"
      ]
     },
     "execution_count": null,
     "metadata": {},
     "output_type": "execute_result"
    }
   ],
   "source": [
    "xs[0]"
   ]
  },
  {
   "cell_type": "code",
   "execution_count": null,
   "metadata": {},
   "outputs": [
    {
     "data": {
      "text/plain": [
       "''"
      ]
     },
     "execution_count": null,
     "metadata": {},
     "output_type": "execute_result"
    }
   ],
   "source": [
    "xs[0][-1:5]"
   ]
  },
  {
   "cell_type": "markdown",
   "metadata": {},
   "source": [
    "**AI Prompt**\n",
    "\n",
    "how to make it become a function?"
   ]
  },
  {
   "cell_type": "markdown",
   "metadata": {},
   "source": [
    "**AI Response**\n",
    "\n",
    "Let's create a function that checks for adjacent symbols. Here's a suggested structure:\n",
    "\n",
    "```python\n",
    "def has_adjacent_symbol(grid, row_idx, number_dict):\n",
    "    \"\"\"\n",
    "    grid: list of rows (xs in your case)\n",
    "    row_idx: which row the number is in\n",
    "    number_dict: dictionary with 'start' and 'end' positions\n",
    "    \"\"\"\n",
    "    row_start = max(0, number_dict['start'] - 1)  # don't go below 0\n",
    "    row_end = min(len(grid[0]), number_dict['end'] + 1)  # don't go past end\n",
    "    \n",
    "    # Check above row if it exists\n",
    "    if row_idx > 0:\n",
    "        above = grid[row_idx-1][row_start:row_end+1]\n",
    "        # check for symbols in above\n",
    "        \n",
    "    # Check current row (just the ends)\n",
    "    current = grid[row_idx][row_start], grid[row_idx][row_end]\n",
    "    \n",
    "    # Check below row if it exists\n",
    "    if row_idx < len(grid)-1:\n",
    "        below = grid[row_idx+1][row_start:row_end+1]\n",
    "        # check for symbols in below\n",
    "\n",
    "    return # True if any symbols found\n",
    "```\n",
    "\n",
    "Would you like to try completing this function? I can help with any specific part you're unsure about."
   ]
  },
  {
   "cell_type": "code",
   "execution_count": null,
   "metadata": {},
   "outputs": [],
   "source": [
    "def has_adjacent_symbol(grid, row_idx, number_dict):\n",
    "    \"\"\"\n",
    "    grid: list of rows\n",
    "    row_idx: which row the number is in\n",
    "    number_dict: dictionary with 'start' and 'end' positions\n",
    "    \"\"\"\n",
    "    row_start = max(0, number_dict['start'] - 1)  # don't go below 0\n",
    "    row_end = min(len(grid[0]), number_dict['end'] + 1)  # don't go past end\n",
    "    \n",
    "    # Check above row if it exists\n",
    "    if row_idx > 0:\n",
    "        above = grid[row_idx-1][row_start:row_end+1]\n",
    "        # check for symbols in above\n",
    "        \n",
    "    # Check current row (just the ends)\n",
    "    current = grid[row_idx][row_start], grid[row_idx][row_end]\n",
    "    \n",
    "    # Check below row if it exists\n",
    "    if row_idx < len(grid)-1:\n",
    "        below = grid[row_idx+1][row_start:row_end+1]\n",
    "        # check for symbols in below\n",
    "\n",
    "    return above,current,below"
   ]
  },
  {
   "cell_type": "code",
   "execution_count": null,
   "metadata": {},
   "outputs": [
    {
     "data": {
      "text/plain": [
       "{'number': 33, 'start': 5, 'end': 7}"
      ]
     },
     "execution_count": null,
     "metadata": {},
     "output_type": "execute_result"
    }
   ],
   "source": [
    "dict_one"
   ]
  },
  {
   "cell_type": "code",
   "execution_count": null,
   "metadata": {},
   "outputs": [],
   "source": [
    "row = xs[1]"
   ]
  },
  {
   "cell_type": "code",
   "execution_count": null,
   "metadata": {},
   "outputs": [
    {
     "data": {
      "text/plain": [
       "[]"
      ]
     },
     "execution_count": null,
     "metadata": {},
     "output_type": "execute_result"
    }
   ],
   "source": [
    "get_row_digit_position(row)"
   ]
  },
  {
   "cell_type": "code",
   "execution_count": null,
   "metadata": {},
   "outputs": [],
   "source": [
    "# get_row_digit_position"
   ]
  },
  {
   "cell_type": "code",
   "execution_count": null,
   "metadata": {},
   "outputs": [
    {
     "name": "stdout",
     "output_type": "stream",
     "text": [
      "\u001b[0;31mSignature:\u001b[0m \u001b[0mget_row_digit_position\u001b[0m\u001b[0;34m(\u001b[0m\u001b[0mrow\u001b[0m\u001b[0;34m)\u001b[0m\u001b[0;34m\u001b[0m\u001b[0;34m\u001b[0m\u001b[0m\n",
      "\u001b[0;31mDocstring:\u001b[0m <no docstring>\n",
      "\u001b[0;31mFile:\u001b[0m      ~/<ipython-input-1-c808883576b3>\n",
      "\u001b[0;31mType:\u001b[0m      function\n"
     ]
    }
   ],
   "source": [
    "get_row_digit_position?"
   ]
  },
  {
   "cell_type": "code",
   "execution_count": null,
   "metadata": {},
   "outputs": [
    {
     "name": "stdout",
     "output_type": "stream",
     "text": [
      "\u001b[0;31mSignature:\u001b[0m \u001b[0mget_row_digit_position\u001b[0m\u001b[0;34m(\u001b[0m\u001b[0mrow\u001b[0m\u001b[0;34m)\u001b[0m\u001b[0;34m\u001b[0m\u001b[0;34m\u001b[0m\u001b[0m\n",
      "\u001b[0;31mDocstring:\u001b[0m <no docstring>\n",
      "\u001b[0;31mSource:\u001b[0m   \n",
      "\u001b[0;32mdef\u001b[0m \u001b[0mget_row_digit_position\u001b[0m\u001b[0;34m(\u001b[0m\u001b[0mrow\u001b[0m\u001b[0;34m)\u001b[0m\u001b[0;34m:\u001b[0m\u001b[0;34m\u001b[0m\n",
      "\u001b[0;34m\u001b[0m    \u001b[0mindexes\u001b[0m\u001b[0;34m=\u001b[0m\u001b[0;34m[\u001b[0m\u001b[0;34m]\u001b[0m\u001b[0;34m\u001b[0m\n",
      "\u001b[0;34m\u001b[0m    \u001b[0;32mfor\u001b[0m \u001b[0mindex\u001b[0m\u001b[0;34m,\u001b[0m \u001b[0mchar\u001b[0m \u001b[0;32min\u001b[0m \u001b[0menumerate\u001b[0m\u001b[0;34m(\u001b[0m\u001b[0mrow\u001b[0m\u001b[0;34m)\u001b[0m\u001b[0;34m:\u001b[0m\u001b[0;34m\u001b[0m\n",
      "\u001b[0;34m\u001b[0m        \u001b[0;32mif\u001b[0m \u001b[0mchar\u001b[0m\u001b[0;34m.\u001b[0m\u001b[0misdigit\u001b[0m\u001b[0;34m(\u001b[0m\u001b[0;34m)\u001b[0m\u001b[0;34m:\u001b[0m\u001b[0;34m\u001b[0m\n",
      "\u001b[0;34m\u001b[0m            \u001b[0mindexes\u001b[0m\u001b[0;34m.\u001b[0m\u001b[0mappend\u001b[0m\u001b[0;34m(\u001b[0m\u001b[0mindex\u001b[0m\u001b[0;34m)\u001b[0m\u001b[0;34m\u001b[0m\n",
      "\u001b[0;34m\u001b[0m    \u001b[0;32mreturn\u001b[0m \u001b[0mindexes\u001b[0m\u001b[0;34m\u001b[0m\u001b[0;34m\u001b[0m\u001b[0m\n",
      "\u001b[0;31mFile:\u001b[0m      ~/<ipython-input-1-c808883576b3>\n",
      "\u001b[0;31mType:\u001b[0m      function\n"
     ]
    }
   ],
   "source": [
    "get_row_digit_position??"
   ]
  },
  {
   "cell_type": "code",
   "execution_count": null,
   "metadata": {},
   "outputs": [
    {
     "data": {
      "text/plain": [
       "'...*......'"
      ]
     },
     "execution_count": null,
     "metadata": {},
     "output_type": "execute_result"
    }
   ],
   "source": [
    "row"
   ]
  },
  {
   "cell_type": "code",
   "execution_count": null,
   "metadata": {},
   "outputs": [
    {
     "data": {
      "text/plain": [
       "'..35..633.'"
      ]
     },
     "execution_count": null,
     "metadata": {},
     "output_type": "execute_result"
    }
   ],
   "source": [
    "row = xs[2]\n",
    "row"
   ]
  },
  {
   "cell_type": "code",
   "execution_count": null,
   "metadata": {},
   "outputs": [
    {
     "data": {
      "text/plain": [
       "[2, 3, 6, 7, 8]"
      ]
     },
     "execution_count": null,
     "metadata": {},
     "output_type": "execute_result"
    }
   ],
   "source": [
    "get_row_digit_position(row)"
   ]
  },
  {
   "cell_type": "code",
   "execution_count": null,
   "metadata": {},
   "outputs": [
    {
     "name": "stdout",
     "output_type": "stream",
     "text": [
      "\u001b[0;31mSignature:\u001b[0m \u001b[0mget_num_position\u001b[0m\u001b[0;34m(\u001b[0m\u001b[0mrow\u001b[0m\u001b[0;34m)\u001b[0m\u001b[0;34m\u001b[0m\u001b[0;34m\u001b[0m\u001b[0m\n",
      "\u001b[0;31mDocstring:\u001b[0m <no docstring>\n",
      "\u001b[0;31mSource:\u001b[0m   \n",
      "\u001b[0;32mdef\u001b[0m \u001b[0mget_num_position\u001b[0m\u001b[0;34m(\u001b[0m\u001b[0mrow\u001b[0m\u001b[0;34m)\u001b[0m\u001b[0;34m:\u001b[0m\u001b[0;34m\u001b[0m\n",
      "\u001b[0;34m\u001b[0m    \u001b[0mdicts\u001b[0m \u001b[0;34m=\u001b[0m \u001b[0;34m[\u001b[0m\u001b[0;34m]\u001b[0m\u001b[0;34m\u001b[0m\n",
      "\u001b[0;34m\u001b[0m    \u001b[0;32mfor\u001b[0m \u001b[0mmatch\u001b[0m \u001b[0;32min\u001b[0m \u001b[0mre\u001b[0m\u001b[0;34m.\u001b[0m\u001b[0mfinditer\u001b[0m\u001b[0;34m(\u001b[0m\u001b[0;34m'\\d+'\u001b[0m\u001b[0;34m,\u001b[0m \u001b[0mrow\u001b[0m\u001b[0;34m)\u001b[0m\u001b[0;34m:\u001b[0m\u001b[0;34m\u001b[0m\n",
      "\u001b[0;34m\u001b[0m        \u001b[0mnumber\u001b[0m \u001b[0;34m=\u001b[0m \u001b[0mint\u001b[0m\u001b[0;34m(\u001b[0m\u001b[0mmatch\u001b[0m\u001b[0;34m.\u001b[0m\u001b[0mgroup\u001b[0m\u001b[0;34m(\u001b[0m\u001b[0;34m)\u001b[0m\u001b[0;34m)\u001b[0m  \u001b[0;31m# the actual number\u001b[0m\u001b[0;34m\u001b[0m\n",
      "\u001b[0;34m\u001b[0m        \u001b[0mstart\u001b[0m \u001b[0;34m=\u001b[0m \u001b[0mmatch\u001b[0m\u001b[0;34m.\u001b[0m\u001b[0mstart\u001b[0m\u001b[0;34m(\u001b[0m\u001b[0;34m)\u001b[0m        \u001b[0;31m# starting position\u001b[0m\u001b[0;34m\u001b[0m\n",
      "\u001b[0;34m\u001b[0m        \u001b[0mend\u001b[0m \u001b[0;34m=\u001b[0m \u001b[0mmatch\u001b[0m\u001b[0;34m.\u001b[0m\u001b[0mend\u001b[0m\u001b[0;34m(\u001b[0m\u001b[0;34m)\u001b[0m           \u001b[0;31m# ending position\u001b[0m\u001b[0;34m\u001b[0m\n",
      "\u001b[0;34m\u001b[0m        \u001b[0mdicts\u001b[0m\u001b[0;34m.\u001b[0m\u001b[0mappend\u001b[0m\u001b[0;34m(\u001b[0m\u001b[0mdict\u001b[0m\u001b[0;34m(\u001b[0m\u001b[0mnumber\u001b[0m\u001b[0;34m=\u001b[0m\u001b[0mnumber\u001b[0m\u001b[0;34m,\u001b[0m\u001b[0mstart\u001b[0m\u001b[0;34m=\u001b[0m\u001b[0mstart\u001b[0m\u001b[0;34m,\u001b[0m\u001b[0mend\u001b[0m\u001b[0;34m=\u001b[0m\u001b[0mend\u001b[0m\u001b[0;34m)\u001b[0m\u001b[0;34m)\u001b[0m\u001b[0;34m\u001b[0m\n",
      "\u001b[0;34m\u001b[0m    \u001b[0;32mreturn\u001b[0m \u001b[0mdicts\u001b[0m\u001b[0;34m\u001b[0m\u001b[0;34m\u001b[0m\u001b[0m\n",
      "\u001b[0;31mFile:\u001b[0m      ~/<ipython-input-1-b591f7575837>\n",
      "\u001b[0;31mType:\u001b[0m      function\n"
     ]
    }
   ],
   "source": [
    "get_num_position??"
   ]
  },
  {
   "cell_type": "code",
   "execution_count": null,
   "metadata": {},
   "outputs": [
    {
     "data": {
      "text/plain": [
       "[{'number': 35, 'start': 2, 'end': 4}, {'number': 633, 'start': 6, 'end': 9}]"
      ]
     },
     "execution_count": null,
     "metadata": {},
     "output_type": "execute_result"
    }
   ],
   "source": [
    "get_num_position(row)"
   ]
  },
  {
   "cell_type": "code",
   "execution_count": null,
   "metadata": {},
   "outputs": [],
   "source": [
    "row_dicts = get_num_position(row)"
   ]
  },
  {
   "cell_type": "code",
   "execution_count": null,
   "metadata": {},
   "outputs": [],
   "source": [
    "dict_one = row_dicts[0]"
   ]
  },
  {
   "cell_type": "code",
   "execution_count": null,
   "metadata": {},
   "outputs": [],
   "source": [
    "row_index=2"
   ]
  },
  {
   "cell_type": "code",
   "execution_count": null,
   "metadata": {},
   "outputs": [
    {
     "name": "stdout",
     "output_type": "stream",
     "text": [
      "\u001b[0;31mSignature:\u001b[0m \u001b[0mhas_adjacent_symbol\u001b[0m\u001b[0;34m(\u001b[0m\u001b[0mgrid\u001b[0m\u001b[0;34m,\u001b[0m \u001b[0mrow_idx\u001b[0m\u001b[0;34m,\u001b[0m \u001b[0mnumber_dict\u001b[0m\u001b[0;34m)\u001b[0m\u001b[0;34m\u001b[0m\u001b[0;34m\u001b[0m\u001b[0m\n",
      "\u001b[0;31mDocstring:\u001b[0m\n",
      "grid: list of rows\n",
      "row_idx: which row the number is in\n",
      "number_dict: dictionary with 'start' and 'end' positions\n",
      "\u001b[0;31mFile:\u001b[0m      ~/<ipython-input-1-8f0094edfba7>\n",
      "\u001b[0;31mType:\u001b[0m      function\n"
     ]
    }
   ],
   "source": [
    "has_adjacent_symbol?"
   ]
  },
  {
   "cell_type": "code",
   "execution_count": null,
   "metadata": {},
   "outputs": [
    {
     "data": {
      "text/plain": [
       "('..*..', ('.', '.'), '.....')"
      ]
     },
     "execution_count": null,
     "metadata": {},
     "output_type": "execute_result"
    }
   ],
   "source": [
    "has_adjacent_symbol(xs,2,dict_one)"
   ]
  },
  {
   "cell_type": "code",
   "execution_count": null,
   "metadata": {},
   "outputs": [
    {
     "name": "stdout",
     "output_type": "stream",
     "text": [
      "\u001b[0;31mSignature:\u001b[0m \u001b[0mis_symbol\u001b[0m\u001b[0;34m(\u001b[0m\u001b[0mchar\u001b[0m\u001b[0;34m)\u001b[0m\u001b[0;34m\u001b[0m\u001b[0;34m\u001b[0m\u001b[0m\n",
      "\u001b[0;31mDocstring:\u001b[0m <no docstring>\n",
      "\u001b[0;31mSource:\u001b[0m   \n",
      "\u001b[0;32mdef\u001b[0m \u001b[0mis_symbol\u001b[0m\u001b[0;34m(\u001b[0m\u001b[0mchar\u001b[0m\u001b[0;34m)\u001b[0m\u001b[0;34m:\u001b[0m\u001b[0;34m\u001b[0m\n",
      "\u001b[0;34m\u001b[0m    \u001b[0;32mreturn\u001b[0m \u001b[0;32mnot\u001b[0m \u001b[0;34m(\u001b[0m\u001b[0mchar\u001b[0m\u001b[0;34m.\u001b[0m\u001b[0misdigit\u001b[0m\u001b[0;34m(\u001b[0m\u001b[0;34m)\u001b[0m \u001b[0;32mor\u001b[0m \u001b[0mchar\u001b[0m \u001b[0;34m==\u001b[0m \u001b[0;34m'.'\u001b[0m\u001b[0;34m)\u001b[0m\u001b[0;34m\u001b[0m\u001b[0;34m\u001b[0m\u001b[0m\n",
      "\u001b[0;31mFile:\u001b[0m      ~/<ipython-input-1-f7baa4904f7b>\n",
      "\u001b[0;31mType:\u001b[0m      function\n"
     ]
    }
   ],
   "source": [
    "is_symbol??"
   ]
  },
  {
   "cell_type": "code",
   "execution_count": null,
   "metadata": {},
   "outputs": [],
   "source": [
    "def check_symbol(strings):\n",
    "    for char in strings:\n",
    "        if not (char.isdigit() or char == '.'):\n",
    "            return True\n",
    "    return False"
   ]
  },
  {
   "cell_type": "code",
   "execution_count": null,
   "metadata": {},
   "outputs": [
    {
     "data": {
      "text/plain": [
       "True"
      ]
     },
     "execution_count": null,
     "metadata": {},
     "output_type": "execute_result"
    }
   ],
   "source": [
    "check_symbol('..*..')"
   ]
  },
  {
   "cell_type": "code",
   "execution_count": null,
   "metadata": {},
   "outputs": [
    {
     "data": {
      "text/plain": [
       "False"
      ]
     },
     "execution_count": null,
     "metadata": {},
     "output_type": "execute_result"
    }
   ],
   "source": [
    "check_symbol(('.', '.'))"
   ]
  },
  {
   "cell_type": "code",
   "execution_count": null,
   "metadata": {},
   "outputs": [
    {
     "name": "stdout",
     "output_type": "stream",
     "text": [
      ".\n",
      ".\n"
     ]
    }
   ],
   "source": [
    "for i in ('.', '.'): print(i)"
   ]
  },
  {
   "cell_type": "markdown",
   "metadata": {},
   "source": [
    "**AI Prompt**\n",
    "\n",
    "is `check_symbol` good?"
   ]
  },
  {
   "cell_type": "markdown",
   "metadata": {},
   "source": [
    "**AI Response**\n",
    "\n",
    "Yes, `check_symbol` looks good! It:\n",
    "1. Takes either a string or an iterable of characters\n",
    "2. Returns True if any character is a symbol (not a digit and not a period)\n",
    "3. Returns False if no symbols are found\n",
    "\n",
    "Now we can modify our `has_adjacent_symbol` function to use `check_symbol` on:\n",
    "- The above row\n",
    "- The current row ends\n",
    "- The below row\n",
    "\n",
    "Would you like to try updating the `has_adjacent_symbol` function to use `check_symbol`?"
   ]
  },
  {
   "cell_type": "markdown",
   "metadata": {},
   "source": [
    "**AI Prompt**\n",
    "\n",
    "help me update"
   ]
  },
  {
   "cell_type": "markdown",
   "metadata": {},
   "source": [
    "**AI Response**\n",
    "\n",
    "Here's how we can update the function step by step:\n",
    "\n",
    "```python\n",
    "def has_adjacent_symbol(grid, row_idx, number_dict):\n",
    "    row_start = max(0, number_dict['start'] - 1)  # don't go below 0\n",
    "    row_end = min(len(grid[0]), number_dict['end'] + 1)  # don't go past end\n",
    "    \n",
    "    # Check above row if it exists\n",
    "    if row_idx > 0:\n",
    "        above = grid[row_idx-1][row_start:row_end+1]\n",
    "        if check_symbol(above):\n",
    "            return True\n",
    "    \n",
    "    # Check current row (just the ends)\n",
    "    current = grid[row_idx][row_start], grid[row_idx][row_end]\n",
    "    if check_symbol(current):\n",
    "        return True\n",
    "    \n",
    "    # Check below row if it exists\n",
    "    if row_idx < len(grid)-1:\n",
    "        below = grid[row_idx+1][row_start:row_end+1]\n",
    "        if check_symbol(below):\n",
    "            return True\n",
    "            \n",
    "    return False\n",
    "```\n",
    "\n",
    "Would you like to try this out with your example to see if it correctly identifies numbers adjacent to symbols?"
   ]
  },
  {
   "cell_type": "code",
   "execution_count": null,
   "metadata": {},
   "outputs": [],
   "source": [
    "def has_adjacent_symbol(grid, row_idx, number_dict):\n",
    "    row_start = max(0, number_dict['start'] - 1)  # don't go below 0\n",
    "    row_end = min(len(grid[0]), number_dict['end'] + 1)  # don't go past end\n",
    "    \n",
    "    # Check above row if it exists\n",
    "    if row_idx > 0:\n",
    "        above = grid[row_idx-1][row_start:row_end+1]\n",
    "        if check_symbol(above):\n",
    "            return True\n",
    "    \n",
    "    # Check current row (just the ends)\n",
    "    current = grid[row_idx][row_start], grid[row_idx][row_end]\n",
    "    if check_symbol(current):\n",
    "        return True\n",
    "    \n",
    "    # Check below row if it exists\n",
    "    if row_idx < len(grid)-1:\n",
    "        below = grid[row_idx+1][row_start:row_end+1]\n",
    "        if check_symbol(below):\n",
    "            return True\n",
    "            \n",
    "    return False"
   ]
  },
  {
   "cell_type": "code",
   "execution_count": null,
   "metadata": {},
   "outputs": [
    {
     "data": {
      "text/plain": [
       "True"
      ]
     },
     "execution_count": null,
     "metadata": {},
     "output_type": "execute_result"
    }
   ],
   "source": [
    "has_adjacent_symbol(xs,2,dict_one)"
   ]
  },
  {
   "cell_type": "markdown",
   "metadata": {},
   "source": [
    "**AI Prompt**\n",
    "\n",
    "what's next?"
   ]
  },
  {
   "cell_type": "markdown",
   "metadata": {},
   "source": [
    "**AI Response**\n",
    "\n",
    "Great! Now that we have all the pieces working:\n",
    "1. `get_num_position` to find numbers in a row\n",
    "2. `has_adjacent_symbol` to check if a number is adjacent to symbols\n",
    "\n",
    "We need to:\n",
    "1. Loop through each row in the grid\n",
    "2. Find all numbers in that row\n",
    "3. Check each number for adjacent symbols\n",
    "4. Sum up the numbers that have adjacent symbols\n",
    "\n",
    "Would you like to try writing this main logic, or would you like some hints on how to structure it?"
   ]
  },
  {
   "cell_type": "code",
   "execution_count": null,
   "metadata": {},
   "outputs": [
    {
     "name": "stdout",
     "output_type": "stream",
     "text": [
      "\u001b[0;31mSignature:\u001b[0m \u001b[0mget_num_position\u001b[0m\u001b[0;34m(\u001b[0m\u001b[0mrow\u001b[0m\u001b[0;34m)\u001b[0m\u001b[0;34m\u001b[0m\u001b[0;34m\u001b[0m\u001b[0m\n",
      "\u001b[0;31mDocstring:\u001b[0m <no docstring>\n",
      "\u001b[0;31mSource:\u001b[0m   \n",
      "\u001b[0;32mdef\u001b[0m \u001b[0mget_num_position\u001b[0m\u001b[0;34m(\u001b[0m\u001b[0mrow\u001b[0m\u001b[0;34m)\u001b[0m\u001b[0;34m:\u001b[0m\u001b[0;34m\u001b[0m\n",
      "\u001b[0;34m\u001b[0m    \u001b[0mdicts\u001b[0m \u001b[0;34m=\u001b[0m \u001b[0;34m[\u001b[0m\u001b[0;34m]\u001b[0m\u001b[0;34m\u001b[0m\n",
      "\u001b[0;34m\u001b[0m    \u001b[0;32mfor\u001b[0m \u001b[0mmatch\u001b[0m \u001b[0;32min\u001b[0m \u001b[0mre\u001b[0m\u001b[0;34m.\u001b[0m\u001b[0mfinditer\u001b[0m\u001b[0;34m(\u001b[0m\u001b[0;34m'\\d+'\u001b[0m\u001b[0;34m,\u001b[0m \u001b[0mrow\u001b[0m\u001b[0;34m)\u001b[0m\u001b[0;34m:\u001b[0m\u001b[0;34m\u001b[0m\n",
      "\u001b[0;34m\u001b[0m        \u001b[0mnumber\u001b[0m \u001b[0;34m=\u001b[0m \u001b[0mint\u001b[0m\u001b[0;34m(\u001b[0m\u001b[0mmatch\u001b[0m\u001b[0;34m.\u001b[0m\u001b[0mgroup\u001b[0m\u001b[0;34m(\u001b[0m\u001b[0;34m)\u001b[0m\u001b[0;34m)\u001b[0m  \u001b[0;31m# the actual number\u001b[0m\u001b[0;34m\u001b[0m\n",
      "\u001b[0;34m\u001b[0m        \u001b[0mstart\u001b[0m \u001b[0;34m=\u001b[0m \u001b[0mmatch\u001b[0m\u001b[0;34m.\u001b[0m\u001b[0mstart\u001b[0m\u001b[0;34m(\u001b[0m\u001b[0;34m)\u001b[0m        \u001b[0;31m# starting position\u001b[0m\u001b[0;34m\u001b[0m\n",
      "\u001b[0;34m\u001b[0m        \u001b[0mend\u001b[0m \u001b[0;34m=\u001b[0m \u001b[0mmatch\u001b[0m\u001b[0;34m.\u001b[0m\u001b[0mend\u001b[0m\u001b[0;34m(\u001b[0m\u001b[0;34m)\u001b[0m           \u001b[0;31m# ending position\u001b[0m\u001b[0;34m\u001b[0m\n",
      "\u001b[0;34m\u001b[0m        \u001b[0mdicts\u001b[0m\u001b[0;34m.\u001b[0m\u001b[0mappend\u001b[0m\u001b[0;34m(\u001b[0m\u001b[0mdict\u001b[0m\u001b[0;34m(\u001b[0m\u001b[0mnumber\u001b[0m\u001b[0;34m=\u001b[0m\u001b[0mnumber\u001b[0m\u001b[0;34m,\u001b[0m\u001b[0mstart\u001b[0m\u001b[0;34m=\u001b[0m\u001b[0mstart\u001b[0m\u001b[0;34m,\u001b[0m\u001b[0mend\u001b[0m\u001b[0;34m=\u001b[0m\u001b[0mend\u001b[0m\u001b[0;34m)\u001b[0m\u001b[0;34m)\u001b[0m\u001b[0;34m\u001b[0m\n",
      "\u001b[0;34m\u001b[0m    \u001b[0;32mreturn\u001b[0m \u001b[0mdicts\u001b[0m\u001b[0;34m\u001b[0m\u001b[0;34m\u001b[0m\u001b[0m\n",
      "\u001b[0;31mFile:\u001b[0m      ~/<ipython-input-1-b591f7575837>\n",
      "\u001b[0;31mType:\u001b[0m      function\n"
     ]
    }
   ],
   "source": [
    "get_num_position??"
   ]
  },
  {
   "cell_type": "code",
   "execution_count": null,
   "metadata": {},
   "outputs": [
    {
     "data": {
      "text/plain": [
       "[467, 114, 35, 633, 617, 58, 592, 755, 664, 598]"
      ]
     },
     "execution_count": null,
     "metadata": {},
     "output_type": "execute_result"
    }
   ],
   "source": [
    "nums=[]\n",
    "for row in xs:\n",
    "    row_dicts = get_num_position(row)\n",
    "    for row_dict in row_dicts:\n",
    "        if has_adjacent_symbol(xs,2,dict_one):\n",
    "            nums.append(row_dict['number'])\n",
    "\n",
    "nums"
   ]
  },
  {
   "cell_type": "code",
   "execution_count": null,
   "metadata": {},
   "outputs": [
    {
     "name": "stdout",
     "output_type": "stream",
     "text": [
      "\u001b[0;31m---------------------------------------------------------------------------\u001b[0m\n",
      "\u001b[0;31mIndexError\u001b[0m                                Traceback (most recent call last)\n",
      "Cell \u001b[0;32mIn[1], line 5\u001b[0m\n",
      "\u001b[1;32m      3\u001b[0m     row_dicts \u001b[38;5;241m=\u001b[39m get_num_position(row)\n",
      "\u001b[1;32m      4\u001b[0m     \u001b[38;5;28;01mfor\u001b[39;00m row_dict \u001b[38;5;129;01min\u001b[39;00m row_dicts:\n",
      "\u001b[0;32m----> 5\u001b[0m         \u001b[38;5;28;01mif\u001b[39;00m \u001b[43mhas_adjacent_symbol\u001b[49m\u001b[43m(\u001b[49m\u001b[43mxs\u001b[49m\u001b[43m,\u001b[49m\u001b[43mrow_index\u001b[49m\u001b[43m,\u001b[49m\u001b[43mrow_dict\u001b[49m\u001b[43m)\u001b[49m:\n",
      "\u001b[1;32m      6\u001b[0m             nums\u001b[38;5;241m.\u001b[39mappend(row_dict[\u001b[38;5;124m'\u001b[39m\u001b[38;5;124mnumber\u001b[39m\u001b[38;5;124m'\u001b[39m])\n",
      "\u001b[1;32m      8\u001b[0m nums\n",
      "\n",
      "Cell \u001b[0;32mIn[1], line 12\u001b[0m, in \u001b[0;36mhas_adjacent_symbol\u001b[0;34m(grid, row_idx, number_dict)\u001b[0m\n",
      "\u001b[1;32m      9\u001b[0m         \u001b[38;5;28;01mreturn\u001b[39;00m \u001b[38;5;28;01mTrue\u001b[39;00m\n",
      "\u001b[1;32m     11\u001b[0m \u001b[38;5;66;03m# Check current row (just the ends)\u001b[39;00m\n",
      "\u001b[0;32m---> 12\u001b[0m current \u001b[38;5;241m=\u001b[39m grid[row_idx][row_start], \u001b[43mgrid\u001b[49m\u001b[43m[\u001b[49m\u001b[43mrow_idx\u001b[49m\u001b[43m]\u001b[49m\u001b[43m[\u001b[49m\u001b[43mrow_end\u001b[49m\u001b[43m]\u001b[49m\n",
      "\u001b[1;32m     13\u001b[0m \u001b[38;5;28;01mif\u001b[39;00m check_symbol(current):\n",
      "\u001b[1;32m     14\u001b[0m     \u001b[38;5;28;01mreturn\u001b[39;00m \u001b[38;5;28;01mTrue\u001b[39;00m\n",
      "\n",
      "\u001b[0;31mIndexError\u001b[0m: string index out of range\n"
     ]
    },
    {
     "ename": "IndexError",
     "evalue": "string index out of range",
     "output_type": "error",
     "traceback": [
      "Traceback (most recent call last):\n",
      "  File \"/usr/local/lib/python3.11/site-packages/IPython/core/interactiveshell.py\", line 3577, in run_code\n    exec(code_obj, self.user_global_ns, self.user_ns)\n",
      "  File \"<ipython-input-1-a428d73095ab>\", line 5, in <module>\n    if has_adjacent_symbol(xs,row_index,row_dict):\n       ^^^^^^^^^^^^^^^^^^^^^^^^^^^^^^^^^^^^^^^^^^\n",
      "  File \"<ipython-input-1-0382fd1e3b43>\", line 12, in has_adjacent_symbol\n    current = grid[row_idx][row_start], grid[row_idx][row_end]\n                                        ~~~~~~~~~~~~~^^^^^^^^^\n",
      "IndexError: string index out of range\n"
     ]
    }
   ],
   "source": [
    "nums=[]\n",
    "for row_index, row in enumerate(xs):\n",
    "    row_dicts = get_num_position(row)\n",
    "    for row_dict in row_dicts:\n",
    "        if has_adjacent_symbol(xs,row_index,row_dict):\n",
    "            nums.append(row_dict['number'])\n",
    "\n",
    "nums"
   ]
  },
  {
   "cell_type": "markdown",
   "metadata": {},
   "source": [
    "**AI Prompt**\n",
    "\n",
    "got this error"
   ]
  },
  {
   "cell_type": "markdown",
   "metadata": {},
   "source": [
    "**AI Response**\n",
    "\n",
    "Ah, we have an index out of range error. This happens because we're trying to access a position beyond the end of the string. Let's fix the `has_adjacent_symbol` function:\n",
    "\n",
    "1. We need to be more careful with the end position check\n",
    "2. We should only check positions that exist in the string\n",
    "\n",
    "Here's how we can modify the function:\n",
    "\n",
    "```python\n",
    "def has_adjacent_symbol(grid, row_idx, number_dict):\n",
    "    row_length = len(grid[0])\n",
    "    row_start = max(0, number_dict['start'] - 1)  # don't go below 0\n",
    "    row_end = min(row_length - 1, number_dict['end'])  # don't go past last index\n",
    "    \n",
    "    # Check above row if it exists\n",
    "    if row_idx > 0:\n",
    "        above = grid[row_idx-1][row_start:row_end+1]\n",
    "        if check_symbol(above):\n",
    "            return True\n",
    "    \n",
    "    # Check current row (just the ends, if they exist)\n",
    "    if row_start < number_dict['start']:  # only check start if it exists\n",
    "        if check_symbol(grid[row_idx][row_start]):\n",
    "            return True\n",
    "    if row_end > number_dict['end'] - 1:  # only check end if it exists\n",
    "        if check_symbol(grid[row_idx][row_end]):\n",
    "            return True\n",
    "    \n",
    "    # Check below row if it exists\n",
    "    if row_idx < len(grid)-1:\n",
    "        below = grid[row_idx+1][row_start:row_end+1]\n",
    "        if check_symbol(below):\n",
    "            return True\n",
    "            \n",
    "    return False\n",
    "```\n",
    "\n",
    "Would you like to try this updated version?"
   ]
  },
  {
   "cell_type": "code",
   "execution_count": null,
   "metadata": {},
   "outputs": [],
   "source": [
    "def has_adjacent_symbol(grid, row_idx, number_dict):\n",
    "    row_length = len(grid[0])\n",
    "    row_start = max(0, number_dict['start'] - 1)  # don't go below 0\n",
    "    row_end = min(row_length - 1, number_dict['end'])  # don't go past last index\n",
    "    \n",
    "    # Check above row if it exists\n",
    "    if row_idx > 0:\n",
    "        above = grid[row_idx-1][row_start:row_end+1]\n",
    "        if check_symbol(above):\n",
    "            return True\n",
    "    \n",
    "    # Check current row (just the ends, if they exist)\n",
    "    if row_start < number_dict['start']:  # only check start if it exists\n",
    "        if check_symbol(grid[row_idx][row_start]):\n",
    "            return True\n",
    "    if row_end > number_dict['end'] - 1:  # only check end if it exists\n",
    "        if check_symbol(grid[row_idx][row_end]):\n",
    "            return True\n",
    "    \n",
    "    # Check below row if it exists\n",
    "    if row_idx < len(grid)-1:\n",
    "        below = grid[row_idx+1][row_start:row_end+1]\n",
    "        if check_symbol(below):\n",
    "            return True\n",
    "            \n",
    "    return False"
   ]
  },
  {
   "cell_type": "code",
   "execution_count": null,
   "metadata": {},
   "outputs": [
    {
     "data": {
      "text/plain": [
       "[467, 35, 633, 617, 592, 755, 664, 598]"
      ]
     },
     "execution_count": null,
     "metadata": {},
     "output_type": "execute_result"
    }
   ],
   "source": [
    "nums=[]\n",
    "for row_index, row in enumerate(xs):\n",
    "    row_dicts = get_num_position(row)\n",
    "    for row_dict in row_dicts:\n",
    "        if has_adjacent_symbol(xs,row_index,row_dict):\n",
    "            nums.append(row_dict['number'])\n",
    "\n",
    "nums"
   ]
  },
  {
   "cell_type": "markdown",
   "metadata": {},
   "source": [
    "**AI Prompt**\n",
    "\n",
    "what's the difference after the update? why it works now"
   ]
  },
  {
   "cell_type": "markdown",
   "metadata": {},
   "source": [
    "**AI Response**\n",
    "\n",
    "The key differences in the updated version that fixed the error are:\n",
    "\n",
    "1. Before: We were trying to access `grid[row_idx][row_end]` directly, which could be beyond the string length\n",
    "   Now: We use `min(row_length - 1, number_dict['end'])` to ensure we never try to access beyond the string's end\n",
    "\n",
    "2. Before: We checked both ends of the current row at once with tuple unpacking\n",
    "   Now: We check each end separately with conditions:\n",
    "   - `if row_start < number_dict['start']` - only check left edge if it exists\n",
    "   - `if row_end > number_dict['end'] - 1` - only check right edge if it exists\n",
    "\n",
    "Looking at the results:\n",
    "- Before: We got an IndexError\n",
    "- Now: We get `[467, 35, 633, 617, 592, 755, 664, 598]`\n",
    "- Notice 114 and 58 are not included (which is correct according to the puzzle rules - they're not adjacent to symbols)\n",
    "\n",
    "Would you like to verify if this matches the expected answer from the puzzle example?"
   ]
  },
  {
   "cell_type": "code",
   "execution_count": null,
   "metadata": {},
   "outputs": [],
   "source": [
    "from aocd import get_data\n",
    "inp = get_data(day=2,year=2023)"
   ]
  },
  {
   "cell_type": "code",
   "execution_count": null,
   "metadata": {},
   "outputs": [],
   "source": [
    "xs = preprocess_raw(inp)"
   ]
  },
  {
   "cell_type": "code",
   "execution_count": null,
   "metadata": {},
   "outputs": [
    {
     "data": {
      "text/plain": [
       "['Game 1: 7 red, 14 blue; 2 blue, 3 red, 3 green; 4 green, 12 blue, 15 red; 3 green, 12 blue, 3 red; 11 red, 2 green',\n",
       " 'Game 2: 16 blue, 9 red, 5 green; 8 red; 8 blue, 5 green, 12 red; 11 blue, 8 green, 17 red',\n",
       " 'Game 3: 8 green, 1 blue, 7 red; 12 red, 6 blue, 9 green; 2 blue, 1 red, 14 green; 9 green, 4 red; 2 red, 1 blue, 8 green',\n",
       " 'Game 4: 1 blue, 3 green; 2 green, 1 blue, 1 red; 1 red, 3 green']"
      ]
     },
     "execution_count": null,
     "metadata": {},
     "output_type": "execute_result"
    }
   ],
   "source": [
    "xs[:4]"
   ]
  },
  {
   "cell_type": "code",
   "execution_count": null,
   "metadata": {},
   "outputs": [],
   "source": [
    "from aocd import get_data\n",
    "inp = get_data(day=3,year=2023)\n",
    "xs = preprocess_raw(inp)"
   ]
  },
  {
   "cell_type": "code",
   "execution_count": null,
   "metadata": {},
   "outputs": [
    {
     "data": {
      "text/plain": [
       "['..............423....688..934............970................................95.728..........896...113..................153..972.............',\n",
       " '...122..................*.....*..........................919..509*..........&...@.........../...........................+.......*...........',\n",
       " '....+..........259....698..373.992.52.674.........................781...22........130.584.....-...%399.......777.................266........']"
      ]
     },
     "execution_count": null,
     "metadata": {},
     "output_type": "execute_result"
    }
   ],
   "source": [
    "xs[:3]"
   ]
  },
  {
   "cell_type": "code",
   "execution_count": null,
   "metadata": {},
   "outputs": [
    {
     "data": {
      "text/plain": [
       "538046"
      ]
     },
     "execution_count": null,
     "metadata": {},
     "output_type": "execute_result"
    }
   ],
   "source": [
    "nums=[]\n",
    "for row_index, row in enumerate(xs):\n",
    "    row_dicts = get_num_position(row)\n",
    "    for row_dict in row_dicts:\n",
    "        if has_adjacent_symbol(xs,row_index,row_dict):\n",
    "            nums.append(row_dict['number'])\n",
    "\n",
    "sum(nums)"
   ]
  },
  {
   "cell_type": "markdown",
   "metadata": {},
   "source": [
    "## Part 2\n",
    "\n",
    "This time, you need to find the gear ratio of every gear and add them all up so that the engineer can figure out which gear needs to be replaced.\n",
    "\n",
    "Consider the same engine schematic again:\n",
    "```\n",
    "467..114..\n",
    "...*......\n",
    "..35..633.\n",
    "......#...\n",
    "617*......\n",
    ".....+.58.\n",
    "..592.....\n",
    "......755.\n",
    "...$.*....\n",
    ".664.598..\n",
    "```\n",
    "In this schematic, there are two gears. The first is in the top left; it has part numbers 467 and 35, so its gear ratio is 16345. The second gear is in the lower right; its gear ratio is 451490. (The * adjacent to 617 is not a gear because it is only adjacent to one part number.) Adding up all of the gear ratios produces 467835.\n",
    "\n",
    "What is the sum of all of the gear ratios in your engine schematic?"
   ]
  },
  {
   "cell_type": "code",
   "execution_count": null,
   "metadata": {},
   "outputs": [
    {
     "data": {
      "text/plain": [
       "16345"
      ]
     },
     "execution_count": null,
     "metadata": {},
     "output_type": "execute_result"
    }
   ],
   "source": [
    "467*35"
   ]
  },
  {
   "cell_type": "code",
   "execution_count": null,
   "metadata": {},
   "outputs": [
    {
     "data": {
      "text/plain": [
       "451490"
      ]
     },
     "execution_count": null,
     "metadata": {},
     "output_type": "execute_result"
    }
   ],
   "source": [
    "755*598"
   ]
  },
  {
   "cell_type": "code",
   "execution_count": null,
   "metadata": {},
   "outputs": [
    {
     "data": {
      "text/plain": [
       "467835"
      ]
     },
     "execution_count": null,
     "metadata": {},
     "output_type": "execute_result"
    }
   ],
   "source": [
    "16345+451490"
   ]
  },
  {
   "cell_type": "code",
   "execution_count": null,
   "metadata": {},
   "outputs": [
    {
     "name": "stdout",
     "output_type": "stream",
     "text": [
      "\u001b[0;31mSignature:\u001b[0m \u001b[0mget_num_position\u001b[0m\u001b[0;34m(\u001b[0m\u001b[0mrow\u001b[0m\u001b[0;34m)\u001b[0m\u001b[0;34m\u001b[0m\u001b[0;34m\u001b[0m\u001b[0m\n",
      "\u001b[0;31mDocstring:\u001b[0m <no docstring>\n",
      "\u001b[0;31mSource:\u001b[0m   \n",
      "\u001b[0;32mdef\u001b[0m \u001b[0mget_num_position\u001b[0m\u001b[0;34m(\u001b[0m\u001b[0mrow\u001b[0m\u001b[0;34m)\u001b[0m\u001b[0;34m:\u001b[0m\u001b[0;34m\u001b[0m\n",
      "\u001b[0;34m\u001b[0m    \u001b[0mdicts\u001b[0m \u001b[0;34m=\u001b[0m \u001b[0;34m[\u001b[0m\u001b[0;34m]\u001b[0m\u001b[0;34m\u001b[0m\n",
      "\u001b[0;34m\u001b[0m    \u001b[0;32mfor\u001b[0m \u001b[0mmatch\u001b[0m \u001b[0;32min\u001b[0m \u001b[0mre\u001b[0m\u001b[0;34m.\u001b[0m\u001b[0mfinditer\u001b[0m\u001b[0;34m(\u001b[0m\u001b[0;34m'\\d+'\u001b[0m\u001b[0;34m,\u001b[0m \u001b[0mrow\u001b[0m\u001b[0;34m)\u001b[0m\u001b[0;34m:\u001b[0m\u001b[0;34m\u001b[0m\n",
      "\u001b[0;34m\u001b[0m        \u001b[0mnumber\u001b[0m \u001b[0;34m=\u001b[0m \u001b[0mint\u001b[0m\u001b[0;34m(\u001b[0m\u001b[0mmatch\u001b[0m\u001b[0;34m.\u001b[0m\u001b[0mgroup\u001b[0m\u001b[0;34m(\u001b[0m\u001b[0;34m)\u001b[0m\u001b[0;34m)\u001b[0m  \u001b[0;31m# the actual number\u001b[0m\u001b[0;34m\u001b[0m\n",
      "\u001b[0;34m\u001b[0m        \u001b[0mstart\u001b[0m \u001b[0;34m=\u001b[0m \u001b[0mmatch\u001b[0m\u001b[0;34m.\u001b[0m\u001b[0mstart\u001b[0m\u001b[0;34m(\u001b[0m\u001b[0;34m)\u001b[0m        \u001b[0;31m# starting position\u001b[0m\u001b[0;34m\u001b[0m\n",
      "\u001b[0;34m\u001b[0m        \u001b[0mend\u001b[0m \u001b[0;34m=\u001b[0m \u001b[0mmatch\u001b[0m\u001b[0;34m.\u001b[0m\u001b[0mend\u001b[0m\u001b[0;34m(\u001b[0m\u001b[0;34m)\u001b[0m           \u001b[0;31m# ending position\u001b[0m\u001b[0;34m\u001b[0m\n",
      "\u001b[0;34m\u001b[0m        \u001b[0mdicts\u001b[0m\u001b[0;34m.\u001b[0m\u001b[0mappend\u001b[0m\u001b[0;34m(\u001b[0m\u001b[0mdict\u001b[0m\u001b[0;34m(\u001b[0m\u001b[0mnumber\u001b[0m\u001b[0;34m=\u001b[0m\u001b[0mnumber\u001b[0m\u001b[0;34m,\u001b[0m\u001b[0mstart\u001b[0m\u001b[0;34m=\u001b[0m\u001b[0mstart\u001b[0m\u001b[0;34m,\u001b[0m\u001b[0mend\u001b[0m\u001b[0;34m=\u001b[0m\u001b[0mend\u001b[0m\u001b[0;34m)\u001b[0m\u001b[0;34m)\u001b[0m\u001b[0;34m\u001b[0m\n",
      "\u001b[0;34m\u001b[0m    \u001b[0;32mreturn\u001b[0m \u001b[0mdicts\u001b[0m\u001b[0;34m\u001b[0m\u001b[0;34m\u001b[0m\u001b[0m\n",
      "\u001b[0;31mFile:\u001b[0m      ~/<ipython-input-1-b591f7575837>\n",
      "\u001b[0;31mType:\u001b[0m      function\n"
     ]
    }
   ],
   "source": [
    "get_num_position??"
   ]
  },
  {
   "cell_type": "code",
   "execution_count": null,
   "metadata": {},
   "outputs": [],
   "source": [
    "def get_star_positions(row):\n",
    "    positions = []\n",
    "    for position, char in enumerate(row):\n",
    "        if char == \"*\":\n",
    "            positions.append(position)\n",
    "    return positions"
   ]
  },
  {
   "cell_type": "code",
   "execution_count": null,
   "metadata": {},
   "outputs": [
    {
     "data": {
      "text/plain": [
       "[2, 5]"
      ]
     },
     "execution_count": null,
     "metadata": {},
     "output_type": "execute_result"
    }
   ],
   "source": [
    "get_star_positions('..*..*')"
   ]
  },
  {
   "cell_type": "code",
   "execution_count": null,
   "metadata": {},
   "outputs": [
    {
     "data": {
      "text/plain": [
       "2"
      ]
     },
     "execution_count": null,
     "metadata": {},
     "output_type": "execute_result"
    }
   ],
   "source": [
    "('..*..*').index('*')"
   ]
  },
  {
   "cell_type": "code",
   "execution_count": null,
   "metadata": {},
   "outputs": [
    {
     "name": "stdout",
     "output_type": "stream",
     "text": [
      "\u001b[0;31m---------------------------------------------------------------------------\u001b[0m\n",
      "\u001b[0;31mValueError\u001b[0m                                Traceback (most recent call last)\n",
      "Cell \u001b[0;32mIn[1], line 1\u001b[0m\n",
      "\u001b[0;32m----> 1\u001b[0m \u001b[43m[\u001b[49m\u001b[43mo\u001b[49m\u001b[38;5;241;43m.\u001b[39;49m\u001b[43mindex\u001b[49m\u001b[43m(\u001b[49m\u001b[38;5;124;43m'\u001b[39;49m\u001b[38;5;124;43m*\u001b[39;49m\u001b[38;5;124;43m'\u001b[39;49m\u001b[43m)\u001b[49m\u001b[43m \u001b[49m\u001b[38;5;28;43;01mfor\u001b[39;49;00m\u001b[43m \u001b[49m\u001b[43mo\u001b[49m\u001b[43m \u001b[49m\u001b[38;5;129;43;01min\u001b[39;49;00m\u001b[43m \u001b[49m\u001b[38;5;124;43m'\u001b[39;49m\u001b[38;5;124;43m..*..*\u001b[39;49m\u001b[38;5;124;43m'\u001b[39;49m\u001b[43m]\u001b[49m\n",
      "\n",
      "Cell \u001b[0;32mIn[1], line 1\u001b[0m, in \u001b[0;36m<listcomp>\u001b[0;34m(.0)\u001b[0m\n",
      "\u001b[0;32m----> 1\u001b[0m [\u001b[43mo\u001b[49m\u001b[38;5;241;43m.\u001b[39;49m\u001b[43mindex\u001b[49m\u001b[43m(\u001b[49m\u001b[38;5;124;43m'\u001b[39;49m\u001b[38;5;124;43m*\u001b[39;49m\u001b[38;5;124;43m'\u001b[39;49m\u001b[43m)\u001b[49m \u001b[38;5;28;01mfor\u001b[39;00m o \u001b[38;5;129;01min\u001b[39;00m \u001b[38;5;124m'\u001b[39m\u001b[38;5;124m..*..*\u001b[39m\u001b[38;5;124m'\u001b[39m]\n",
      "\n",
      "\u001b[0;31mValueError\u001b[0m: substring not found\n"
     ]
    },
    {
     "ename": "ValueError",
     "evalue": "substring not found",
     "output_type": "error",
     "traceback": [
      "Traceback (most recent call last):\n",
      "  File \"/usr/local/lib/python3.11/site-packages/IPython/core/interactiveshell.py\", line 3577, in run_code\n    exec(code_obj, self.user_global_ns, self.user_ns)\n",
      "  File \"<ipython-input-1-aba2ac0a35ed>\", line 1, in <module>\n    [o.index('*') for o in '..*..*']\n",
      "  File \"<ipython-input-1-aba2ac0a35ed>\", line 1, in <listcomp>\n    [o.index('*') for o in '..*..*']\n     ^^^^^^^^^^^^\n",
      "ValueError: substring not found\n"
     ]
    }
   ],
   "source": [
    "[o.index('*') for o in '..*..*']"
   ]
  },
  {
   "cell_type": "code",
   "execution_count": null,
   "metadata": {},
   "outputs": [
    {
     "name": "stdout",
     "output_type": "stream",
     "text": [
      "0\n",
      "0\n",
      "0\n",
      "0\n",
      "0\n",
      "0\n"
     ]
    }
   ],
   "source": [
    "for o in '..*..*': print(0)"
   ]
  },
  {
   "cell_type": "code",
   "execution_count": null,
   "metadata": {},
   "outputs": [
    {
     "name": "stdout",
     "output_type": "stream",
     "text": [
      ".\n",
      ".\n",
      "*\n",
      ".\n",
      ".\n",
      "*\n"
     ]
    }
   ],
   "source": [
    "for o in '..*..*': print(o)"
   ]
  },
  {
   "cell_type": "code",
   "execution_count": null,
   "metadata": {},
   "outputs": [],
   "source": [
    "def get_star_positions(row):\n",
    "    return [index for index, val in enumerate(row) if val == '*']"
   ]
  },
  {
   "cell_type": "code",
   "execution_count": null,
   "metadata": {},
   "outputs": [
    {
     "data": {
      "text/plain": [
       "[24, 30, 65, 128]"
      ]
     },
     "execution_count": null,
     "metadata": {},
     "output_type": "execute_result"
    }
   ],
   "source": [
    "get_star_positions(xs[1])"
   ]
  },
  {
   "cell_type": "code",
   "execution_count": null,
   "metadata": {},
   "outputs": [
    {
     "data": {
      "text/plain": [
       "'...122..................*.....*..........................919..509*..........&...@.........../...........................+.......*...........'"
      ]
     },
     "execution_count": null,
     "metadata": {},
     "output_type": "execute_result"
    }
   ],
   "source": [
    "xs[1]"
   ]
  },
  {
   "cell_type": "code",
   "execution_count": null,
   "metadata": {},
   "outputs": [],
   "source": [
    "example = '''\n",
    "467..114..\n",
    "...*......\n",
    "..35..633.\n",
    "......#...\n",
    "617*......\n",
    ".....+.58.\n",
    "..592.....\n",
    "......755.\n",
    "...$.*....\n",
    ".664.598..\n",
    "'''"
   ]
  },
  {
   "cell_type": "code",
   "execution_count": null,
   "metadata": {},
   "outputs": [],
   "source": [
    "xxs = preprocess_raw(example)"
   ]
  },
  {
   "cell_type": "code",
   "execution_count": null,
   "metadata": {},
   "outputs": [
    {
     "data": {
      "text/plain": [
       "[3]"
      ]
     },
     "execution_count": null,
     "metadata": {},
     "output_type": "execute_result"
    }
   ],
   "source": [
    "get_star_positions(xxs[1])"
   ]
  },
  {
   "cell_type": "markdown",
   "metadata": {},
   "source": [
    "**AI Prompt**\n",
    "\n",
    "what's next?"
   ]
  },
  {
   "cell_type": "markdown",
   "metadata": {},
   "source": [
    "**AI Response**\n",
    "\n",
    "For Part 2, we need to:\n",
    "\n",
    "1. Find all '*' characters (potential gears) in each row\n",
    "2. For each '*', check if it has exactly two adjacent numbers\n",
    "3. If it does, multiply those two numbers together to get the gear ratio\n",
    "4. Sum all the gear ratios\n",
    "\n",
    "We've already got `get_star_positions` to find the '*' locations. Now we need to:\n",
    "1. Write a function that finds all numbers adjacent to a star at a given position\n",
    "2. Check if there are exactly two numbers adjacent to each star\n",
    "3. Calculate and sum the gear ratios\n",
    "\n",
    "Would you like to start by writing a function to find numbers adjacent to a star at a given position? Or would you like some hints first?"
   ]
  },
  {
   "cell_type": "markdown",
   "metadata": {},
   "source": [
    "**AI Prompt**\n",
    "\n",
    "give me hints for this function"
   ]
  },
  {
   "cell_type": "markdown",
   "metadata": {},
   "source": [
    "**AI Response**\n",
    "\n",
    "Here's how we can think about finding numbers adjacent to a star:\n",
    "\n",
    "1. For a star at position `star_pos` in row `row_idx`, we need to check:\n",
    "   - The row above (row_idx - 1)\n",
    "   - The current row (row_idx)\n",
    "   - The row below (row_idx + 1)\n",
    "\n",
    "2. For each number in these rows (using `get_num_position`), check if it's adjacent by:\n",
    "   - Looking if any part of the number is within one position of the star\n",
    "   - Example: if star is at position 3, check if the number's positions overlap with positions 2-4\n",
    "\n",
    "3. We can test if a number overlaps these positions by checking if:\n",
    "   - `number['start'] <= star_pos + 1` (number starts before or at the position after the star)\n",
    "   - `number['end'] - 1 >= star_pos - 1` (number ends after or at the position before the star)\n",
    "\n",
    "Would you like to try implementing this logic, or would you like more specific hints?"
   ]
  },
  {
   "cell_type": "markdown",
   "metadata": {},
   "source": [
    "**AI Prompt**\n",
    "\n",
    "implement the logic"
   ]
  },
  {
   "cell_type": "markdown",
   "metadata": {},
   "source": [
    "**AI Response**\n",
    "\n",
    "Let's write a function that finds numbers adjacent to a star. Try this:\n",
    "\n",
    "```python\n",
    "def find_adjacent_numbers(grid, row_idx, star_pos):\n",
    "    adjacent_numbers = []\n",
    "    \n",
    "    # Check the rows (above, current, and below)\n",
    "    for check_row in range(max(0, row_idx-1), min(len(grid), row_idx+2)):\n",
    "        numbers = get_num_position(grid[check_row])\n",
    "        \n",
    "        # For each number in the row, check if it's adjacent to the star\n",
    "        for number in numbers:\n",
    "            if (number['start'] <= star_pos + 1 and \n",
    "                number['end'] - 1 >= star_pos - 1):\n",
    "                adjacent_numbers.append(number['number'])\n",
    "                \n",
    "    return adjacent_numbers\n",
    "```\n",
    "\n",
    "Would you like to test this function with our example data to see if it correctly identifies the numbers adjacent to each star?"
   ]
  },
  {
   "cell_type": "code",
   "execution_count": null,
   "metadata": {},
   "outputs": [],
   "source": [
    "def find_adjacent_numbers(grid, row_idx, star_pos):\n",
    "    adjacent_numbers = []\n",
    "    \n",
    "    # Check the rows (above, current, and below)\n",
    "    for check_row in range(max(0, row_idx-1), min(len(grid), row_idx+2)):\n",
    "        numbers = get_num_position(grid[check_row])\n",
    "        \n",
    "        # For each number in the row, check if it's adjacent to the star\n",
    "        for number in numbers:\n",
    "            if (number['start'] <= star_pos + 1 and \n",
    "                number['end'] - 1 >= star_pos - 1):\n",
    "                adjacent_numbers.append(number['number'])\n",
    "                \n",
    "    return adjacent_numbers"
   ]
  },
  {
   "cell_type": "code",
   "execution_count": null,
   "metadata": {},
   "outputs": [
    {
     "data": {
      "text/plain": [
       "[[467, 35], [617], [755, 598]]"
      ]
     },
     "execution_count": null,
     "metadata": {},
     "output_type": "execute_result"
    }
   ],
   "source": [
    "all_nums = []\n",
    "for row_idx, row in enumerate(xxs):\n",
    "    star_poses = get_star_positions(row)\n",
    "    for star_pos in star_poses:\n",
    "        nums = find_adjacent_numbers(xxs,row_idx,star_pos)\n",
    "        all_nums.append(nums)\n",
    "\n",
    "all_nums"
   ]
  },
  {
   "cell_type": "code",
   "execution_count": null,
   "metadata": {},
   "outputs": [
    {
     "data": {
      "text/plain": [
       "[[467, 35], [755, 598]]"
      ]
     },
     "execution_count": null,
     "metadata": {},
     "output_type": "execute_result"
    }
   ],
   "source": [
    "all_nums = []\n",
    "for row_idx, row in enumerate(xxs):\n",
    "    star_poses = get_star_positions(row)\n",
    "    for star_pos in star_poses:\n",
    "        nums = find_adjacent_numbers(xxs,row_idx,star_pos)\n",
    "        if len(nums) ==2:\n",
    "            all_nums.append(nums)\n",
    "\n",
    "all_nums"
   ]
  },
  {
   "cell_type": "code",
   "execution_count": null,
   "metadata": {},
   "outputs": [
    {
     "data": {
      "text/plain": [
       "[16345, 451490]"
      ]
     },
     "execution_count": null,
     "metadata": {},
     "output_type": "execute_result"
    }
   ],
   "source": [
    "from math import prod\n",
    "all_nums = []\n",
    "for row_idx, row in enumerate(xxs):\n",
    "    star_poses = get_star_positions(row)\n",
    "    for star_pos in star_poses:\n",
    "        nums = find_adjacent_numbers(xxs,row_idx,star_pos)\n",
    "        if len(nums) ==2:\n",
    "            all_nums.append(prod(nums))\n",
    "\n",
    "all_nums"
   ]
  },
  {
   "cell_type": "code",
   "execution_count": null,
   "metadata": {},
   "outputs": [
    {
     "data": {
      "text/plain": [
       "81709807"
      ]
     },
     "execution_count": null,
     "metadata": {},
     "output_type": "execute_result"
    }
   ],
   "source": [
    "from math import prod\n",
    "all_nums = []\n",
    "for row_idx, row in enumerate(xs):\n",
    "    star_poses = get_star_positions(row)\n",
    "    for star_pos in star_poses:\n",
    "        nums = find_adjacent_numbers(xs,row_idx,star_pos)\n",
    "        if len(nums) ==2:\n",
    "            all_nums.append(prod(nums))\n",
    "\n",
    "sum(all_nums)"
   ]
  },
  {
   "cell_type": "markdown",
   "metadata": {},
   "source": [
    "**AI Prompt**\n",
    "\n",
    "what's this kind of usage \"for number in numbers:\n",
    "            if (number['start'] <= star_pos + 1 and \n",
    "                number['end'] - 1 >= star_pos - 1):\n",
    "                adjacent_numbers.append(number['number'])\" I felt like amazing! is this use common?"
   ]
  },
  {
   "cell_type": "markdown",
   "metadata": {},
   "source": [
    "**AI Response**\n",
    "\n",
    "Yes! This is a very common and powerful Python pattern that combines several useful concepts:\n",
    "\n",
    "1. Dictionary access: Using `number['start']` and `number['end']` to access values in a dictionary\n",
    "2. Range comparison: Checking if a value falls within a range using two conditions:\n",
    "   - `number['start'] <= star_pos + 1` (is it starting before or at our right boundary?)\n",
    "   - `number['end'] - 1 >= star_pos - 1` (is it ending after or at our left boundary?)\n",
    "3. Multi-line conditions: Breaking a long condition across lines for readability using parentheses\n",
    "\n",
    "This pattern is especially common when:\n",
    "- Working with positions or ranges (like in games or text processing)\n",
    "- Checking for overlaps between intervals\n",
    "- Processing geometric data\n",
    "\n",
    "Would you like to see some other examples of how this pattern can be used in different contexts?"
   ]
  },
  {
   "cell_type": "markdown",
   "metadata": {},
   "source": [
    "**AI Prompt**\n",
    "\n",
    "yes"
   ]
  },
  {
   "cell_type": "markdown",
   "metadata": {},
   "source": [
    "**AI Response**\n",
    "\n",
    "Here are some practical examples of similar patterns:\n",
    "\n",
    "1. Checking if two time periods overlap (like scheduling):\n",
    "```python\n",
    "def has_time_conflict(meeting1, meeting2):\n",
    "    return (meeting1['start_time'] <= meeting2['end_time'] and \n",
    "            meeting1['end_time'] >= meeting2['start_time'])\n",
    "```\n",
    "\n",
    "2. Finding objects within a certain distance in a game:\n",
    "```python\n",
    "def is_in_range(player, target):\n",
    "    return (player['x'] - target['x'])**2 + (player['y'] - target['y'])**2 <= player['range']**2\n",
    "```\n",
    "\n",
    "Would you like to try using one of these patterns, or would you like to see more examples? We could also explore how to use this pattern to solve a specific problem you're interested in."
   ]
  }
 ],
 "metadata": {
  "kernelspec": {
   "display_name": "Python 3",
   "language": "python",
   "name": "python3"
  },
  "language_info": {
   "codemirror_mode": {
    "name": "ipython",
    "version": 3
   },
   "file_extension": ".py",
   "mimetype": "text/x-python",
   "name": "python",
   "nbconvert_exporter": "python",
   "pygments_lexer": "ipython3",
   "version": "3.10.10"
  }
 },
 "nbformat": 4,
 "nbformat_minor": 4
}
