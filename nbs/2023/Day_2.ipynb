{
 "cells": [
  {
   "cell_type": "markdown",
   "metadata": {},
   "source": [
    "## Day 2\n",
    "You play several games and record the information from each game (your puzzle input). Each game is listed with its ID number (like the 11 in Game 11: ...) followed by a semicolon-separated list of subsets of cubes that were revealed from the bag (like 3 red, 5 green, 4 blue).\n",
    "\n",
    "For example, the record of a few games might look like this:\n",
    "```\n",
    "Game 1: 3 blue, 4 red; 1 red, 2 green, 6 blue; 2 green\n",
    "Game 2: 1 blue, 2 green; 3 green, 4 blue, 1 red; 1 green, 1 blue\n",
    "Game 3: 8 green, 6 blue, 20 red; 5 blue, 4 red, 13 green; 5 green, 1 red\n",
    "Game 4: 1 green, 3 red, 6 blue; 3 green, 6 red; 3 green, 15 blue, 14 red\n",
    "Game 5: 6 red, 1 blue, 3 green; 2 blue, 1 red, 2 green\n",
    "```\n",
    "In game 1, three sets of cubes are revealed from the bag (and then put back again). The first set is 3 blue cubes and 4 red cubes; the second set is 1 red cube, 2 green cubes, and 6 blue cubes; the third set is only 2 green cubes.\n",
    "\n",
    "The Elf would first like to know which games would have been possible if the bag contained only 12 red cubes, 13 green cubes, and 14 blue cubes?\n",
    "\n",
    "In the example above, games 1, 2, and 5 would have been possible if the bag had been loaded with that configuration. However, game 3 would have been impossible because at one point the Elf showed you 20 red cubes at once; similarly, game 4 would also have been impossible because the Elf showed you 15 blue cubes at once. If you add up the IDs of the games that would have been possible, you get 8.\n",
    "\n",
    "Determine which games would have been possible if the bag had been loaded with only 12 red cubes, 13 green cubes, and 14 blue cubes. What is the sum of the IDs of those games?"
   ]
  },
  {
   "cell_type": "code",
   "execution_count": null,
   "metadata": {},
   "outputs": [],
   "source": [
    "sample = '''\n",
    "Game 1: 3 blue, 4 red; 1 red, 2 green, 6 blue; 2 green\n",
    "Game 2: 1 blue, 2 green; 3 green, 4 blue, 1 red; 1 green, 1 blue\n",
    "Game 3: 8 green, 6 blue, 20 red; 5 blue, 4 red, 13 green; 5 green, 1 red\n",
    "Game 4: 1 green, 3 red, 6 blue; 3 green, 6 red; 3 green, 15 blue, 14 red\n",
    "Game 5: 6 red, 1 blue, 3 green; 2 blue, 1 red, 2 green\n",
    "'''"
   ]
  },
  {
   "cell_type": "code",
   "execution_count": null,
   "metadata": {},
   "outputs": [
    {
     "data": {
      "text/plain": [
       "['\\nGame 1',\n",
       " ' 3 blue, 4 red; 1 red, 2 green, 6 blue; 2 green\\nGame 2',\n",
       " ' 1 blue, 2 green; 3 green, 4 blue, 1 red; 1 green, 1 blue\\nGame 3',\n",
       " ' 8 green, 6 blue, 20 red; 5 blue, 4 red, 13 green; 5 green, 1 red\\nGame 4',\n",
       " ' 1 green, 3 red, 6 blue; 3 green, 6 red; 3 green, 15 blue, 14 red\\nGame 5',\n",
       " ' 6 red, 1 blue, 3 green; 2 blue, 1 red, 2 green\\n']"
      ]
     },
     "metadata": {},
     "output_type": "execute_result"
    }
   ],
   "source": [
    "sample.split(':')"
   ]
  },
  {
   "cell_type": "markdown",
   "metadata": {},
   "source": [
    "**AI Prompt**\n",
    "\n",
    "How to get the sample input in the correct format?"
   ]
  },
  {
   "cell_type": "markdown",
   "metadata": {},
   "source": [
    "**AI Response**\n",
    "\n",
    "Let's break this down into steps. First, we need to process this input string into a more usable format. Looking at your split attempt, we can see we need to:\n",
    "\n",
    "1. Split the input into individual games\n",
    "2. Extract the game ID and the cube sets for each game\n",
    "\n",
    "Would you like to try writing some code to handle the first step? We could start by splitting the input into lines and removing any empty lines. \n",
    "\n",
    "Would you like me to suggest how to do this, or would you prefer to try it yourself first?"
   ]
  },
  {
   "cell_type": "code",
   "execution_count": null,
   "metadata": {},
   "outputs": [
    {
     "data": {
      "text/plain": [
       "['',\n",
       " 'Game 1: 3 blue, 4 red; 1 red, 2 green, 6 blue; 2 green',\n",
       " 'Game 2: 1 blue, 2 green; 3 green, 4 blue, 1 red; 1 green, 1 blue',\n",
       " 'Game 3: 8 green, 6 blue, 20 red; 5 blue, 4 red, 13 green; 5 green, 1 red',\n",
       " 'Game 4: 1 green, 3 red, 6 blue; 3 green, 6 red; 3 green, 15 blue, 14 red',\n",
       " 'Game 5: 6 red, 1 blue, 3 green; 2 blue, 1 red, 2 green']"
      ]
     },
     "metadata": {},
     "output_type": "execute_result"
    }
   ],
   "source": [
    "sample.splitlines()"
   ]
  },
  {
   "cell_type": "code",
   "execution_count": null,
   "metadata": {},
   "outputs": [],
   "source": [
    "xs = [o for o in sample.splitlines() if o]"
   ]
  },
  {
   "cell_type": "code",
   "execution_count": null,
   "metadata": {},
   "outputs": [
    {
     "data": {
      "text/plain": [
       "['Game 1: 3 blue, 4 red; 1 red, 2 green, 6 blue; 2 green',\n",
       " 'Game 2: 1 blue, 2 green; 3 green, 4 blue, 1 red; 1 green, 1 blue',\n",
       " 'Game 3: 8 green, 6 blue, 20 red; 5 blue, 4 red, 13 green; 5 green, 1 red',\n",
       " 'Game 4: 1 green, 3 red, 6 blue; 3 green, 6 red; 3 green, 15 blue, 14 red',\n",
       " 'Game 5: 6 red, 1 blue, 3 green; 2 blue, 1 red, 2 green']"
      ]
     },
     "metadata": {},
     "output_type": "execute_result"
    }
   ],
   "source": [
    "xs"
   ]
  },
  {
   "cell_type": "code",
   "execution_count": null,
   "metadata": {},
   "outputs": [
    {
     "data": {
      "text/plain": [
       "[['Game 1', ' 3 blue, 4 red; 1 red, 2 green, 6 blue; 2 green'],\n",
       " ['Game 2', ' 1 blue, 2 green; 3 green, 4 blue, 1 red; 1 green, 1 blue'],\n",
       " ['Game 3',\n",
       "  ' 8 green, 6 blue, 20 red; 5 blue, 4 red, 13 green; 5 green, 1 red'],\n",
       " ['Game 4',\n",
       "  ' 1 green, 3 red, 6 blue; 3 green, 6 red; 3 green, 15 blue, 14 red'],\n",
       " ['Game 5', ' 6 red, 1 blue, 3 green; 2 blue, 1 red, 2 green']]"
      ]
     },
     "metadata": {},
     "output_type": "execute_result"
    }
   ],
   "source": [
    "[o.split(':') for o in xs]"
   ]
  },
  {
   "cell_type": "code",
   "execution_count": null,
   "metadata": {},
   "outputs": [
    {
     "data": {
      "text/plain": [
       "[' 3 blue, 4 red; 1 red, 2 green, 6 blue; 2 green',\n",
       " ' 1 blue, 2 green; 3 green, 4 blue, 1 red; 1 green, 1 blue',\n",
       " ' 8 green, 6 blue, 20 red; 5 blue, 4 red, 13 green; 5 green, 1 red',\n",
       " ' 1 green, 3 red, 6 blue; 3 green, 6 red; 3 green, 15 blue, 14 red',\n",
       " ' 6 red, 1 blue, 3 green; 2 blue, 1 red, 2 green']"
      ]
     },
     "metadata": {},
     "output_type": "execute_result"
    }
   ],
   "source": [
    "[o.split(':')[1] for o in xs]"
   ]
  },
  {
   "cell_type": "code",
   "execution_count": null,
   "metadata": {},
   "outputs": [
    {
     "data": {
      "text/plain": [
       "['3 blue, 4 red; 1 red, 2 green, 6 blue; 2 green',\n",
       " '1 blue, 2 green; 3 green, 4 blue, 1 red; 1 green, 1 blue',\n",
       " '8 green, 6 blue, 20 red; 5 blue, 4 red, 13 green; 5 green, 1 red',\n",
       " '1 green, 3 red, 6 blue; 3 green, 6 red; 3 green, 15 blue, 14 red',\n",
       " '6 red, 1 blue, 3 green; 2 blue, 1 red, 2 green']"
      ]
     },
     "metadata": {},
     "output_type": "execute_result"
    }
   ],
   "source": [
    "[o.split(': ')[1] for o in xs]"
   ]
  },
  {
   "cell_type": "code",
   "execution_count": null,
   "metadata": {},
   "outputs": [],
   "source": [
    "xs = [o.split(': ')[1] for o in xs]"
   ]
  },
  {
   "cell_type": "code",
   "execution_count": null,
   "metadata": {},
   "outputs": [
    {
     "data": {
      "text/plain": [
       "['3 blue, 4 red; 1 red, 2 green, 6 blue; 2 green',\n",
       " '1 blue, 2 green; 3 green, 4 blue, 1 red; 1 green, 1 blue',\n",
       " '8 green, 6 blue, 20 red; 5 blue, 4 red, 13 green; 5 green, 1 red',\n",
       " '1 green, 3 red, 6 blue; 3 green, 6 red; 3 green, 15 blue, 14 red',\n",
       " '6 red, 1 blue, 3 green; 2 blue, 1 red, 2 green']"
      ]
     },
     "metadata": {},
     "output_type": "execute_result"
    }
   ],
   "source": [
    "xs"
   ]
  },
  {
   "cell_type": "markdown",
   "metadata": {},
   "source": [
    "**AI Prompt**\n",
    "\n",
    "now where are we?"
   ]
  },
  {
   "cell_type": "markdown",
   "metadata": {},
   "source": [
    "**AI Response**\n",
    "\n",
    "Looking at where we are now, we have a list `xs` where each item represents one game's cube sets, with the \"Game X:\" part removed. For example, the first game is now:\n",
    "`'3 blue, 4 red; 1 red, 2 green, 6 blue; 2 green'`\n",
    "\n",
    "The next step would be to:\n",
    "1. Split each game into its individual sets (separated by semicolons)\n",
    "2. Parse each set to count the number of cubes of each color\n",
    "\n",
    "Would you like to try handling the semicolon split first? We can use the `.split(';')` method on each game string.\n",
    "\n",
    "Would you like to try that, or would you like some guidance?"
   ]
  },
  {
   "cell_type": "code",
   "execution_count": null,
   "metadata": {},
   "outputs": [
    {
     "name": "stdout",
     "output_type": "stream",
     "text": [
      "['3 blue, 4 red', ' 1 red, 2 green, 6 blue', ' 2 green']\n",
      "['1 blue, 2 green', ' 3 green, 4 blue, 1 red', ' 1 green, 1 blue']\n",
      "['8 green, 6 blue, 20 red', ' 5 blue, 4 red, 13 green', ' 5 green, 1 red']\n",
      "['1 green, 3 red, 6 blue', ' 3 green, 6 red', ' 3 green, 15 blue, 14 red']\n",
      "['6 red, 1 blue, 3 green', ' 2 blue, 1 red, 2 green']\n"
     ]
    }
   ],
   "source": [
    "for games in xs:\n",
    "    print(games.split(';'))"
   ]
  },
  {
   "cell_type": "markdown",
   "metadata": {},
   "source": [
    "**AI Prompt**\n",
    "\n",
    "then what's next"
   ]
  },
  {
   "cell_type": "markdown",
   "metadata": {},
   "source": [
    "**AI Response**\n",
    "\n",
    "Now we need to parse each set to count the cubes of each color. Looking at a single set like '3 blue, 4 red', we need to:\n",
    "1. Split by comma\n",
    "2. Extract the number and color from each part\n",
    "\n",
    "Let's try with one set first to make sure we understand it. Would you like to try splitting one of these by comma and see what we get? We could use something like:\n",
    "\n",
    "```python\n",
    "xs[0].split(';')[0]  # This gets the first set of the first game\n",
    "```\n",
    "\n",
    "Would you like to try that?"
   ]
  },
  {
   "cell_type": "code",
   "execution_count": null,
   "metadata": {},
   "outputs": [
    {
     "data": {
      "text/plain": [
       "'3 blue, 4 red'"
      ]
     },
     "metadata": {},
     "output_type": "execute_result"
    }
   ],
   "source": [
    "xs[0].split(';')[0]"
   ]
  },
  {
   "cell_type": "code",
   "execution_count": null,
   "metadata": {},
   "outputs": [],
   "source": [
    "x = xs[0].split(';')[0]"
   ]
  },
  {
   "cell_type": "code",
   "execution_count": null,
   "metadata": {},
   "outputs": [
    {
     "data": {
      "text/plain": [
       "['3 blue', ' 4 red']"
      ]
     },
     "metadata": {},
     "output_type": "execute_result"
    }
   ],
   "source": [
    "x.split(',')"
   ]
  },
  {
   "cell_type": "markdown",
   "metadata": {},
   "source": [
    "**AI Prompt**\n",
    "\n",
    "then what's next"
   ]
  },
  {
   "cell_type": "markdown",
   "metadata": {},
   "source": [
    "**AI Response**\n",
    "\n",
    "Now we have items like '3 blue' and ' 4 red'. We need to:\n",
    "1. Split each of these into the number and color\n",
    "2. Remove any extra spaces\n",
    "\n",
    "Let's try with one of these strings. Would you like to try splitting '3 blue' into its number and color components? You can use the `.strip()` method to remove extra spaces first.\n",
    "\n",
    "Would you like to try that?"
   ]
  },
  {
   "cell_type": "code",
   "execution_count": null,
   "metadata": {},
   "outputs": [],
   "source": [
    "x1 = x.split(', ')"
   ]
  },
  {
   "cell_type": "code",
   "execution_count": null,
   "metadata": {},
   "outputs": [
    {
     "data": {
      "text/plain": [
       "['3 blue', '4 red']"
      ]
     },
     "metadata": {},
     "output_type": "execute_result"
    }
   ],
   "source": [
    "x1"
   ]
  },
  {
   "cell_type": "markdown",
   "metadata": {},
   "source": [
    "**AI Prompt**\n",
    "\n",
    "what's next"
   ]
  },
  {
   "cell_type": "markdown",
   "metadata": {},
   "source": [
    "**AI Response**\n",
    "\n",
    "Now we can split each item like '3 blue' into its number and color. We can use `.split()` again since they're separated by a space. Let's try with the first item:\n",
    "\n",
    "Would you like to try splitting `x1[0]` into its number and color parts? Then we can convert the number part to an integer using `int()`.\n",
    "\n",
    "Would you like to try that?"
   ]
  },
  {
   "cell_type": "code",
   "execution_count": null,
   "metadata": {},
   "outputs": [
    {
     "data": {
      "text/plain": [
       "['3', 'blue']"
      ]
     },
     "metadata": {},
     "output_type": "execute_result"
    }
   ],
   "source": [
    "x1[0].split(' ')"
   ]
  },
  {
   "cell_type": "markdown",
   "metadata": {},
   "source": [
    "**AI Prompt**\n",
    "\n",
    "what's next"
   ]
  },
  {
   "cell_type": "markdown",
   "metadata": {},
   "source": [
    "**AI Response**\n",
    "\n",
    "Perfect! Now we can create a small dictionary to store the count for each color. For each game, we'll need to:\n",
    "1. Track the maximum number seen for each color\n",
    "2. Compare those maximums against our limits (12 red, 13 green, 14 blue)\n",
    "\n",
    "Would you like to try creating a dictionary for the first set of cubes? We could use something like this structure:\n",
    "```python\n",
    "{'red': count, 'blue': count, 'green': count}\n",
    "```\n",
    "\n",
    "Would you like to try that?"
   ]
  },
  {
   "cell_type": "code",
   "execution_count": null,
   "metadata": {},
   "outputs": [],
   "source": [
    "single = x1[0].split(' ')"
   ]
  },
  {
   "cell_type": "code",
   "execution_count": null,
   "metadata": {},
   "outputs": [
    {
     "data": {
      "text/plain": [
       "['3', 'blue']"
      ]
     },
     "metadata": {},
     "output_type": "execute_result"
    }
   ],
   "source": [
    "single"
   ]
  },
  {
   "cell_type": "code",
   "execution_count": null,
   "metadata": {},
   "outputs": [
    {
     "data": {
      "text/plain": [
       "{'key': 'blue', 'value': '3'}"
      ]
     },
     "metadata": {},
     "output_type": "execute_result"
    }
   ],
   "source": [
    "dict(key=single[1],value=single[0])"
   ]
  },
  {
   "cell_type": "code",
   "execution_count": null,
   "metadata": {},
   "outputs": [
    {
     "name": "stdout",
     "output_type": "stream",
     "text": [
      "\u001b[0;36m  Cell \u001b[0;32mIn[1], line 1\u001b[0;36m\u001b[0m\n",
      "\u001b[0;31m    dict(single[1]=single[0])\u001b[0m\n",
      "\u001b[0m         ^\u001b[0m\n",
      "\u001b[0;31mSyntaxError\u001b[0m\u001b[0;31m:\u001b[0m expression cannot contain assignment, perhaps you meant \"==\"?\n",
      "\n"
     ]
    }
   ],
   "source": [
    "dict(single[1]=single[0])"
   ]
  },
  {
   "cell_type": "markdown",
   "metadata": {},
   "source": [
    "**AI Prompt**\n",
    "\n",
    "how to make it to be dictionary?"
   ]
  },
  {
   "cell_type": "markdown",
   "metadata": {},
   "source": [
    "**AI Response**\n",
    "\n",
    "To create a dictionary from our color and number, we have a few options. Here's one way:\n",
    "```python\n",
    "{single[1]: int(single[0])}\n",
    "```\n",
    "\n",
    "This will create a dictionary with the color as the key and the number (converted to integer) as the value.\n",
    "\n",
    "Would you like to try that? Then we can look at how to combine multiple colors into one dictionary."
   ]
  },
  {
   "cell_type": "code",
   "execution_count": null,
   "metadata": {},
   "outputs": [
    {
     "data": {
      "text/plain": [
       "{'blue': '3'}"
      ]
     },
     "metadata": {},
     "output_type": "execute_result"
    }
   ],
   "source": [
    "{single[1]:single[0]}"
   ]
  },
  {
   "cell_type": "markdown",
   "metadata": {},
   "source": [
    "**AI Prompt**\n",
    "\n",
    "what's next"
   ]
  },
  {
   "cell_type": "markdown",
   "metadata": {},
   "source": [
    "**AI Response**\n",
    "\n",
    "Now we need to handle both parts of `x1` (both the blue and red cubes) in a single dictionary. We can:\n",
    "1. Create an empty dictionary\n",
    "2. Add each color-number pair to it\n",
    "\n",
    "Would you like to try creating an empty dictionary and adding both colors from `x1`? Here's how we could start:\n",
    "```python\n",
    "cubes = {}\n",
    "```\n",
    "\n",
    "Would you like to try adding the colors and their counts to this dictionary?"
   ]
  },
  {
   "cell_type": "code",
   "execution_count": null,
   "metadata": {},
   "outputs": [
    {
     "data": {
      "text/plain": [
       "['3 blue', '4 red']"
      ]
     },
     "metadata": {},
     "output_type": "execute_result"
    }
   ],
   "source": [
    "x1"
   ]
  },
  {
   "cell_type": "code",
   "execution_count": null,
   "metadata": {},
   "outputs": [],
   "source": [
    "cubes={}\n",
    "for o in x1:\n",
    "    single = o.split(' ')\n",
    "    single_dict = {single[1]:single[0]}"
   ]
  },
  {
   "cell_type": "code",
   "execution_count": null,
   "metadata": {},
   "outputs": [
    {
     "data": {
      "text/plain": [
       "{'red': '4'}"
      ]
     },
     "metadata": {},
     "output_type": "execute_result"
    }
   ],
   "source": [
    "single_dict"
   ]
  },
  {
   "cell_type": "code",
   "execution_count": null,
   "metadata": {},
   "outputs": [
    {
     "name": "stdout",
     "output_type": "stream",
     "text": [
      "\u001b[0;31m---------------------------------------------------------------------------\u001b[0m\n",
      "\u001b[0;31mTypeError\u001b[0m                                 Traceback (most recent call last)\n",
      "Cell \u001b[0;32mIn[1], line 1\u001b[0m\n",
      "\u001b[0;32m----> 1\u001b[0m \u001b[43mcubes\u001b[49m\u001b[38;5;241;43m+\u001b[39;49m\u001b[43msingle_dict\u001b[49m\n",
      "\n",
      "\u001b[0;31mTypeError\u001b[0m: unsupported operand type(s) for +: 'dict' and 'dict'\n"
     ]
    },
    {
     "ename": "TypeError",
     "evalue": "unsupported operand type(s) for +: 'dict' and 'dict'",
     "output_type": "error",
     "traceback": "Traceback (most recent call last):\n  File \"/usr/local/lib/python3.11/site-packages/IPython/core/interactiveshell.py\", line 3577, in run_code\n    exec(code_obj, self.user_global_ns, self.user_ns)\n  File \"<ipython-input-1-2088d8c6a298>\", line 1, in <module>\n    cubes+single_dict\n    ~~~~~^~~~~~~~~~~~\nTypeError: unsupported operand type(s) for +: 'dict' and 'dict'\n"
    }
   ],
   "source": [
    "cubes+single_dict"
   ]
  },
  {
   "cell_type": "markdown",
   "metadata": {},
   "source": [
    "**AI Prompt**\n",
    "\n",
    "how to add to the empty dict?"
   ]
  },
  {
   "cell_type": "markdown",
   "metadata": {},
   "source": [
    "**AI Response**\n",
    "\n",
    "To add items to a dictionary, we use the update() method or direct assignment. Here's how we can modify your code:\n",
    "\n",
    "```python\n",
    "cubes = {}\n",
    "for o in x1:\n",
    "    single = o.split(' ')\n",
    "    cubes[single[1]] = int(single[0])  # Using direct assignment\n",
    "```\n",
    "\n",
    "Or using update():\n",
    "```python\n",
    "cubes = {}\n",
    "for o in x1:\n",
    "    single = o.split(' ')\n",
    "    cubes.update({single[1]: int(single[0])})\n",
    "```\n",
    "\n",
    "Would you like to try one of these approaches? I also added `int()` to convert the numbers from strings to integers."
   ]
  },
  {
   "cell_type": "code",
   "execution_count": null,
   "metadata": {},
   "outputs": [],
   "source": [
    "cubes={}\n",
    "for o in x1:\n",
    "    single = o.split(' ')\n",
    "    cubes[single[1]] = single[0]"
   ]
  },
  {
   "cell_type": "code",
   "execution_count": null,
   "metadata": {},
   "outputs": [
    {
     "data": {
      "text/plain": [
       "{'blue': '3', 'red': '4'}"
      ]
     },
     "metadata": {},
     "output_type": "execute_result"
    }
   ],
   "source": [
    "cubes"
   ]
  },
  {
   "cell_type": "markdown",
   "metadata": {},
   "source": [
    "**AI Prompt**\n",
    "\n",
    "what's next?"
   ]
  },
  {
   "cell_type": "markdown",
   "metadata": {},
   "source": [
    "**AI Response**\n",
    "\n",
    "Now we need to do this for each set of cubes in a game, and keep track of the maximum number seen for each color. We should:\n",
    "\n",
    "1. First convert those string numbers to integers using `int()`\n",
    "2. Then apply this to all sets in a game (remember each game has multiple sets separated by semicolons)\n",
    "3. Track the maximum number for each color\n",
    "\n",
    "Would you like to try modifying your code to use `int()` first? Then we can work on handling multiple sets."
   ]
  },
  {
   "cell_type": "code",
   "execution_count": null,
   "metadata": {},
   "outputs": [],
   "source": [
    "cubes={}\n",
    "for o in x1:\n",
    "    single = o.split(' ')\n",
    "    cubes[single[1]] = int(single[0])"
   ]
  },
  {
   "cell_type": "code",
   "execution_count": null,
   "metadata": {},
   "outputs": [
    {
     "data": {
      "text/plain": [
       "{'blue': 3, 'red': 4}"
      ]
     },
     "metadata": {},
     "output_type": "execute_result"
    }
   ],
   "source": [
    "cubes"
   ]
  },
  {
   "cell_type": "markdown",
   "metadata": {},
   "source": [
    "**AI Prompt**\n",
    "\n",
    "what's next?"
   ]
  },
  {
   "cell_type": "markdown",
   "metadata": {},
   "source": [
    "**AI Response**\n",
    "\n",
    "Now let's work on handling all sets in a game. Remember that each game string in `xs` has multiple sets separated by semicolons. Let's:\n",
    "\n",
    "1. Take the first game from `xs` and process all its sets\n",
    "2. Keep track of the maximum number for each color across all sets\n",
    "\n",
    "Would you like to try getting all the sets from the first game using `.split(';')`? We can start with:\n",
    "```python\n",
    "game = xs[0]  # First game\n",
    "```\n",
    "\n",
    "Would you like to try that and see what sets we get?"
   ]
  },
  {
   "cell_type": "code",
   "execution_count": null,
   "metadata": {},
   "outputs": [],
   "source": [
    "game = xs[0]"
   ]
  },
  {
   "cell_type": "code",
   "execution_count": null,
   "metadata": {},
   "outputs": [
    {
     "data": {
      "text/plain": [
       "'3 blue, 4 red; 1 red, 2 green, 6 blue; 2 green'"
      ]
     },
     "metadata": {},
     "output_type": "execute_result"
    }
   ],
   "source": [
    "game"
   ]
  },
  {
   "cell_type": "code",
   "execution_count": null,
   "metadata": {},
   "outputs": [
    {
     "name": "stdout",
     "output_type": "stream",
     "text": [
      "['3 blue', '4 red']\n",
      "['1 red', '2 green', '6 blue']\n",
      "['2 green']\n"
     ]
    }
   ],
   "source": [
    "for g in game.split('; '):\n",
    "    print(g.split(', '))"
   ]
  },
  {
   "cell_type": "code",
   "execution_count": null,
   "metadata": {},
   "outputs": [
    {
     "data": {
      "text/plain": [
       "{'blue': 3, 'red': 4}"
      ]
     },
     "metadata": {},
     "output_type": "execute_result"
    }
   ],
   "source": [
    "def get_single_dict(single):\n",
    "    cubes={}\n",
    "    for o in single:\n",
    "        single = o.split(' ')\n",
    "        cubes[single[1]] = int(single[0])\n",
    "    return cubes\n",
    "\n",
    "get_single_dict(['3 blue', '4 red'])"
   ]
  },
  {
   "cell_type": "code",
   "execution_count": null,
   "metadata": {},
   "outputs": [
    {
     "name": "stdout",
     "output_type": "stream",
     "text": [
      "{'blue': 3, 'red': 4}\n",
      "{'red': 1, 'green': 2, 'blue': 6}\n",
      "{'green': 2}\n"
     ]
    }
   ],
   "source": [
    "for g in game.split('; '):\n",
    "    single = g.split(', ')\n",
    "    print(get_single_dict(single))"
   ]
  },
  {
   "cell_type": "markdown",
   "metadata": {},
   "source": [
    "**AI Prompt**\n",
    "\n",
    "what's next?"
   ]
  },
  {
   "cell_type": "markdown",
   "metadata": {},
   "source": [
    "**AI Response**\n",
    "\n",
    "Now we need to track the maximum number seen for each color across all sets in a game. We'll need to:\n",
    "\n",
    "1. Create a dictionary to store the maximum values\n",
    "2. For each set, compare its values with our current maximums and update if needed\n",
    "\n",
    "Would you like to try creating a dictionary to track the maximums? We can start with something like:\n",
    "```python\n",
    "max_cubes = {'red': 0, 'green': 0, 'blue': 0}\n",
    "```\n",
    "\n",
    "Then we'll need to update these values as we process each set. Would you like to try that?"
   ]
  },
  {
   "cell_type": "code",
   "execution_count": null,
   "metadata": {},
   "outputs": [],
   "source": [
    "max_cubes = {'red': 0, 'green': 0, 'blue': 0}"
   ]
  },
  {
   "cell_type": "markdown",
   "metadata": {},
   "source": [
    "**AI Prompt**\n",
    "\n",
    "how to update max_cubes dictionary with value?"
   ]
  },
  {
   "cell_type": "markdown",
   "metadata": {},
   "source": [
    "**AI Response**\n",
    "\n",
    "To update max_cubes with the maximum value for each color, we can use the `max()` function. For each set, we'll want to:\n",
    "\n",
    "1. Compare the current value with the new value\n",
    "2. Take the larger of the two\n",
    "\n",
    "Here's one way to do it:\n",
    "```python\n",
    "current_set = {'blue': 3, 'red': 4}  # example set\n",
    "for color in current_set:\n",
    "    max_cubes[color] = max(max_cubes[color], current_set[color])\n",
    "```\n",
    "\n",
    "Would you like to try this with your code? We can then check if it's updating the maximums correctly."
   ]
  },
  {
   "cell_type": "code",
   "execution_count": null,
   "metadata": {},
   "outputs": [],
   "source": [
    "max_cubes = {'red': 0, 'green': 0, 'blue': 0}\n",
    "for g in game.split('; '):\n",
    "    single = g.split(', ')\n",
    "    single_dict = get_single_dict(single)\n",
    "    for color in single_dict:\n",
    "        max_cubes[color] = max(max_cubes[color],single_dict[color])"
   ]
  },
  {
   "cell_type": "code",
   "execution_count": null,
   "metadata": {},
   "outputs": [
    {
     "data": {
      "text/plain": [
       "{'red': 4, 'green': 2, 'blue': 6}"
      ]
     },
     "metadata": {},
     "output_type": "execute_result"
    }
   ],
   "source": [
    "max_cubes"
   ]
  },
  {
   "cell_type": "markdown",
   "metadata": {},
   "source": [
    "**AI Prompt**\n",
    "\n",
    "what's next?"
   ]
  },
  {
   "cell_type": "markdown",
   "metadata": {},
   "source": [
    "**AI Response**\n",
    "\n",
    "Now we need to:\n",
    "\n",
    "1. Put this logic into a function that processes a single game\n",
    "2. Compare the maximum values against our limits (12 red, 13 green, 14 blue)\n",
    "3. Apply this to all games in `xs` and sum up the IDs of possible games\n",
    "\n",
    "Would you like to start by creating a function that processes a single game and returns whether it's possible? We can use our existing code as a starting point.\n",
    "\n",
    "Would you like to try that?"
   ]
  },
  {
   "cell_type": "code",
   "execution_count": null,
   "metadata": {},
   "outputs": [],
   "source": [
    "require_cubes = {'red':12,'green':13, 'blue':14}"
   ]
  },
  {
   "cell_type": "markdown",
   "metadata": {},
   "source": [
    "**AI Prompt**\n",
    "\n",
    "how to compare the values between max_cubes and require_cubes?"
   ]
  },
  {
   "cell_type": "markdown",
   "metadata": {},
   "source": [
    "**AI Response**\n",
    "\n",
    "To compare values between max_cubes and require_cubes, we need to check if each color in max_cubes is less than or equal to the required amount. Here's one way:\n",
    "\n",
    "```python\n",
    "for color in max_cubes:\n",
    "    if max_cubes[color] > require_cubes[color]:\n",
    "        return False\n",
    "return True\n",
    "```\n",
    "\n",
    "Or we could use the all() function:\n",
    "```python\n",
    "all(max_cubes[color] <= require_cubes[color] for color in max_cubes)\n",
    "```\n",
    "\n",
    "Would you like to try one of these approaches to check if a game is possible?"
   ]
  },
  {
   "cell_type": "code",
   "execution_count": null,
   "metadata": {},
   "outputs": [],
   "source": [
    "def compare_require(max_cubes,require_cubes):\n",
    "    for color in max_cubes:\n",
    "        if max_cubes[color] > require_cubes[color]:\n",
    "            return False\n",
    "    return True"
   ]
  },
  {
   "cell_type": "code",
   "execution_count": null,
   "metadata": {},
   "outputs": [
    {
     "data": {
      "text/plain": [
       "True"
      ]
     },
     "metadata": {},
     "output_type": "execute_result"
    }
   ],
   "source": [
    "compare_require(max_cubes,require_cubes)"
   ]
  },
  {
   "cell_type": "code",
   "execution_count": null,
   "metadata": {},
   "outputs": [],
   "source": [
    "def get_max_cubes(game):\n",
    "    max_cubes = {'red': 0, 'green': 0, 'blue': 0}\n",
    "    for g in game.split('; '):\n",
    "        single = g.split(', ')\n",
    "        single_dict = get_single_dict(single)\n",
    "        for color in single_dict:\n",
    "            max_cubes[color] = max(max_cubes[color],single_dict[color])\n",
    "    return max_cubes"
   ]
  },
  {
   "cell_type": "code",
   "execution_count": null,
   "metadata": {},
   "outputs": [
    {
     "data": {
      "text/plain": [
       "'3 blue, 4 red; 1 red, 2 green, 6 blue; 2 green'"
      ]
     },
     "metadata": {},
     "output_type": "execute_result"
    }
   ],
   "source": [
    "game"
   ]
  },
  {
   "cell_type": "code",
   "execution_count": null,
   "metadata": {},
   "outputs": [
    {
     "data": {
      "text/plain": [
       "{'red': 4, 'green': 2, 'blue': 6}"
      ]
     },
     "metadata": {},
     "output_type": "execute_result"
    }
   ],
   "source": [
    "get_max_cubes(game)"
   ]
  },
  {
   "cell_type": "code",
   "execution_count": null,
   "metadata": {},
   "outputs": [
    {
     "data": {
      "text/plain": [
       "['3 blue, 4 red; 1 red, 2 green, 6 blue; 2 green',\n",
       " '1 blue, 2 green; 3 green, 4 blue, 1 red; 1 green, 1 blue',\n",
       " '8 green, 6 blue, 20 red; 5 blue, 4 red, 13 green; 5 green, 1 red',\n",
       " '1 green, 3 red, 6 blue; 3 green, 6 red; 3 green, 15 blue, 14 red',\n",
       " '6 red, 1 blue, 3 green; 2 blue, 1 red, 2 green']"
      ]
     },
     "metadata": {},
     "output_type": "execute_result"
    }
   ],
   "source": [
    "xs"
   ]
  },
  {
   "cell_type": "code",
   "execution_count": null,
   "metadata": {},
   "outputs": [
    {
     "data": {
      "text/plain": [
       "{'red': 20, 'green': 13, 'blue': 6}"
      ]
     },
     "metadata": {},
     "output_type": "execute_result"
    }
   ],
   "source": [
    "get_max_cubes(xs[2])"
   ]
  },
  {
   "cell_type": "code",
   "execution_count": null,
   "metadata": {},
   "outputs": [
    {
     "name": "stdout",
     "output_type": "stream",
     "text": [
      "\u001b[0;36m  Cell \u001b[0;32mIn[1], line 4\u001b[0;36m\u001b[0m\n",
      "\u001b[0;31m    return compare_require(max_cubes,require_cubes)\u001b[0m\n",
      "\u001b[0m    ^\u001b[0m\n",
      "\u001b[0;31mSyntaxError\u001b[0m\u001b[0;31m:\u001b[0m 'return' outside function\n",
      "\n"
     ]
    }
   ],
   "source": [
    "for game in xs:\n",
    "    max_cubes = get_max_cubes(game)\n",
    "    print(max_cubes)\n",
    "    return compare_require(max_cubes,require_cubes)"
   ]
  },
  {
   "cell_type": "code",
   "execution_count": null,
   "metadata": {},
   "outputs": [
    {
     "name": "stdout",
     "output_type": "stream",
     "text": [
      "{'red': 4, 'green': 2, 'blue': 6}\n",
      "True\n",
      "{'red': 1, 'green': 3, 'blue': 4}\n",
      "True\n",
      "{'red': 20, 'green': 13, 'blue': 6}\n",
      "False\n",
      "{'red': 14, 'green': 3, 'blue': 15}\n",
      "False\n",
      "{'red': 6, 'green': 3, 'blue': 2}\n",
      "True\n"
     ]
    }
   ],
   "source": [
    "for game in xs:\n",
    "    max_cubes = get_max_cubes(game)\n",
    "    print(max_cubes)\n",
    "    print(compare_require(max_cubes,require_cubes))"
   ]
  },
  {
   "cell_type": "markdown",
   "metadata": {},
   "source": [
    "**AI Prompt**\n",
    "\n",
    "what's next?"
   ]
  },
  {
   "cell_type": "markdown",
   "metadata": {},
   "source": [
    "**AI Response**\n",
    "\n",
    "Now we need to:\n",
    "\n",
    "1. Keep track of the game IDs (remember games are numbered from 1 to 5 in our example)\n",
    "2. Sum up the IDs of only the possible games (where compare_require returns True)\n",
    "\n",
    "Would you like to modify the loop to include the game ID and sum up the valid game IDs? We can use enumerate() to get both the index and the game value.\n",
    "\n",
    "Would you like to try that?"
   ]
  },
  {
   "cell_type": "code",
   "execution_count": null,
   "metadata": {},
   "outputs": [
    {
     "name": "stdout",
     "output_type": "stream",
     "text": [
      "1\n",
      "2\n",
      "3\n",
      "4\n",
      "5\n"
     ]
    }
   ],
   "source": [
    "for index, game in enumerate(xs,start=1):print(index)"
   ]
  },
  {
   "cell_type": "code",
   "execution_count": null,
   "metadata": {},
   "outputs": [
    {
     "data": {
      "text/plain": [
       "[1, 2, 5]"
      ]
     },
     "metadata": {},
     "output_type": "execute_result"
    }
   ],
   "source": [
    "index_sum = []\n",
    "for index, game in enumerate(xs,start=1):\n",
    "    max_cubes = get_max_cubes(game)\n",
    "    if compare_require(max_cubes,require_cubes):\n",
    "        index_sum.append(index)\n",
    "\n",
    "index_sum"
   ]
  },
  {
   "cell_type": "code",
   "execution_count": null,
   "metadata": {},
   "outputs": [],
   "source": [
    "index_sum = 0\n",
    "for index, game in enumerate(xs,start=1):\n",
    "    max_cubes = get_max_cubes(game)\n",
    "    if compare_require(max_cubes,require_cubes):\n",
    "        index_sum+=index"
   ]
  },
  {
   "cell_type": "code",
   "execution_count": null,
   "metadata": {},
   "outputs": [
    {
     "data": {
      "text/plain": [
       "8"
      ]
     },
     "metadata": {},
     "output_type": "execute_result"
    }
   ],
   "source": [
    "index_sum"
   ]
  },
  {
   "cell_type": "code",
   "execution_count": null,
   "metadata": {},
   "outputs": [],
   "source": [
    "from aocd import get_data"
   ]
  },
  {
   "cell_type": "code",
   "execution_count": null,
   "metadata": {},
   "outputs": [],
   "source": [
    "inp = get_data(day=2,year=2023)"
   ]
  },
  {
   "cell_type": "code",
   "execution_count": null,
   "metadata": {},
   "outputs": [],
   "source": [
    "xs = inp.splitlines()"
   ]
  },
  {
   "cell_type": "code",
   "execution_count": null,
   "metadata": {},
   "outputs": [
    {
     "name": "stdout",
     "output_type": "stream",
     "text": [
      "\u001b[0;31m---------------------------------------------------------------------------\u001b[0m\n",
      "\u001b[0;31mValueError\u001b[0m                                Traceback (most recent call last)\n",
      "Cell \u001b[0;32mIn[1], line 3\u001b[0m\n",
      "\u001b[1;32m      1\u001b[0m index_sum \u001b[38;5;241m=\u001b[39m \u001b[38;5;241m0\u001b[39m\n",
      "\u001b[1;32m      2\u001b[0m \u001b[38;5;28;01mfor\u001b[39;00m index, game \u001b[38;5;129;01min\u001b[39;00m \u001b[38;5;28menumerate\u001b[39m(xs,start\u001b[38;5;241m=\u001b[39m\u001b[38;5;241m1\u001b[39m):\n",
      "\u001b[0;32m----> 3\u001b[0m     max_cubes \u001b[38;5;241m=\u001b[39m \u001b[43mget_max_cubes\u001b[49m\u001b[43m(\u001b[49m\u001b[43mgame\u001b[49m\u001b[43m)\u001b[49m\n",
      "\u001b[1;32m      4\u001b[0m     \u001b[38;5;28;01mif\u001b[39;00m compare_require(max_cubes,require_cubes):\n",
      "\u001b[1;32m      5\u001b[0m         index_sum\u001b[38;5;241m+\u001b[39m\u001b[38;5;241m=\u001b[39mindex\n",
      "\n",
      "Cell \u001b[0;32mIn[1], line 5\u001b[0m, in \u001b[0;36mget_max_cubes\u001b[0;34m(game)\u001b[0m\n",
      "\u001b[1;32m      3\u001b[0m \u001b[38;5;28;01mfor\u001b[39;00m g \u001b[38;5;129;01min\u001b[39;00m game\u001b[38;5;241m.\u001b[39msplit(\u001b[38;5;124m'\u001b[39m\u001b[38;5;124m; \u001b[39m\u001b[38;5;124m'\u001b[39m):\n",
      "\u001b[1;32m      4\u001b[0m     single \u001b[38;5;241m=\u001b[39m g\u001b[38;5;241m.\u001b[39msplit(\u001b[38;5;124m'\u001b[39m\u001b[38;5;124m, \u001b[39m\u001b[38;5;124m'\u001b[39m)\n",
      "\u001b[0;32m----> 5\u001b[0m     single_dict \u001b[38;5;241m=\u001b[39m \u001b[43mget_single_dict\u001b[49m\u001b[43m(\u001b[49m\u001b[43msingle\u001b[49m\u001b[43m)\u001b[49m\n",
      "\u001b[1;32m      6\u001b[0m     \u001b[38;5;28;01mfor\u001b[39;00m color \u001b[38;5;129;01min\u001b[39;00m single_dict:\n",
      "\u001b[1;32m      7\u001b[0m         max_cubes[color] \u001b[38;5;241m=\u001b[39m \u001b[38;5;28mmax\u001b[39m(max_cubes[color],single_dict[color])\n",
      "\n",
      "Cell \u001b[0;32mIn[1], line 5\u001b[0m, in \u001b[0;36mget_single_dict\u001b[0;34m(single)\u001b[0m\n",
      "\u001b[1;32m      3\u001b[0m \u001b[38;5;28;01mfor\u001b[39;00m o \u001b[38;5;129;01min\u001b[39;00m single:\n",
      "\u001b[1;32m      4\u001b[0m     single \u001b[38;5;241m=\u001b[39m o\u001b[38;5;241m.\u001b[39msplit(\u001b[38;5;124m'\u001b[39m\u001b[38;5;124m \u001b[39m\u001b[38;5;124m'\u001b[39m)\n",
      "\u001b[0;32m----> 5\u001b[0m     cubes[single[\u001b[38;5;241m1\u001b[39m]] \u001b[38;5;241m=\u001b[39m \u001b[38;5;28;43mint\u001b[39;49m\u001b[43m(\u001b[49m\u001b[43msingle\u001b[49m\u001b[43m[\u001b[49m\u001b[38;5;241;43m0\u001b[39;49m\u001b[43m]\u001b[49m\u001b[43m)\u001b[49m\n",
      "\u001b[1;32m      6\u001b[0m \u001b[38;5;28;01mreturn\u001b[39;00m cubes\n",
      "\n",
      "\u001b[0;31mValueError\u001b[0m: invalid literal for int() with base 10: 'Game'\n"
     ]
    },
    {
     "ename": "ValueError",
     "evalue": "invalid literal for int() with base 10: 'Game'",
     "output_type": "error",
     "traceback": "Traceback (most recent call last):\n  File \"/usr/local/lib/python3.11/site-packages/IPython/core/interactiveshell.py\", line 3577, in run_code\n    exec(code_obj, self.user_global_ns, self.user_ns)\n  File \"<ipython-input-1-322d148b1048>\", line 3, in <module>\n    max_cubes = get_max_cubes(game)\n                ^^^^^^^^^^^^^^^^^^^\n  File \"<ipython-input-1-e8eaea586eab>\", line 5, in get_max_cubes\n    single_dict = get_single_dict(single)\n                  ^^^^^^^^^^^^^^^^^^^^^^^\n  File \"<ipython-input-1-a7e31a22c225>\", line 5, in get_single_dict\n    cubes[single[1]] = int(single[0])\n                       ^^^^^^^^^^^^^^\nValueError: invalid literal for int() with base 10: 'Game'\n"
    }
   ],
   "source": [
    "index_sum = 0\n",
    "for index, game in enumerate(xs,start=1):\n",
    "    max_cubes = get_max_cubes(game)\n",
    "    if compare_require(max_cubes,require_cubes):\n",
    "        index_sum+=index\n",
    "index_sum"
   ]
  },
  {
   "cell_type": "code",
   "execution_count": null,
   "metadata": {},
   "outputs": [
    {
     "data": {
      "text/plain": [
       "['Game 1: 7 red, 14 blue; 2 blue, 3 red, 3 green; 4 green, 12 blue, 15 red; 3 green, 12 blue, 3 red; 11 red, 2 green',\n",
       " 'Game 2: 16 blue, 9 red, 5 green; 8 red; 8 blue, 5 green, 12 red; 11 blue, 8 green, 17 red',\n",
       " 'Game 3: 8 green, 1 blue, 7 red; 12 red, 6 blue, 9 green; 2 blue, 1 red, 14 green; 9 green, 4 red; 2 red, 1 blue, 8 green',\n",
       " 'Game 4: 1 blue, 3 green; 2 green, 1 blue, 1 red; 1 red, 3 green',\n",
       " 'Game 5: 6 red, 1 blue; 1 green; 5 red, 2 green; 1 red, 1 blue, 3 green',\n",
       " 'Game 6: 3 green, 4 red, 1 blue; 2 blue, 5 green, 2 red; 12 green, 3 blue, 2 red; 4 blue, 1 green, 4 red; 11 green, 6 red; 5 green, 10 red, 3 blue',\n",
       " 'Game 7: 2 blue, 3 green, 16 red; 1 blue, 3 red; 2 green, 13 red; 18 red, 2 blue, 1 green; 3 red, 1 blue',\n",
       " 'Game 8: 4 red, 3 blue, 8 green; 2 red, 16 green; 2 red, 1 blue',\n",
       " 'Game 9: 4 green, 14 blue, 8 red; 17 blue, 3 red, 5 green; 2 green, 4 red, 6 blue; 7 red, 2 green, 18 blue; 3 red, 19 blue, 4 green; 4 green, 8 red, 6 blue',\n",
       " 'Game 10: 12 green, 7 red, 1 blue; 6 red, 12 green; 6 red, 7 green, 1 blue; 1 red, 1 blue, 18 green; 11 green, 1 blue']"
      ]
     },
     "metadata": {},
     "output_type": "execute_result"
    }
   ],
   "source": [
    "xs[:10]"
   ]
  },
  {
   "cell_type": "code",
   "execution_count": null,
   "metadata": {},
   "outputs": [],
   "source": [
    "def process_raw(inp):\n",
    "    xs = [o for o in inp.splitlines() if o]\n",
    "    xs = [o.split(': ')[1] for o in xs]\n",
    "    return xs"
   ]
  },
  {
   "cell_type": "code",
   "execution_count": null,
   "metadata": {},
   "outputs": [],
   "source": [
    "out = process_raw(inp)"
   ]
  },
  {
   "cell_type": "code",
   "execution_count": null,
   "metadata": {},
   "outputs": [
    {
     "data": {
      "text/plain": [
       "['7 red, 14 blue; 2 blue, 3 red, 3 green; 4 green, 12 blue, 15 red; 3 green, 12 blue, 3 red; 11 red, 2 green',\n",
       " '16 blue, 9 red, 5 green; 8 red; 8 blue, 5 green, 12 red; 11 blue, 8 green, 17 red',\n",
       " '8 green, 1 blue, 7 red; 12 red, 6 blue, 9 green; 2 blue, 1 red, 14 green; 9 green, 4 red; 2 red, 1 blue, 8 green']"
      ]
     },
     "metadata": {},
     "output_type": "execute_result"
    }
   ],
   "source": [
    "out[:3]"
   ]
  },
  {
   "cell_type": "code",
   "execution_count": null,
   "metadata": {},
   "outputs": [
    {
     "data": {
      "text/plain": [
       "2204"
      ]
     },
     "metadata": {},
     "output_type": "execute_result"
    }
   ],
   "source": [
    "index_sum = 0\n",
    "for index, game in enumerate(out,start=1):\n",
    "    max_cubes = get_max_cubes(game)\n",
    "    if compare_require(max_cubes,require_cubes):\n",
    "        index_sum+=index\n",
    "index_sum"
   ]
  },
  {
   "cell_type": "markdown",
   "metadata": {},
   "source": [
    "## Part 2\n",
    "As you continue your walk, the Elf poses a second question: in each game you played, what is the fewest number of cubes of each color that could have been in the bag to make the game possible?\n",
    "\n",
    "Again consider the example games from earlier:\n",
    "```\n",
    "Game 1: 3 blue, 4 red; 1 red, 2 green, 6 blue; 2 green\n",
    "Game 2: 1 blue, 2 green; 3 green, 4 blue, 1 red; 1 green, 1 blue\n",
    "Game 3: 8 green, 6 blue, 20 red; 5 blue, 4 red, 13 green; 5 green, 1 red\n",
    "Game 4: 1 green, 3 red, 6 blue; 3 green, 6 red; 3 green, 15 blue, 14 red\n",
    "Game 5: 6 red, 1 blue, 3 green; 2 blue, 1 red, 2 green\n",
    "```\n",
    "In game 1, the game could have been played with as few as 4 red, 2 green, and 6 blue cubes. If any color had even one fewer cube, the game would have been impossible.\n",
    "Game 2 could have been played with a minimum of 1 red, 3 green, and 4 blue cubes.\n",
    "Game 3 must have been played with at least 20 red, 13 green, and 6 blue cubes.\n",
    "Game 4 required at least 14 red, 3 green, and 15 blue cubes.\n",
    "Game 5 needed no fewer than 6 red, 3 green, and 2 blue cubes in the bag.\n",
    "The power of a set of cubes is equal to the numbers of red, green, and blue cubes multiplied together. The power of the minimum set of cubes in game 1 is 48. In games 2-5 it was 12, 1560, 630, and 36, respectively. Adding up these five powers produces the sum 2286."
   ]
  },
  {
   "cell_type": "markdown",
   "metadata": {},
   "source": [
    "**AI Prompt**\n",
    "\n",
    "given a dictionary like \"{'red': 4, 'green': 2, 'blue': 6}\", how to get the number multiply together?"
   ]
  },
  {
   "cell_type": "markdown",
   "metadata": {},
   "source": [
    "**AI Response**\n",
    "\n",
    "To multiply the values in a dictionary together, you can use either a loop or the `math.prod()` function with dictionary values. Here's a simple way:\n",
    "\n",
    "```python\n",
    "d = {'red': 4, 'green': 2, 'blue': 6}\n",
    "result = 1\n",
    "for value in d.values():\n",
    "    result *= value\n",
    "```\n",
    "\n",
    "Or more concisely:\n",
    "```python\n",
    "from math import prod\n",
    "result = prod(d.values())\n",
    "```\n",
    "\n",
    "Would you like to try one of these approaches?"
   ]
  },
  {
   "cell_type": "code",
   "execution_count": null,
   "metadata": {},
   "outputs": [
    {
     "data": {
      "text/plain": [
       "{'green': 2}"
      ]
     },
     "metadata": {},
     "output_type": "execute_result"
    }
   ],
   "source": [
    "single_dict"
   ]
  },
  {
   "cell_type": "code",
   "execution_count": null,
   "metadata": {},
   "outputs": [
    {
     "data": {
      "text/plain": [
       "{'red': 15, 'green': 8, 'blue': 1}"
      ]
     },
     "metadata": {},
     "output_type": "execute_result"
    }
   ],
   "source": [
    "max_cubes"
   ]
  },
  {
   "cell_type": "code",
   "execution_count": null,
   "metadata": {},
   "outputs": [
    {
     "data": {
      "text/plain": [
       "dict_values([15, 8, 1])"
      ]
     },
     "metadata": {},
     "output_type": "execute_result"
    }
   ],
   "source": [
    "max_cubes.values()"
   ]
  },
  {
   "cell_type": "code",
   "execution_count": null,
   "metadata": {},
   "outputs": [
    {
     "name": "stdout",
     "output_type": "stream",
     "text": [
      "\u001b[0;31m---------------------------------------------------------------------------\u001b[0m\n",
      "\u001b[0;31mNameError\u001b[0m                                 Traceback (most recent call last)\n",
      "Cell \u001b[0;32mIn[1], line 1\u001b[0m\n",
      "\u001b[0;32m----> 1\u001b[0m \u001b[43mprod\u001b[49m(max_cubes\u001b[38;5;241m.\u001b[39mvalues())\n",
      "\n",
      "\u001b[0;31mNameError\u001b[0m: name 'prod' is not defined\n"
     ]
    },
    {
     "ename": "NameError",
     "evalue": "name 'prod' is not defined",
     "output_type": "error",
     "traceback": "Traceback (most recent call last):\n  File \"/usr/local/lib/python3.11/site-packages/IPython/core/interactiveshell.py\", line 3577, in run_code\n    exec(code_obj, self.user_global_ns, self.user_ns)\n  File \"<ipython-input-1-eb9df88530bf>\", line 1, in <module>\n    prod(max_cubes.values())\n    ^^^^\nNameError: name 'prod' is not defined\n"
    }
   ],
   "source": [
    "prod(max_cubes.values())"
   ]
  },
  {
   "cell_type": "code",
   "execution_count": null,
   "metadata": {},
   "outputs": [
    {
     "data": {
      "text/plain": [
       "120"
      ]
     },
     "metadata": {},
     "output_type": "execute_result"
    }
   ],
   "source": [
    "from math import prod\n",
    "prod(max_cubes.values())"
   ]
  },
  {
   "cell_type": "code",
   "execution_count": null,
   "metadata": {},
   "outputs": [
    {
     "data": {
      "text/plain": [
       "71036"
      ]
     },
     "metadata": {},
     "output_type": "execute_result"
    }
   ],
   "source": [
    "product_sum = 0\n",
    "for game in out:\n",
    "    max_cubes = get_max_cubes(game)\n",
    "    product = prod(max_cubes.values())\n",
    "    product_sum+=product\n",
    "product_sum"
   ]
  }
 ],
 "metadata": {
  "kernelspec": {
   "display_name": "Python 3",
   "language": "python",
   "name": "python3"
  },
  "language_info": {
   "codemirror_mode": {
    "name": "ipython",
    "version": 3
   },
   "file_extension": ".py",
   "mimetype": "text/x-python",
   "name": "python",
   "nbconvert_exporter": "python",
   "pygments_lexer": "ipython3",
   "version": "3.10.10"
  }
 },
 "nbformat": 4,
 "nbformat_minor": 4
}
