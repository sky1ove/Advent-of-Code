{
 "cells": [
  {
   "cell_type": "markdown",
   "metadata": {},
   "source": [
    "# AoC day1, 2023\n",
    "As they're making the final adjustments, they discover that their calibration document (your puzzle input) has been amended by a very young Elf who was apparently just excited to show off her art skills. Consequently, the Elves are having trouble reading the values on the document.\n",
    "\n",
    "The newly-improved calibration document consists of lines of text; each line originally contained a specific calibration value that the Elves now need to recover. On each line, the calibration value can be found by combining the first digit and the last digit (in that order) to form a single two-digit number.\n",
    "\n",
    "For example:\n",
    "```\n",
    "1abc2\n",
    "pqr3stu8vwx\n",
    "a1b2c3d4e5f\n",
    "treb7uchet\n",
    "```\n",
    "In this example, the calibration values of these four lines are 12, 38, 15, and 77. Adding these together produces 142."
   ]
  },
  {
   "cell_type": "code",
   "execution_count": null,
   "metadata": {},
   "outputs": [
    {
     "name": "stdout",
     "output_type": "stream",
     "text": [
      "\u001b[0;36m  Cell \u001b[0;32mIn[1], line 1\u001b[0;36m\u001b[0m\n",
      "\u001b[0;31m    samp='1abc2\u001b[0m\n",
      "\u001b[0m         ^\u001b[0m\n",
      "\u001b[0;31mSyntaxError\u001b[0m\u001b[0;31m:\u001b[0m unterminated string literal (detected at line 1)\n",
      "\n"
     ]
    }
   ],
   "source": [
    "samp='1abc2\n",
    "pqr3stu8vwx\n",
    "a1b2c3d4e5f\n",
    "treb7uchet\n",
    "'"
   ]
  },
  {
   "cell_type": "markdown",
   "metadata": {},
   "source": [
    "**AI Prompt**\n",
    "\n",
    "how do I fix this"
   ]
  },
  {
   "cell_type": "markdown",
   "metadata": {},
   "source": [
    "**AI Response**\n",
    "\n",
    "The error is occurring because Python is having trouble with the multi-line string. There are two ways to fix this:\n",
    "\n",
    "1. Use triple quotes (\"\"\" or ''') for multi-line strings, or\n",
    "2. Use the `\\n` character for line breaks in a regular string\n",
    "\n",
    "Here's option 1 with triple quotes:\n",
    "\n",
    "```python\n",
    "samp = '''1abc2\n",
    "pqr3stu8vwx\n",
    "a1b2c3d4e5f\n",
    "treb7uchet\n",
    "'''\n",
    "```\n",
    "\n",
    "Would you like to try one of these approaches? Let me know if you need any clarification!"
   ]
  },
  {
   "cell_type": "code",
   "execution_count": null,
   "metadata": {},
   "outputs": [],
   "source": [
    "samp = '''1abc2\n",
    "pqr3stu8vwx\n",
    "a1b2c3d4e5f\n",
    "treb7uchet\n",
    "'''"
   ]
  },
  {
   "cell_type": "code",
   "execution_count": null,
   "metadata": {},
   "outputs": [
    {
     "data": {
      "text/plain": [
       "['1abc2', 'pqr3stu8vwx', 'a1b2c3d4e5f', 'treb7uchet']"
      ]
     },
     "execution_count": null,
     "metadata": {},
     "output_type": "execute_result"
    }
   ],
   "source": [
    "lines = samp.splitlines() # .splitlines() can convert the \\n to list\n",
    "lines"
   ]
  },
  {
   "cell_type": "code",
   "execution_count": null,
   "metadata": {},
   "outputs": [],
   "source": [
    "x=lines[1]"
   ]
  },
  {
   "cell_type": "markdown",
   "metadata": {},
   "source": [
    "**AI Prompt**\n",
    "\n",
    "how do I tell if a character is a digit"
   ]
  },
  {
   "cell_type": "markdown",
   "metadata": {},
   "source": [
    "**AI Response**\n",
    "\n",
    "In Python, you can use the `isdigit()` method to check if a character is a digit. For example:\n",
    "\n",
    "```python\n",
    "'5'.isdigit()  # Returns True\n",
    "'a'.isdigit()  # Returns False\n",
    "```\n",
    "\n",
    "Would you like to try using this to check some characters in your strings? I can help you test it out!"
   ]
  },
  {
   "cell_type": "code",
   "execution_count": null,
   "metadata": {},
   "outputs": [],
   "source": [
    "from aocd import get_data\n",
    "inp = get_data(day=1,year=2023)"
   ]
  },
  {
   "cell_type": "code",
   "execution_count": null,
   "metadata": {},
   "outputs": [],
   "source": [
    "xs = inp.splitlines()"
   ]
  },
  {
   "cell_type": "code",
   "execution_count": null,
   "metadata": {},
   "outputs": [],
   "source": [
    "x = xs[0]"
   ]
  },
  {
   "cell_type": "code",
   "execution_count": null,
   "metadata": {},
   "outputs": [
    {
     "data": {
      "text/plain": [
       "['f', 'i', 'v', 'e', '8', 'b']"
      ]
     },
     "execution_count": null,
     "metadata": {},
     "output_type": "execute_result"
    }
   ],
   "source": [
    "[o for o in x]"
   ]
  },
  {
   "cell_type": "code",
   "execution_count": null,
   "metadata": {},
   "outputs": [
    {
     "data": {
      "text/plain": [
       "['8']"
      ]
     },
     "execution_count": null,
     "metadata": {},
     "output_type": "execute_result"
    }
   ],
   "source": [
    "[o for o in x if o.isdigit()]"
   ]
  },
  {
   "cell_type": "code",
   "execution_count": null,
   "metadata": {},
   "outputs": [],
   "source": [
    "digits = [o for o in x if o.isdigit()]"
   ]
  },
  {
   "cell_type": "code",
   "execution_count": null,
   "metadata": {},
   "outputs": [
    {
     "data": {
      "text/plain": [
       "('8', '8')"
      ]
     },
     "execution_count": null,
     "metadata": {},
     "output_type": "execute_result"
    }
   ],
   "source": [
    "digits[0],digits[-1]"
   ]
  },
  {
   "cell_type": "code",
   "execution_count": null,
   "metadata": {},
   "outputs": [
    {
     "data": {
      "text/plain": [
       "88"
      ]
     },
     "execution_count": null,
     "metadata": {},
     "output_type": "execute_result"
    }
   ],
   "source": [
    "int(digits[0]+digits[-1])"
   ]
  },
  {
   "cell_type": "code",
   "execution_count": null,
   "metadata": {},
   "outputs": [
    {
     "data": {
      "text/plain": [
       "'88'"
      ]
     },
     "execution_count": null,
     "metadata": {},
     "output_type": "execute_result"
    }
   ],
   "source": [
    "digits[0]+digits[-1]"
   ]
  },
  {
   "cell_type": "code",
   "execution_count": null,
   "metadata": {},
   "outputs": [
    {
     "name": "stdout",
     "output_type": "stream",
     "text": [
      "\u001b[0;31m---------------------------------------------------------------------------\u001b[0m\n",
      "\u001b[0;31mTypeError\u001b[0m                                 Traceback (most recent call last)\n",
      "Cell \u001b[0;32mIn[1], line 5\u001b[0m\n",
      "\u001b[1;32m      2\u001b[0m     digits \u001b[38;5;241m=\u001b[39m [o \u001b[38;5;28;01mfor\u001b[39;00m o \u001b[38;5;129;01min\u001b[39;00m x \u001b[38;5;28;01mif\u001b[39;00m o\u001b[38;5;241m.\u001b[39misdigit()]\n",
      "\u001b[1;32m      3\u001b[0m     \u001b[38;5;28;01mreturn\u001b[39;00m \u001b[38;5;28msum\u001b[39m(digits[\u001b[38;5;241m0\u001b[39m]\u001b[38;5;241m+\u001b[39mdigits[\u001b[38;5;241m-\u001b[39m\u001b[38;5;241m1\u001b[39m])\n",
      "\u001b[0;32m----> 5\u001b[0m \u001b[43mget_degits\u001b[49m\u001b[43m(\u001b[49m\u001b[38;5;124;43m'\u001b[39;49m\u001b[38;5;124;43mabc8\u001b[39;49m\u001b[38;5;124;43m'\u001b[39;49m\u001b[43m)\u001b[49m\n",
      "\n",
      "Cell \u001b[0;32mIn[1], line 3\u001b[0m, in \u001b[0;36mget_degits\u001b[0;34m(x)\u001b[0m\n",
      "\u001b[1;32m      1\u001b[0m \u001b[38;5;28;01mdef\u001b[39;00m \u001b[38;5;21mget_degits\u001b[39m(x):\n",
      "\u001b[1;32m      2\u001b[0m     digits \u001b[38;5;241m=\u001b[39m [o \u001b[38;5;28;01mfor\u001b[39;00m o \u001b[38;5;129;01min\u001b[39;00m x \u001b[38;5;28;01mif\u001b[39;00m o\u001b[38;5;241m.\u001b[39misdigit()]\n",
      "\u001b[0;32m----> 3\u001b[0m     \u001b[38;5;28;01mreturn\u001b[39;00m \u001b[38;5;28;43msum\u001b[39;49m\u001b[43m(\u001b[49m\u001b[43mdigits\u001b[49m\u001b[43m[\u001b[49m\u001b[38;5;241;43m0\u001b[39;49m\u001b[43m]\u001b[49m\u001b[38;5;241;43m+\u001b[39;49m\u001b[43mdigits\u001b[49m\u001b[43m[\u001b[49m\u001b[38;5;241;43m-\u001b[39;49m\u001b[38;5;241;43m1\u001b[39;49m\u001b[43m]\u001b[49m\u001b[43m)\u001b[49m\n",
      "\n",
      "\u001b[0;31mTypeError\u001b[0m: unsupported operand type(s) for +: 'int' and 'str'\n"
     ]
    },
    {
     "ename": "TypeError",
     "evalue": "unsupported operand type(s) for +: 'int' and 'str'",
     "output_type": "error",
     "traceback": [
      "Traceback (most recent call last):\n",
      "  File \"/usr/local/lib/python3.11/site-packages/IPython/core/interactiveshell.py\", line 3577, in run_code\n    exec(code_obj, self.user_global_ns, self.user_ns)\n",
      "  File \"<ipython-input-1-6d4b20b01d58>\", line 5, in <module>\n    get_degits('abc8')\n",
      "  File \"<ipython-input-1-6d4b20b01d58>\", line 3, in get_degits\n    return sum(digits[0]+digits[-1])\n           ^^^^^^^^^^^^^^^^^^^^^^^^^\n",
      "TypeError: unsupported operand type(s) for +: 'int' and 'str'\n"
     ]
    }
   ],
   "source": [
    "def get_degits(x):\n",
    "    digits = [o for o in x if o.isdigit()]\n",
    "    return sum(digits[0]+digits[-1])\n",
    "\n",
    "get_degits('abc8')"
   ]
  },
  {
   "cell_type": "code",
   "execution_count": null,
   "metadata": {},
   "outputs": [
    {
     "data": {
      "text/plain": [
       "88"
      ]
     },
     "execution_count": null,
     "metadata": {},
     "output_type": "execute_result"
    }
   ],
   "source": [
    "def get_degits(x):\n",
    "    digits = [o for o in x if o.isdigit()]\n",
    "    return int(digits[0]+digits[-1])\n",
    "\n",
    "get_degits('abc8')"
   ]
  },
  {
   "cell_type": "code",
   "execution_count": null,
   "metadata": {},
   "outputs": [
    {
     "data": {
      "text/plain": [
       "81"
      ]
     },
     "execution_count": null,
     "metadata": {},
     "output_type": "execute_result"
    }
   ],
   "source": [
    "get_degits('abc89asdb1')"
   ]
  },
  {
   "cell_type": "code",
   "execution_count": null,
   "metadata": {},
   "outputs": [
    {
     "data": {
      "text/plain": [
       "55029"
      ]
     },
     "execution_count": null,
     "metadata": {},
     "output_type": "execute_result"
    }
   ],
   "source": [
    "sum([get_degits(x) for x in xs])"
   ]
  },
  {
   "cell_type": "markdown",
   "metadata": {},
   "source": [
    "**AI Prompt**\n",
    "\n",
    "make a dictionary that have 'zero':0, from 0 - 9"
   ]
  },
  {
   "cell_type": "markdown",
   "metadata": {},
   "source": [
    "**AI Response**\n",
    "\n",
    "Here's how you can create a dictionary mapping number words to digits:\n",
    "\n",
    "```python\n",
    "nums = {\n",
    "    'zero': '0',\n",
    "    'one': '1',\n",
    "    'two': '2',\n",
    "    'three': '3',\n",
    "    'four': '4',\n",
    "    'five': '5',\n",
    "    'six': '6',\n",
    "    'seven': '7',\n",
    "    'eight': '8',\n",
    "    'nine': '9'\n",
    "}\n",
    "```\n",
    "\n",
    "Would you like to test it out? Let me know what you'd like to do with it!"
   ]
  },
  {
   "cell_type": "code",
   "execution_count": null,
   "metadata": {},
   "outputs": [],
   "source": [
    "nums = {\n",
    "    'zero': '0',\n",
    "    'one': '1',\n",
    "    'two': '2',\n",
    "    'three': '3',\n",
    "    'four': '4',\n",
    "    'five': '5',\n",
    "    'six': '6',\n",
    "    'seven': '7',\n",
    "    'eight': '8',\n",
    "    'nine': '9'\n",
    "}"
   ]
  },
  {
   "cell_type": "markdown",
   "metadata": {},
   "source": [
    "make a function have convert strings to number if they have those in nums"
   ]
  },
  {
   "cell_type": "markdown",
   "metadata": {},
   "source": [
    "**AI Prompt**\n",
    "\n",
    "make a function have convert strings to number if they have those in nums"
   ]
  },
  {
   "cell_type": "markdown",
   "metadata": {},
   "source": [
    "**AI Response**\n",
    "\n",
    "Let's break this down. Do you want to find and convert number words (like 'one', 'two') within a string into their digit equivalents?\n",
    "\n",
    "Before I suggest an approach, could you give me an example of what you want the function to do? For instance, what should happen with a string like \"onetwothree\" or \"hello2one\"?\n",
    "\n",
    "This will help me guide you toward the most appropriate solution."
   ]
  },
  {
   "cell_type": "code",
   "execution_count": null,
   "metadata": {},
   "outputs": [
    {
     "name": "stdout",
     "output_type": "stream",
     "text": [
      "\u001b[0;36m  Cell \u001b[0;32mIn[1], line 1\u001b[0;36m\u001b[0m\n",
      "\u001b[0;31m    hello2one would be hello21\u001b[0m\n",
      "\u001b[0m              ^\u001b[0m\n",
      "\u001b[0;31mSyntaxError\u001b[0m\u001b[0;31m:\u001b[0m invalid syntax\n",
      "\n"
     ]
    }
   ],
   "source": [
    "hello2one would be hello21"
   ]
  },
  {
   "cell_type": "markdown",
   "metadata": {},
   "source": [
    "**AI Prompt**\n",
    "\n",
    "hello2one would be hello21"
   ]
  },
  {
   "cell_type": "markdown",
   "metadata": {},
   "source": [
    "**AI Response**\n",
    "\n",
    "Ah, I understand now - you want to keep the digits and replace any number words with their corresponding digits. \n",
    "\n",
    "Let's think about how to solve this step by step:\n",
    "1. First, we'll need to find any number words in the string\n",
    "2. Then replace them with their corresponding digits\n",
    "3. Keep any existing digits unchanged\n",
    "\n",
    "Would you like to try writing this function, or would you like me to suggest some code to get started?"
   ]
  },
  {
   "cell_type": "markdown",
   "metadata": {},
   "source": [
    "**AI Prompt**\n",
    "\n",
    "yes, suggest some code"
   ]
  },
  {
   "cell_type": "markdown",
   "metadata": {},
   "source": [
    "**AI Response**\n",
    "\n",
    "Here's a starting point using string replacement:\n",
    "\n",
    "```python\n",
    "def convert_numbers(s):\n",
    "    result = s\n",
    "    for word, digit in nums.items():\n",
    "        result = result.replace(word, digit)\n",
    "    return result\n",
    "```\n",
    "\n",
    "Try this out and let me know if it works for your needs! We can test it with some examples like:\n",
    "- \"hello2one\"\n",
    "- \"twothree\"\n",
    "\n",
    "Would you like to try it?"
   ]
  },
  {
   "cell_type": "code",
   "execution_count": null,
   "metadata": {},
   "outputs": [
    {
     "name": "stdout",
     "output_type": "stream",
     "text": [
      "\u001b[0;31m---------------------------------------------------------------------------\u001b[0m\n",
      "\u001b[0;31mNameError\u001b[0m                                 Traceback (most recent call last)\n",
      "Cell \u001b[0;32mIn[1], line 6\u001b[0m\n",
      "\u001b[1;32m      3\u001b[0m         strings \u001b[38;5;241m=\u001b[39m strings\u001b[38;5;241m.\u001b[39mreplace(word,digit)\n",
      "\u001b[1;32m      4\u001b[0m     \u001b[38;5;28;01mreturn\u001b[39;00m strings\n",
      "\u001b[0;32m----> 6\u001b[0m \u001b[43mconvert_numbers\u001b[49m\u001b[43m(\u001b[49m\u001b[38;5;124;43m'\u001b[39;49m\u001b[38;5;124;43mhello1two\u001b[39;49m\u001b[38;5;124;43m'\u001b[39;49m\u001b[43m)\u001b[49m\n",
      "\n",
      "Cell \u001b[0;32mIn[1], line 3\u001b[0m, in \u001b[0;36mconvert_numbers\u001b[0;34m(strings)\u001b[0m\n",
      "\u001b[1;32m      1\u001b[0m \u001b[38;5;28;01mdef\u001b[39;00m \u001b[38;5;21mconvert_numbers\u001b[39m(strings):\n",
      "\u001b[1;32m      2\u001b[0m     \u001b[38;5;28;01mfor\u001b[39;00m world, digit \u001b[38;5;129;01min\u001b[39;00m nums\u001b[38;5;241m.\u001b[39mitems():\n",
      "\u001b[0;32m----> 3\u001b[0m         strings \u001b[38;5;241m=\u001b[39m strings\u001b[38;5;241m.\u001b[39mreplace(\u001b[43mword\u001b[49m,digit)\n",
      "\u001b[1;32m      4\u001b[0m     \u001b[38;5;28;01mreturn\u001b[39;00m strings\n",
      "\n",
      "\u001b[0;31mNameError\u001b[0m: name 'word' is not defined\n"
     ]
    },
    {
     "ename": "NameError",
     "evalue": "name 'word' is not defined",
     "output_type": "error",
     "traceback": [
      "Traceback (most recent call last):\n",
      "  File \"/usr/local/lib/python3.11/site-packages/IPython/core/interactiveshell.py\", line 3577, in run_code\n    exec(code_obj, self.user_global_ns, self.user_ns)\n",
      "  File \"<ipython-input-1-e8ad9b5fe513>\", line 6, in <module>\n    convert_numbers('hello1two')\n",
      "  File \"<ipython-input-1-e8ad9b5fe513>\", line 3, in convert_numbers\n    strings = strings.replace(word,digit)\n                              ^^^^\n",
      "NameError: name 'word' is not defined\n"
     ]
    }
   ],
   "source": [
    "def convert_numbers(strings):\n",
    "    for world, digit in nums.items():\n",
    "        strings = strings.replace(word,digit)\n",
    "    return strings\n",
    "\n",
    "convert_numbers('hello1two')"
   ]
  },
  {
   "cell_type": "code",
   "execution_count": null,
   "metadata": {},
   "outputs": [
    {
     "data": {
      "text/plain": [
       "'hello12'"
      ]
     },
     "execution_count": null,
     "metadata": {},
     "output_type": "execute_result"
    }
   ],
   "source": [
    "def convert_numbers(strings):\n",
    "    for word, digit in nums.items():\n",
    "        strings = strings.replace(word,digit)\n",
    "    return strings\n",
    "\n",
    "convert_numbers('hello1two')"
   ]
  },
  {
   "cell_type": "code",
   "execution_count": null,
   "metadata": {},
   "outputs": [],
   "source": [
    "xs_converted = [convert_numbers(o) for o in xs]"
   ]
  },
  {
   "cell_type": "code",
   "execution_count": null,
   "metadata": {},
   "outputs": [
    {
     "data": {
      "text/plain": [
       "'58b'"
      ]
     },
     "execution_count": null,
     "metadata": {},
     "output_type": "execute_result"
    }
   ],
   "source": [
    "xs_converted[0]"
   ]
  },
  {
   "cell_type": "code",
   "execution_count": null,
   "metadata": {},
   "outputs": [
    {
     "data": {
      "text/plain": [
       "'five8b'"
      ]
     },
     "execution_count": null,
     "metadata": {},
     "output_type": "execute_result"
    }
   ],
   "source": [
    "xs[0]"
   ]
  },
  {
   "cell_type": "code",
   "execution_count": null,
   "metadata": {},
   "outputs": [
    {
     "data": {
      "text/plain": [
       "88"
      ]
     },
     "execution_count": null,
     "metadata": {},
     "output_type": "execute_result"
    }
   ],
   "source": [
    "def get_degits(x):\n",
    "    digits = [o for o in x if o.isdigit()]\n",
    "    return int(digits[0]+digits[-1])\n",
    "\n",
    "get_degits('abc8')"
   ]
  },
  {
   "cell_type": "code",
   "execution_count": null,
   "metadata": {},
   "outputs": [
    {
     "data": {
      "text/plain": [
       "88"
      ]
     },
     "execution_count": null,
     "metadata": {},
     "output_type": "execute_result"
    }
   ],
   "source": [
    "def get_digits(x):\n",
    "    digits = [o for o in x if o.isdigit()]\n",
    "    return int(digits[0]+digits[-1])\n",
    "\n",
    "get_digits('abc8')"
   ]
  },
  {
   "cell_type": "code",
   "execution_count": null,
   "metadata": {},
   "outputs": [],
   "source": [
    "xs_digits = [get_digits(o) for o in xs_converted]"
   ]
  },
  {
   "cell_type": "code",
   "execution_count": null,
   "metadata": {},
   "outputs": [
    {
     "data": {
      "text/plain": [
       "58"
      ]
     },
     "execution_count": null,
     "metadata": {},
     "output_type": "execute_result"
    }
   ],
   "source": [
    "xs_digits[0]"
   ]
  },
  {
   "cell_type": "code",
   "execution_count": null,
   "metadata": {},
   "outputs": [
    {
     "data": {
      "text/plain": [
       "55194"
      ]
     },
     "execution_count": null,
     "metadata": {},
     "output_type": "execute_result"
    }
   ],
   "source": [
    "sum(xs_digits)"
   ]
  },
  {
   "cell_type": "markdown",
   "metadata": {},
   "source": [
    "**AI Prompt**\n",
    "\n",
    "for nums dictionary, could you also covers something like sixteen, basically all of the digits"
   ]
  },
  {
   "cell_type": "markdown",
   "metadata": {},
   "source": [
    "**AI Response**\n",
    "\n",
    "The `nums` dictionary currently only covers zero through nine, since those are the basic digit words. Numbers like \"sixteen\" are compound numbers (made up of \"six\" and \"teen\") and aren't typically converted to single digits.\n",
    "\n",
    "If you want to handle numbers like \"sixteen\", we should first clarify:\n",
    "1. What range of numbers do you want to cover?\n",
    "2. What digit should \"sixteen\" convert to - should it be '1' and '6', or something else?\n",
    "\n",
    "Let me know what you're trying to achieve and I can help you expand the dictionary appropriately!"
   ]
  },
  {
   "cell_type": "markdown",
   "metadata": {},
   "source": [
    "**AI Prompt**\n",
    "\n",
    "sixteen would be like 16, yes I'd like to have a dictionary of compound numbers"
   ]
  },
  {
   "cell_type": "markdown",
   "metadata": {},
   "source": [
    "**AI Response**\n",
    "\n",
    "I can help you create an expanded dictionary that includes compound numbers. Here's a suggestion - should we add:\n",
    "\n",
    "1. Numbers 11-19 (eleven through nineteen)\n",
    "2. Multiples of 10 up to 90 (twenty, thirty, etc.)\n",
    "3. Or would you like to go up to a specific number?\n",
    "\n",
    "Let me know which range you'd like to cover and I can help you create the appropriate dictionary!"
   ]
  },
  {
   "cell_type": "markdown",
   "metadata": {},
   "source": [
    "**AI Prompt**\n",
    "\n",
    "yes, 1-2"
   ]
  },
  {
   "cell_type": "markdown",
   "metadata": {},
   "source": [
    "**AI Response**\n",
    "\n",
    "I'll help you create an expanded dictionary that includes numbers 11-19 and the multiples of 10 up to 90. Here's the addition to your existing dictionary:\n",
    "\n",
    "```python\n",
    "nums.update({\n",
    "    'eleven': '11',\n",
    "    'twelve': '12',\n",
    "    'thirteen': '13',\n",
    "    'fourteen': '14',\n",
    "    'fifteen': '15',\n",
    "    'sixteen': '16',\n",
    "    'seventeen': '17',\n",
    "    'eighteen': '18',\n",
    "    'nineteen': '19',\n",
    "    'twenty': '20',\n",
    "    'thirty': '30',\n",
    "    'forty': '40',\n",
    "    'fifty': '50',\n",
    "    'sixty': '60',\n",
    "    'seventy': '70',\n",
    "    'eighty': '80',\n",
    "    'ninety': '90'\n",
    "})\n",
    "```\n",
    "\n",
    "Would you like to try this out and see if it works with your existing code?"
   ]
  },
  {
   "cell_type": "code",
   "execution_count": null,
   "metadata": {},
   "outputs": [],
   "source": [
    "nums.update({\n",
    "    'eleven': '11',\n",
    "    'twelve': '12',\n",
    "    'thirteen': '13',\n",
    "    'fourteen': '14',\n",
    "    'fifteen': '15',\n",
    "    'sixteen': '16',\n",
    "    'seventeen': '17',\n",
    "    'eighteen': '18',\n",
    "    'nineteen': '19',\n",
    "    'twenty': '20',\n",
    "    'thirty': '30',\n",
    "    'forty': '40',\n",
    "    'fifty': '50',\n",
    "    'sixty': '60',\n",
    "    'seventy': '70',\n",
    "    'eighty': '80',\n",
    "    'ninety': '90'\n",
    "})"
   ]
  },
  {
   "cell_type": "code",
   "execution_count": null,
   "metadata": {},
   "outputs": [
    {
     "data": {
      "text/plain": [
       "{'zero': '0',\n",
       " 'one': '1',\n",
       " 'two': '2',\n",
       " 'three': '3',\n",
       " 'four': '4',\n",
       " 'five': '5',\n",
       " 'six': '6',\n",
       " 'seven': '7',\n",
       " 'eight': '8',\n",
       " 'nine': '9',\n",
       " 'eleven': '11',\n",
       " 'twelve': '12',\n",
       " 'thirteen': '13',\n",
       " 'fourteen': '14',\n",
       " 'fifteen': '15',\n",
       " 'sixteen': '16',\n",
       " 'seventeen': '17',\n",
       " 'eighteen': '18',\n",
       " 'nineteen': '19',\n",
       " 'twenty': '20',\n",
       " 'thirty': '30',\n",
       " 'forty': '40',\n",
       " 'fifty': '50',\n",
       " 'sixty': '60',\n",
       " 'seventy': '70',\n",
       " 'eighty': '80',\n",
       " 'ninety': '90'}"
      ]
     },
     "execution_count": null,
     "metadata": {},
     "output_type": "execute_result"
    }
   ],
   "source": [
    "nums"
   ]
  },
  {
   "cell_type": "code",
   "execution_count": null,
   "metadata": {},
   "outputs": [
    {
     "data": {
      "text/plain": [
       "55194"
      ]
     },
     "execution_count": null,
     "metadata": {},
     "output_type": "execute_result"
    }
   ],
   "source": [
    "sum([get_digits(convert_numbers(o)) for o in xs])"
   ]
  },
  {
   "cell_type": "code",
   "execution_count": null,
   "metadata": {},
   "outputs": [
    {
     "data": {
      "text/plain": [
       "True"
      ]
     },
     "execution_count": null,
     "metadata": {},
     "output_type": "execute_result"
    }
   ],
   "source": [
    "'5'.isdigit()"
   ]
  },
  {
   "cell_type": "code",
   "execution_count": null,
   "metadata": {},
   "outputs": [
    {
     "data": {
      "text/plain": [
       "False"
      ]
     },
     "execution_count": null,
     "metadata": {},
     "output_type": "execute_result"
    }
   ],
   "source": [
    "'5sdf'.isdigit()"
   ]
  },
  {
   "cell_type": "code",
   "execution_count": null,
   "metadata": {},
   "outputs": [
    {
     "data": {
      "text/plain": [
       "False"
      ]
     },
     "execution_count": null,
     "metadata": {},
     "output_type": "execute_result"
    }
   ],
   "source": [
    "'s'.isdigit()"
   ]
  },
  {
   "cell_type": "code",
   "execution_count": null,
   "metadata": {},
   "outputs": [
    {
     "name": "stdout",
     "output_type": "stream",
     "text": [
      "Object `isalpha` not found.\n"
     ]
    }
   ],
   "source": [
    "'s'.isalpha??"
   ]
  },
  {
   "cell_type": "code",
   "execution_count": null,
   "metadata": {},
   "outputs": [
    {
     "data": {
      "text/plain": [
       "True"
      ]
     },
     "execution_count": null,
     "metadata": {},
     "output_type": "execute_result"
    }
   ],
   "source": [
    "'s'.isalpha()"
   ]
  },
  {
   "cell_type": "code",
   "execution_count": null,
   "metadata": {},
   "outputs": [
    {
     "data": {
      "text/plain": [
       "True"
      ]
     },
     "execution_count": null,
     "metadata": {},
     "output_type": "execute_result"
    }
   ],
   "source": [
    "'s'.isalnum()"
   ]
  },
  {
   "cell_type": "code",
   "execution_count": null,
   "metadata": {},
   "outputs": [
    {
     "data": {
      "text/plain": [
       "False"
      ]
     },
     "execution_count": null,
     "metadata": {},
     "output_type": "execute_result"
    }
   ],
   "source": [
    "'s'.istitle()"
   ]
  },
  {
   "cell_type": "code",
   "execution_count": null,
   "metadata": {},
   "outputs": [
    {
     "data": {
      "text/plain": [
       "True"
      ]
     },
     "execution_count": null,
     "metadata": {},
     "output_type": "execute_result"
    }
   ],
   "source": [
    "'Ssss'.istitle()"
   ]
  }
 ],
 "metadata": {
  "kernelspec": {
   "display_name": "Python 3",
   "language": "python",
   "name": "python3"
  },
  "language_info": {
   "codemirror_mode": {
    "name": "ipython",
    "version": 3
   },
   "file_extension": ".py",
   "mimetype": "text/x-python",
   "name": "python",
   "nbconvert_exporter": "python",
   "pygments_lexer": "ipython3",
   "version": "3.10.10"
  }
 },
 "nbformat": 4,
 "nbformat_minor": 4
}
