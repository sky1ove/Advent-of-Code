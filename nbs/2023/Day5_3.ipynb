{
 "cells": [
  {
   "cell_type": "markdown",
   "metadata": {},
   "source": [
    "## AOC Day 5\n",
    "The almanac (your puzzle input) lists all of the seeds that need to be planted. It also lists what type of soil to use with each kind of seed, what type of fertilizer to use with each kind of soil, what type of water to use with each kind of fertilizer, and so on. Every type of seed, soil, fertilizer and so on is identified with a number, but numbers are reused by each category - that is, soil 123 and fertilizer 123 aren't necessarily related to each other.\n",
    "\n",
    "For example:\n",
    "```\n",
    "seeds: 79 14 55 13\n",
    "\n",
    "seed-to-soil map:\n",
    "50 98 2\n",
    "52 50 48\n",
    "\n",
    "soil-to-fertilizer map:\n",
    "0 15 37\n",
    "37 52 2\n",
    "39 0 15\n",
    "\n",
    "fertilizer-to-water map:\n",
    "49 53 8\n",
    "0 11 42\n",
    "42 0 7\n",
    "57 7 4\n",
    "\n",
    "water-to-light map:\n",
    "88 18 7\n",
    "18 25 70\n",
    "\n",
    "light-to-temperature map:\n",
    "45 77 23\n",
    "81 45 19\n",
    "68 64 13\n",
    "\n",
    "temperature-to-humidity map:\n",
    "0 69 1\n",
    "1 0 69\n",
    "\n",
    "humidity-to-location map:\n",
    "60 56 37\n",
    "56 93 4\n",
    "```\n",
    "The almanac starts by listing which seeds need to be planted: seeds 79, 14, 55, and 13.\n",
    "\n",
    "The rest of the almanac contains a list of maps which describe how to convert numbers from a source category into numbers in a destination category. That is, the section that starts with seed-to-soil map: describes how to convert a seed number (the source) to a soil number (the destination). This lets the gardener and his team know which soil to use with which seeds, which water to use with which fertilizer, and so on.\n",
    "\n",
    "Rather than list every source number and its corresponding destination number one by one, the maps describe entire ranges of numbers that can be converted. Each line within a map contains three numbers: the destination range start, the source range start, and the range length.\n",
    "\n",
    "Consider again the example seed-to-soil map:\n",
    "```\n",
    "50 98 2\n",
    "52 50 48\n",
    "```\n",
    "The first line has a destination range start of 50, a source range start of 98, and a range length of 2. This line means that the source range starts at 98 and contains two values: 98 and 99. The destination range is the same length, but it starts at 50, so its two values are 50 and 51. With this information, you know that seed number 98 corresponds to soil number 50 and that seed number 99 corresponds to soil number 51.\n",
    "\n",
    "The second line means that the source range starts at 50 and contains 48 values: 50, 51, ..., 96, 97. This corresponds to a destination range starting at 52 and also containing 48 values: 52, 53, ..., 98, 99. So, seed number 53 corresponds to soil number 55.\n",
    "\n",
    "Any source numbers that aren't mapped correspond to the same destination number. So, seed number 10 corresponds to soil number 10.\n",
    "\n",
    "So, the entire list of seed numbers and their corresponding soil numbers looks like this:\n",
    "```\n",
    "seed  soil\n",
    "0     0\n",
    "1     1\n",
    "...   ...\n",
    "48    48\n",
    "49    49\n",
    "50    52\n",
    "51    53\n",
    "...   ...\n",
    "96    98\n",
    "97    99\n",
    "98    50\n",
    "99    51\n",
    "```\n",
    "With this map, you can look up the soil number required for each initial seed number:\n",
    "```\n",
    "Seed number 79 corresponds to soil number 81.\n",
    "Seed number 14 corresponds to soil number 14.\n",
    "Seed number 55 corresponds to soil number 57.\n",
    "Seed number 13 corresponds to soil number 13.\n",
    "```\n",
    "The gardener and his team want to get started as soon as possible, so they'd like to know the closest location that needs a seed. Using these maps, find the lowest location number that corresponds to any of the initial seeds. To do this, you'll need to convert each seed number through other categories until you can find its corresponding location number. In this example, the corresponding types are:\n",
    "```\n",
    "Seed 79, soil 81, fertilizer 81, water 81, light 74, temperature 78, humidity 78, location 82.\n",
    "Seed 14, soil 14, fertilizer 53, water 49, light 42, temperature 42, humidity 43, location 43.\n",
    "Seed 55, soil 57, fertilizer 57, water 53, light 46, temperature 82, humidity 82, location 86.\n",
    "Seed 13, soil 13, fertilizer 52, water 41, light 34, temperature 34, humidity 35, location 35.\n",
    "```\n",
    "So, the lowest location number in this example is 35."
   ]
  },
  {
   "cell_type": "code",
   "execution_count": null,
   "metadata": {},
   "outputs": [],
   "source": [
    "samp = '''\n",
    "seeds: 79 14 55 13\n",
    "\n",
    "seed-to-soil map:\n",
    "50 98 2\n",
    "52 50 48\n",
    "\n",
    "soil-to-fertilizer map:\n",
    "0 15 37\n",
    "37 52 2\n",
    "39 0 15\n",
    "\n",
    "fertilizer-to-water map:\n",
    "49 53 8\n",
    "0 11 42\n",
    "42 0 7\n",
    "57 7 4\n",
    "\n",
    "water-to-light map:\n",
    "88 18 7\n",
    "18 25 70\n",
    "\n",
    "light-to-temperature map:\n",
    "45 77 23\n",
    "81 45 19\n",
    "68 64 13\n",
    "\n",
    "temperature-to-humidity map:\n",
    "0 69 1\n",
    "1 0 69\n",
    "\n",
    "humidity-to-location map:\n",
    "60 56 37\n",
    "56 93 4\n",
    "'''"
   ]
  },
  {
   "cell_type": "code",
   "execution_count": null,
   "metadata": {},
   "outputs": [],
   "source": [
    "from fastcore.utils import L"
   ]
  },
  {
   "cell_type": "code",
   "execution_count": null,
   "metadata": {},
   "outputs": [
    {
     "data": {
      "text/plain": [
       "((#4) [79,14,55,13],\n",
       " ['seed-to-soil map:\\n50 98 2\\n52 50 48',\n",
       "  'soil-to-fertilizer map:\\n0 15 37\\n37 52 2\\n39 0 15',\n",
       "  'fertilizer-to-water map:\\n49 53 8\\n0 11 42\\n42 0 7\\n57 7 4',\n",
       "  'water-to-light map:\\n88 18 7\\n18 25 70',\n",
       "  'light-to-temperature map:\\n45 77 23\\n81 45 19\\n68 64 13',\n",
       "  'temperature-to-humidity map:\\n0 69 1\\n1 0 69',\n",
       "  'humidity-to-location map:\\n60 56 37\\n56 93 4\\n'])"
      ]
     },
     "execution_count": null,
     "metadata": {},
     "output_type": "execute_result"
    }
   ],
   "source": [
    "def process_input(samp):\n",
    "    seeds,*lines = samp.split('\\n\\n')\n",
    "    seeds = L(seeds.strip().split(':')[1].split()).map(int)\n",
    "    return seeds, lines\n",
    "seeds, lines = process_input(samp)\n",
    "seeds, lines"
   ]
  },
  {
   "cell_type": "code",
   "execution_count": null,
   "metadata": {},
   "outputs": [
    {
     "data": {
      "text/plain": [
       "(#7) [[[50, 98, 2], [52, 50, 48]],[[0, 15, 37], [37, 52, 2], [39, 0, 15]],[[49, 53, 8], [0, 11, 42], [42, 0, 7], [57, 7, 4]],[[88, 18, 7], [18, 25, 70]],[[45, 77, 23], [81, 45, 19], [68, 64, 13]],[[0, 69, 1], [1, 0, 69]],[[60, 56, 37], [56, 93, 4]]]"
      ]
     },
     "execution_count": null,
     "metadata": {},
     "output_type": "execute_result"
    }
   ],
   "source": [
    "def process(line): return L(line.split(':')[1].strip().split('\\n')).map(lambda x: L(x.split()).map(int))\n",
    "_lines = L(lines).map(process)\n",
    "_lines"
   ]
  },
  {
   "cell_type": "code",
   "execution_count": null,
   "metadata": {},
   "outputs": [
    {
     "data": {
      "text/plain": [
       "ref(dest=1, src=2, length=3)"
      ]
     },
     "execution_count": null,
     "metadata": {},
     "output_type": "execute_result"
    }
   ],
   "source": [
    "from dataclasses import dataclass\n",
    "@dataclass\n",
    "class ref: dest:int;src:int;length:int\n",
    "ref(1,2,3)"
   ]
  },
  {
   "cell_type": "code",
   "execution_count": null,
   "metadata": {},
   "outputs": [
    {
     "data": {
      "text/plain": [
       "ref(dest=1, src=2, length=3)"
      ]
     },
     "execution_count": null,
     "metadata": {},
     "output_type": "execute_result"
    }
   ],
   "source": [
    "a = ref(1,2,3)\n",
    "a.src_end=10\n",
    "a"
   ]
  },
  {
   "cell_type": "code",
   "execution_count": null,
   "metadata": {},
   "outputs": [
    {
     "data": {
      "text/plain": [
       "(#7) [[ref(dest=50, src=98, length=2), ref(dest=52, src=50, length=48)],[ref(dest=0, src=15, length=37), ref(dest=37, src=52, length=2), ref(dest=39, src=0, length=15)],[ref(dest=49, src=53, length=8), ref(dest=0, src=11, length=42), ref(dest=42, src=0, length=7), ref(dest=57, src=7, length=4)],[ref(dest=88, src=18, length=7), ref(dest=18, src=25, length=70)],[ref(dest=45, src=77, length=23), ref(dest=81, src=45, length=19), ref(dest=68, src=64, length=13)],[ref(dest=0, src=69, length=1), ref(dest=1, src=0, length=69)],[ref(dest=60, src=56, length=37), ref(dest=56, src=93, length=4)]]"
      ]
     },
     "execution_count": null,
     "metadata": {},
     "output_type": "execute_result"
    }
   ],
   "source": [
    "object_lines = _lines.map(lambda x: L(x).map(lambda o: ref(*o)))\n",
    "object_lines"
   ]
  },
  {
   "cell_type": "code",
   "execution_count": null,
   "metadata": {},
   "outputs": [
    {
     "data": {
      "text/plain": [
       "(#2) [ref(dest=50, src=98, length=2),ref(dest=52, src=50, length=48)]"
      ]
     },
     "execution_count": null,
     "metadata": {},
     "output_type": "execute_result"
    }
   ],
   "source": [
    "line = object_lines[0]\n",
    "line"
   ]
  },
  {
   "cell_type": "code",
   "execution_count": null,
   "metadata": {},
   "outputs": [
    {
     "data": {
      "text/plain": [
       "seed(src=90, length=10)"
      ]
     },
     "execution_count": null,
     "metadata": {},
     "output_type": "execute_result"
    }
   ],
   "source": [
    "@dataclass\n",
    "class seed: src:int;length:int\n",
    "seed(90,10)"
   ]
  },
  {
   "cell_type": "code",
   "execution_count": null,
   "metadata": {},
   "outputs": [],
   "source": []
  },
  {
   "cell_type": "markdown",
   "metadata": {},
   "source": [
    "## Part2\n",
    "Everyone will starve if you only plant such a small number of seeds. Re-reading the almanac, it looks like the seeds: line actually describes ranges of seed numbers.\n",
    "\n",
    "The values on the initial seeds: line come in pairs. Within each pair, the first value is the start of the range and the second value is the length of the range. So, in the first line of the example above:\n",
    "\n",
    "seeds: 79 14 55 13\n",
    "This line describes two ranges of seed numbers to be planted in the garden. The first range starts with seed number 79 and contains 14 values: 79, 80, ..., 91, 92. The second range starts with seed number 55 and contains 13 values: 55, 56, ..., 66, 67.\n",
    "\n",
    "Now, rather than considering four seed numbers, you need to consider a total of 27 seed numbers.\n",
    "\n",
    "In the above example, the lowest location number can be obtained from seed number 82, which corresponds to soil 84, fertilizer 84, water 84, light 77, temperature 45, humidity 46, and location 46. So, the lowest location number is 46."
   ]
  },
  {
   "cell_type": "markdown",
   "metadata": {},
   "source": [
    "**AI Prompt**\n",
    "\n",
    "if you look at part two, it seems not to process single seed at a time, but to process something like 'a', how to convert 'a' based on 'line'"
   ]
  },
  {
   "cell_type": "markdown",
   "metadata": {},
   "source": [
    "**AI Response**\n",
    "\n",
    "Let's think about how to convert a range of seeds (represented by your `a` object which has a start position `src` and a `length`) using a mapping line.\n",
    "\n",
    "Looking at your example:\n",
    "- `a` represents a range starting at 90 with length 10 (so it covers 90-99)\n",
    "- `line` has two mapping rules:\n",
    "  1. 98->50 for length 2 (98,99 map to 50,51)\n",
    "  2. 50->52 for length 48 (50-97 map to 52-99)\n",
    "\n",
    "Would you like me to help you think through how these ranges might overlap and what output ranges we should get? Let's break this down step by step.\n",
    "\n",
    "Would you like to start by considering what happens when an input range overlaps with a mapping rule?"
   ]
  },
  {
   "cell_type": "markdown",
   "metadata": {},
   "source": [
    "**AI Prompt**\n",
    "\n",
    "help me think"
   ]
  },
  {
   "cell_type": "markdown",
   "metadata": {},
   "source": [
    "**AI Response**\n",
    "\n",
    "Okay, let's visualize this specific example:\n",
    "\n",
    "Your input range (a): 90 to 99 (length 10)\n",
    "\n",
    "The mapping rules in `line`:\n",
    "1. Rule 1: 98,99 → 50,51\n",
    "2. Rule 2: 50-97 → 52-99\n",
    "\n",
    "Looking at your input range (90-99), it gets split into two parts:\n",
    "1. 90-97 (falls under Rule 2)\n",
    "2. 98-99 (falls under Rule 1)\n",
    "\n",
    "Shall we work out what happens to each part? Which part would you like to look at first?"
   ]
  },
  {
   "cell_type": "markdown",
   "metadata": {},
   "source": [
    "**AI Prompt**\n",
    "\n",
    "how to code"
   ]
  },
  {
   "cell_type": "markdown",
   "metadata": {},
   "source": [
    "**AI Response**\n",
    "\n",
    "Let's break this down into steps. First, we need a function that can handle one input range and one mapping rule. Here's what we need to check:\n",
    "\n",
    "1. Does the input range overlap with the mapping rule at all?\n",
    "2. If it does overlap, what are the overlapping and non-overlapping parts?\n",
    "\n",
    "Would you like me to help you write this function step by step? We can start with just checking if two ranges overlap.\n",
    "\n",
    "Or would you prefer to try writing some code yourself first? Let me know which approach you'd prefer!"
   ]
  },
  {
   "cell_type": "markdown",
   "metadata": {},
   "source": [
    "**AI Prompt**\n",
    "\n",
    "write this function"
   ]
  },
  {
   "cell_type": "markdown",
   "metadata": {},
   "source": [
    "**AI Response**\n",
    "\n",
    "I'll help you write a function to check if two ranges overlap. Let's start with this basic function:\n",
    "\n",
    "```python\n",
    "def ranges_overlap(range1_start, range1_length, range2_start, range2_length):\n",
    "    range1_end = range1_start + range1_length - 1\n",
    "    range2_end = range2_start + range2_length - 1\n",
    "    \n",
    "    return not (range1_end < range2_start or range1_start > range2_end)\n",
    "```\n",
    "\n",
    "Would you like to test this function with some example cases before we move on to handling the overlapping parts?"
   ]
  },
  {
   "cell_type": "code",
   "execution_count": null,
   "metadata": {},
   "outputs": [
    {
     "data": {
      "text/plain": [
       "namespace(dest=50, src=98, length=2)"
      ]
     },
     "execution_count": null,
     "metadata": {},
     "output_type": "execute_result"
    }
   ],
   "source": [
    "l = line[0]\n",
    "l"
   ]
  },
  {
   "cell_type": "code",
   "execution_count": null,
   "metadata": {},
   "outputs": [
    {
     "data": {
      "text/plain": [
       "True"
      ]
     },
     "execution_count": null,
     "metadata": {},
     "output_type": "execute_result"
    }
   ],
   "source": [
    "def is_overlap(a,l): return a.src<(l.src+l.length) and l.src<(a.src+a.length)\n",
    "is_overlap(a,l)"
   ]
  },
  {
   "cell_type": "code",
   "execution_count": null,
   "metadata": {},
   "outputs": [
    {
     "data": {
      "text/plain": [
       "True"
      ]
     },
     "execution_count": null,
     "metadata": {},
     "output_type": "execute_result"
    }
   ],
   "source": [
    "is_overlap(get_seed_object(10,5),get_seed_object(6,5))"
   ]
  },
  {
   "cell_type": "markdown",
   "metadata": {},
   "source": [
    "**AI Prompt**\n",
    "\n",
    "how to get new object based on a and many l that with a starting point, and a length as class object, it can return multiple cutted class object"
   ]
  },
  {
   "cell_type": "markdown",
   "metadata": {},
   "source": [
    "**AI Response**\n",
    "\n",
    "Let's write a function that takes an input range object (`a`) and a list of mapping rules (`l`), and returns a list of new range objects for the mapped parts. Here's a suggested approach:\n",
    "\n",
    "```python\n",
    "def map_range(a, rules):\n",
    "    result = []\n",
    "    # Each object in result will have a src and length, just like input\n",
    "    # We'll need to:\n",
    "    # 1. Find overlapping parts\n",
    "    # 2. Calculate new starting points based on the mapping rules\n",
    "    # 3. Handle parts that don't overlap with any rules (they map to themselves)\n",
    "    \n",
    "    return result\n",
    "```\n",
    "\n",
    "Would you like to work through this step by step? We can start by handling a single overlap between the input range and one rule, then build up to handling multiple rules. Which part would you like to tackle first?"
   ]
  },
  {
   "cell_type": "markdown",
   "metadata": {},
   "source": [
    "**AI Prompt**\n",
    "\n",
    "yes, make the function"
   ]
  },
  {
   "cell_type": "markdown",
   "metadata": {},
   "source": [
    "**AI Response**\n",
    "\n",
    "Let's build the function step by step. First, let's handle a single input range and a single rule:\n",
    "\n",
    "```python\n",
    "def map_single_range(a, rule):\n",
    "    # No overlap case\n",
    "    if not is_overlap(a, rule): \n",
    "        return [a]\n",
    "    \n",
    "    # Calculate overlapping region\n",
    "    start = max(a.src, rule.src)\n",
    "    end = min(a.src + a.length, rule.src + rule.length)\n",
    "    \n",
    "    # Calculate new destination for overlapping part\n",
    "    offset = rule.dest - rule.src\n",
    "    mapped = get_seed_object(start + offset, end - start)\n",
    "    \n",
    "    result = []\n",
    "    # Add part before overlap if it exists\n",
    "    if a.src < rule.src:\n",
    "        result.append(get_seed_object(a.src, rule.src - a.src))\n",
    "    \n",
    "    # Add mapped part\n",
    "    result.append(mapped)\n",
    "    \n",
    "    # Add part after overlap if it exists\n",
    "    if a.src + a.length > rule.src + rule.length:\n",
    "        after_start = rule.src + rule.length\n",
    "        result.append(get_seed_object(after_start, (a.src + a.length) - after_start))\n",
    "    \n",
    "    return result\n",
    "```\n",
    "\n",
    "Would you like to test this with a simple example before we build the function that handles multiple rules?"
   ]
  },
  {
   "cell_type": "markdown",
   "metadata": {},
   "source": [
    "**AI Prompt**\n",
    "\n",
    "yes"
   ]
  },
  {
   "cell_type": "markdown",
   "metadata": {},
   "source": [
    "**AI Response**\n",
    "\n",
    "Let's test with your previous example:\n",
    "```python\n",
    "# Test case: range 90-99 (length 10) with rule 98->50 (length 2)\n",
    "test_range = get_seed_object(90, 10)\n",
    "test_rule = line[0]  # This was the rule mapping 98,99 to 50,51\n",
    "\n",
    "result = map_single_range(test_range, test_rule)\n",
    "for r in result:\n",
    "    print(f\"Range starting at {r.src} with length {r.length}\")\n",
    "```\n",
    "\n",
    "Would you like to try this and see if it gives the expected splits? We can then examine if the results make sense before moving on to handling multiple rules."
   ]
  },
  {
   "cell_type": "code",
   "execution_count": null,
   "metadata": {},
   "outputs": [
    {
     "name": "stdout",
     "output_type": "stream",
     "text": [
      "Range starting at 90 with length 8\n",
      "Range starting at 50 with length 2\n"
     ]
    }
   ],
   "source": [
    "def map_single_range(a, rule):\n",
    "    # No overlap case\n",
    "    if not is_overlap(a, rule): \n",
    "        return [a]\n",
    "    \n",
    "    # Calculate overlapping region\n",
    "    start = max(a.src, rule.src)\n",
    "    end = min(a.src + a.length, rule.src + rule.length)\n",
    "    \n",
    "    # Calculate new destination for overlapping part\n",
    "    offset = rule.dest - rule.src\n",
    "    mapped = get_seed_object(start + offset, end - start)\n",
    "    \n",
    "    result = []\n",
    "    # Add part before overlap if it exists\n",
    "    if a.src < rule.src:\n",
    "        result.append(get_seed_object(a.src, rule.src - a.src))\n",
    "    \n",
    "    # Add mapped part\n",
    "    result.append(mapped)\n",
    "    \n",
    "    # Add part after overlap if it exists\n",
    "    if a.src + a.length > rule.src + rule.length:\n",
    "        after_start = rule.src + rule.length\n",
    "        result.append(get_seed_object(after_start, (a.src + a.length) - after_start))\n",
    "    \n",
    "    return result\n",
    "\n",
    "# Test case: range 90-99 (length 10) with rule 98->50 (length 2)\n",
    "test_range = get_seed_object(90, 10)\n",
    "test_rule = line[0]  # This was the rule mapping 98,99 to 50,51\n",
    "\n",
    "result = map_single_range(test_range, test_rule)\n",
    "for r in result:\n",
    "    print(f\"Range starting at {r.src} with length {r.length}\")"
   ]
  },
  {
   "cell_type": "markdown",
   "metadata": {},
   "source": [
    "**AI Prompt**\n",
    "\n",
    "how about handle multiple rules"
   ]
  },
  {
   "cell_type": "markdown",
   "metadata": {},
   "source": [
    "**AI Response**\n",
    "\n",
    "Let's write a function that handles multiple rules. We'll need to apply each rule in order and keep track of all the resulting ranges. Here's a suggested approach:\n",
    "\n",
    "```python\n",
    "def map_range(a, rules):\n",
    "    ranges_to_map = [a]\n",
    "    mapped_ranges = []\n",
    "    \n",
    "    for rule in rules:\n",
    "        new_ranges = []\n",
    "        for r in ranges_to_map:\n",
    "            new_ranges.extend(map_single_range(r, rule))\n",
    "        ranges_to_map = new_ranges\n",
    "    \n",
    "    return ranges_to_map\n",
    "```\n",
    "\n",
    "Would you like to test this with both rules from your example? We could try it with:\n",
    "```python\n",
    "test_range = get_seed_object(90, 10)  # 90-99\n",
    "result = map_range(test_range, line)\n",
    "```\n",
    "\n",
    "Shall we try this and examine the results?"
   ]
  },
  {
   "cell_type": "code",
   "execution_count": null,
   "metadata": {},
   "outputs": [],
   "source": [
    "def map_range(a, rules):\n",
    "    ranges_to_map = [a]\n",
    "    mapped_ranges = []\n",
    "    \n",
    "    for rule in rules:\n",
    "        new_ranges = []\n",
    "        for r in ranges_to_map:\n",
    "            new_ranges.extend(map_single_range(r, rule))\n",
    "        ranges_to_map = new_ranges\n",
    "    \n",
    "    return ranges_to_map\n",
    "\n",
    "test_range = get_seed_object(90, 10)  # 90-99\n",
    "result = map_range(test_range, line)"
   ]
  },
  {
   "cell_type": "code",
   "execution_count": null,
   "metadata": {},
   "outputs": [
    {
     "data": {
      "text/plain": [
       "[namespace(src=92, length=8), namespace(src=52, length=2)]"
      ]
     },
     "execution_count": null,
     "metadata": {},
     "output_type": "execute_result"
    }
   ],
   "source": [
    "result"
   ]
  },
  {
   "cell_type": "code",
   "execution_count": null,
   "metadata": {},
   "outputs": [
    {
     "data": {
      "text/plain": [
       "(#2) [namespace(dest=50, src=98, length=2),namespace(dest=52, src=50, length=48)]"
      ]
     },
     "execution_count": null,
     "metadata": {},
     "output_type": "execute_result"
    }
   ],
   "source": [
    "line"
   ]
  },
  {
   "cell_type": "markdown",
   "metadata": {},
   "source": [
    "**AI Prompt**\n",
    "\n",
    "is the result incorporate the two rules in line?"
   ]
  },
  {
   "cell_type": "markdown",
   "metadata": {},
   "source": [
    "**AI Response**\n",
    "\n",
    "Let's analyze what's happening:\n",
    "\n",
    "Your input range is 90-99 (length 10)\n",
    "\n",
    "The two rules are:\n",
    "1. 98->50 length 2 (98,99 → 50,51)\n",
    "2. 50->52 length 48 (50-97 → 52-99)\n",
    "\n",
    "Looking at the result:\n",
    "```python\n",
    "[namespace(src=92, length=8), namespace(src=52, length=2)]\n",
    "```\n",
    "\n",
    "This doesn't seem quite right. The first rule should split 90-99 into:\n",
    "- 90-97 (length 8)\n",
    "- 98-99 → 50-51 (length 2)\n",
    "\n",
    "Then the second rule should map 90-97 to 92-99 (since 50→52).\n",
    "\n",
    "Let's debug the function. Would you like to add some print statements to see how the ranges are being transformed at each step?"
   ]
  },
  {
   "cell_type": "markdown",
   "metadata": {},
   "source": [
    "**AI Prompt**\n",
    "\n",
    "modify the code to make it correct"
   ]
  },
  {
   "cell_type": "markdown",
   "metadata": {},
   "source": [
    "**AI Response**\n",
    "\n",
    "Let's modify the code with more detailed debug information first:\n",
    "\n",
    "```python\n",
    "def map_single_range(a, rule):\n",
    "    # No overlap case\n",
    "    if not is_overlap(a, rule): \n",
    "        return [a]\n",
    "    \n",
    "    # Calculate overlapping region\n",
    "    start = max(a.src, rule.src)\n",
    "    end = min(a.src + a.length, rule.src + rule.length)\n",
    "    \n",
    "    # Calculate new destination for overlapping part\n",
    "    offset = rule.dest - rule.src\n",
    "    mapped = get_seed_object(start + offset, end - start)\n",
    "    \n",
    "    result = []\n",
    "    # Add part before overlap if it exists\n",
    "    if a.src < rule.src:\n",
    "        result.append(get_seed_object(a.src, rule.src - a.src))\n",
    "    \n",
    "    # Add mapped part\n",
    "    result.append(mapped)\n",
    "    \n",
    "    # Add part after overlap if it exists\n",
    "    if a.src + a.length > rule.src + rule.length:\n",
    "        after_start = rule.src + rule.length\n",
    "        result.append(get_seed_object(after_start, (a.src + a.length) - after_start))\n",
    "    \n",
    "    print(f\"Input range: {a.src}-{a.src+a.length-1}\")\n",
    "    print(f\"Rule: {rule.src}-{rule.src+rule.length-1} → {rule.dest}-{rule.dest+rule.length-1}\")\n",
    "    print(f\"Result ranges: {[(r.src, r.length) for r in result]}\\n\")\n",
    "    return result\n",
    "\n",
    "def map_range(a, rules):\n",
    "    ranges_to_map = [a]\n",
    "    \n",
    "    for i, rule in enumerate(rules):\n",
    "        print(f\"\\nApplying rule {i+1}:\")\n",
    "        new_ranges = []\n",
    "        for r in ranges_to_map:\n",
    "            new_ranges.extend(map_single_range(r, rule))\n",
    "        ranges_to_map = new_ranges\n",
    "    \n",
    "    return ranges_to_map\n",
    "\n",
    "test_range = get_seed_object(90, 10)  # 90-99\n",
    "result = map_range(test_range, line)\n",
    "```\n",
    "\n",
    "Let's run this and see exactly what's happening at each step. Then we can fix any issues we find. Would you like to try this debug version?"
   ]
  },
  {
   "cell_type": "code",
   "execution_count": null,
   "metadata": {},
   "outputs": [
    {
     "name": "stdout",
     "output_type": "stream",
     "text": [
      "\n",
      "Applying rule 1:\n",
      "Input range: 90-99\n",
      "Rule: 98-99 → 50-51\n",
      "Result ranges: [(90, 8), (50, 2)]\n",
      "\n",
      "\n",
      "Applying rule 2:\n",
      "Input range: 90-97\n",
      "Rule: 50-97 → 52-99\n",
      "Result ranges: [(92, 8)]\n",
      "\n",
      "Input range: 50-51\n",
      "Rule: 50-97 → 52-99\n",
      "Result ranges: [(52, 2)]\n",
      "\n"
     ]
    },
    {
     "data": {
      "text/plain": [
       "[namespace(src=92, length=8), namespace(src=52, length=2)]"
      ]
     },
     "execution_count": null,
     "metadata": {},
     "output_type": "execute_result"
    }
   ],
   "source": [
    "def map_single_range(a, rule):\n",
    "    # No overlap case\n",
    "    if not is_overlap(a, rule): \n",
    "        return [a]\n",
    "    \n",
    "    # Calculate overlapping region\n",
    "    start = max(a.src, rule.src)\n",
    "    end = min(a.src + a.length, rule.src + rule.length)\n",
    "    \n",
    "    # Calculate new destination for overlapping part\n",
    "    offset = rule.dest - rule.src\n",
    "    mapped = get_seed_object(start + offset, end - start)\n",
    "    \n",
    "    result = []\n",
    "    # Add part before overlap if it exists\n",
    "    if a.src < rule.src:\n",
    "        result.append(get_seed_object(a.src, rule.src - a.src))\n",
    "    \n",
    "    # Add mapped part\n",
    "    result.append(mapped)\n",
    "    \n",
    "    # Add part after overlap if it exists\n",
    "    if a.src + a.length > rule.src + rule.length:\n",
    "        after_start = rule.src + rule.length\n",
    "        result.append(get_seed_object(after_start, (a.src + a.length) - after_start))\n",
    "    \n",
    "    print(f\"Input range: {a.src}-{a.src+a.length-1}\")\n",
    "    print(f\"Rule: {rule.src}-{rule.src+rule.length-1} → {rule.dest}-{rule.dest+rule.length-1}\")\n",
    "    print(f\"Result ranges: {[(r.src, r.length) for r in result]}\\n\")\n",
    "    return result\n",
    "\n",
    "def map_range(a, rules):\n",
    "    ranges_to_map = [a]\n",
    "    \n",
    "    for i, rule in enumerate(rules):\n",
    "        print(f\"\\nApplying rule {i+1}:\")\n",
    "        new_ranges = []\n",
    "        for r in ranges_to_map:\n",
    "            new_ranges.extend(map_single_range(r, rule))\n",
    "        ranges_to_map = new_ranges\n",
    "    \n",
    "    return ranges_to_map\n",
    "\n",
    "test_range = get_seed_object(90, 10)  # 90-99\n",
    "result = map_range(test_range, line)\n",
    "result"
   ]
  },
  {
   "cell_type": "markdown",
   "metadata": {},
   "source": [
    "**AI Prompt**\n",
    "\n",
    "do you think is this time correct?"
   ]
  },
  {
   "cell_type": "markdown",
   "metadata": {},
   "source": [
    "**AI Response**\n",
    "\n",
    "Let's analyze the steps:\n",
    "\n",
    "1. First rule (98→50, length 2):\n",
    "   - Split 90-99 into:\n",
    "     - 90-97 (length 8) - unmapped\n",
    "     - 98-99 → 50-51 (length 2) - mapped\n",
    "\n",
    "2. Second rule (50→52, length 48):\n",
    "   - 90-97 → 92-99 (mapped by adding offset of 2)\n",
    "   - 50-51 → 52-53 (mapped correctly)\n",
    "\n",
    "Yes, this looks correct now! Because:\n",
    "1. The part that was 98-99 got mapped to 50-51 by the first rule, then to 52-53 by the second rule\n",
    "2. The part that was 90-97 got mapped to 92-99 by the second rule\n",
    "\n",
    "The final ranges [92-99, 52-53] represent all the correct mappings. Would you like to verify this with a different test case?"
   ]
  }
 ],
 "metadata": {
  "kernelspec": {
   "display_name": "Python 3",
   "language": "python",
   "name": "python3"
  },
  "language_info": {
   "codemirror_mode": {
    "name": "ipython",
    "version": 3
   },
   "file_extension": ".py",
   "mimetype": "text/x-python",
   "name": "python",
   "nbconvert_exporter": "python",
   "pygments_lexer": "ipython3",
   "version": "3.10.10"
  }
 },
 "nbformat": 4,
 "nbformat_minor": 4
}
